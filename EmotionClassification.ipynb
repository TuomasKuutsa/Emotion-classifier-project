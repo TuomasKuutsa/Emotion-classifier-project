{
 "cells": [
  {
   "cell_type": "markdown",
   "id": "af2ef83b-7cfd-4c55-ad5f-233a970eb186",
   "metadata": {},
   "source": [
    "# Emotion classification project"
   ]
  },
  {
   "cell_type": "code",
   "execution_count": 1,
   "id": "87c0e686-0282-4544-acd5-89b5c368e134",
   "metadata": {},
   "outputs": [],
   "source": [
    "%matplotlib inline\n",
    "\n",
    "import pandas as pd\n",
    "import numpy as np\n",
    "import matplotlib.pyplot as plt\n",
    "from math import ceil, floor\n",
    "from time import time\n",
    "\n",
    "import librosa as lr\n",
    "import librosa.feature as lrf\n",
    "import librosa.display as lrd\n",
    "\n",
    "from multiprocessing import Pool\n",
    "from FeatureExtractor import feature_extractor\n",
    "import glob\n",
    "import os\n",
    "import traceback\n",
    "\n",
    "import joblib\n",
    "\n",
    "from pprint import pprint\n",
    "\n",
    "np.set_printoptions(suppress=True, precision=5)\n",
    "pd.options.display.float_format = '{:.5f}'.format"
   ]
  },
  {
   "cell_type": "code",
   "execution_count": 2,
   "id": "2b2b6bb3-5006-444a-a48f-580739a89829",
   "metadata": {},
   "outputs": [],
   "source": [
    "def create_data(path_list, n_masks=0, for_sklearn=True, n_mels=64, n_mfccs=20, only_mfccs=True):\n",
    "\n",
    "    data = []\n",
    "    target_class_list= []\n",
    "\n",
    "    arg_list = [(x, n_masks, for_sklearn, n_mels, n_mfccs, only_mfccs) for x in path_list]\n",
    "\n",
    "    with Pool(processes=8) as pool:\n",
    "        processed_samples = pool.starmap(feature_extractor, arg_list)\n",
    "        for s, t in processed_samples:\n",
    "            data.extend(s)\n",
    "            target_class_list.extend(t)\n",
    "\n",
    "            \n",
    "    return np.asarray(data), np.asarray(target_class_list)-1"
   ]
  },
  {
   "cell_type": "markdown",
   "id": "d0b0758c-ac8e-458b-9b8e-f7d8060e1108",
   "metadata": {},
   "source": [
    "## Scikit-learn model building"
   ]
  },
  {
   "cell_type": "code",
   "execution_count": 3,
   "id": "d59d98c9-2eb7-43b1-8855-c0c8fe4a5401",
   "metadata": {},
   "outputs": [],
   "source": [
    "from sklearn.pipeline import Pipeline, make_pipeline\n",
    "from sklearn.preprocessing import StandardScaler\n",
    "\n",
    "from sklearn.linear_model import LogisticRegression\n",
    "from sklearn.ensemble import RandomForestClassifier\n",
    "from sklearn.svm import SVC\n",
    "from sklearn.neural_network import MLPClassifier\n",
    "from xgboost import XGBClassifier\n",
    "\n",
    "from IncrementalSearch import time_taken\n",
    "import scipy.stats as sst\n",
    "\n",
    "from sklearn.model_selection import StratifiedKFold, StratifiedShuffleSplit, KFold, cross_val_score, train_test_split\n",
    "\n",
    "from sklearn.metrics import accuracy_score, f1_score, confusion_matrix\n",
    "import seaborn as sns"
   ]
  },
  {
   "cell_type": "code",
   "execution_count": 5,
   "id": "4602ff9e-ea7f-4c5c-b9fa-91608b792606",
   "metadata": {},
   "outputs": [],
   "source": [
    "path_list = glob.glob('speech-emotion-recognition-ravdess-data/Actor_*/*')\n",
    "targets = [int(path.split('-')[6]) for path in path_list]\n",
    "\n",
    "X_train_paths, X_test_paths = train_test_split(path_list, stratify=targets, test_size=0.10, random_state=42)"
   ]
  },
  {
   "cell_type": "code",
   "execution_count": 6,
   "id": "915ec491-184d-40fa-a9f6-f44989de5fcc",
   "metadata": {},
   "outputs": [],
   "source": [
    "X_train, y_train = create_data(X_train_paths)\n",
    "X_test, y_test = create_data(X_test_paths)\n",
    "\n",
    "joblib.dump(X_train, 'data/X_train'), joblib.dump(X_test, 'data/X_test')\n",
    "joblib.dump(y_train, 'data/y_train'), joblib.dump(y_test, 'data/y_test')"
   ]
  },
  {
   "cell_type": "code",
   "execution_count": 6,
   "id": "d1b5b3c8-9b46-415b-809d-ec88f3b55b59",
   "metadata": {},
   "outputs": [
    {
     "name": "stdout",
     "output_type": "stream",
     "text": [
      "(1296, 171)\n",
      "(1296,)\n",
      "\n",
      "Train set target label distribution:\n",
      "0   0.06636\n",
      "1   0.13349\n",
      "2   0.13349\n",
      "3   0.13349\n",
      "4   0.13349\n",
      "5   0.13349\n",
      "6   0.13349\n",
      "7   0.13272\n",
      "dtype: float64\n",
      "\n"
     ]
    }
   ],
   "source": [
    "X_train, y_train = joblib.load('data/X_train'), joblib.load('data/y_train')\n",
    "\n",
    "target_labels = ['neutral',\n",
    "                 'calm',\n",
    "                 'happy',\n",
    "                 'sad',\n",
    "                 'angry',\n",
    "                 'fearul',\n",
    "                 'disgust',\n",
    "                 'surprised']\n",
    "\n",
    "for i in [X_train, y_train]:\n",
    "    print(i.shape)\n",
    "    \n",
    "print(f'\\nTrain set target label distribution:\\n{pd.DataFrame(y_train).value_counts(normalize=True).sort_index()}\\n')"
   ]
  },
  {
   "cell_type": "markdown",
   "id": "2140f199-2e05-4ed8-ace6-f29e5e25bfea",
   "metadata": {},
   "source": [
    "### Evaluating default performance"
   ]
  },
  {
   "cell_type": "markdown",
   "id": "23b82fdb-bc27-43ce-970d-8b5441f26c9d",
   "metadata": {},
   "source": [
    "#### Does dataset augmentation make sense?"
   ]
  },
  {
   "cell_type": "code",
   "execution_count": null,
   "id": "5a95e2d1-1748-4ae5-a903-bd5d09a353c9",
   "metadata": {
    "tags": []
   },
   "outputs": [],
   "source": [
    "def augmentation_cv(clf_list, names, mask_list, train_paths):\n",
    "    \n",
    "    mask_scores = {}\n",
    "    \n",
    "    for n in mask_list:\n",
    "        folds = KFold()\n",
    "        classifier_scores = {}\n",
    "        print(f'Using {n} masks: \\n')\n",
    "        for name, classifier in zip(names, clf_list):\n",
    "            fold_scores = []\n",
    "            \n",
    "            print(f'Classifier: {classifier[-1].__class__.__name__}\\n')\n",
    "            for i, (train, val) in enumerate(folds.split(train_paths)):\n",
    "\n",
    "                t = time()\n",
    "                print(f'Fold: {i+1}')\n",
    "\n",
    "                X_train, y_train = create_data(np.array(train_paths)[train], n)\n",
    "                X_val, y_val = create_data(np.array(train_paths)[val], 0)\n",
    "\n",
    "                classifier.fit(X_train, y_train)\n",
    "\n",
    "                y_pred = classifier.predict(X_val)            \n",
    "                fold_scores.append(f1_score(y_val, y_pred, average='macro'))\n",
    "\n",
    "                time_taken(t, True)\n",
    "            print('============ END =============')    \n",
    "            classifier_scores[name] = np.mean(fold_scores)\n",
    "\n",
    "        mask_scores[n] = classifier_scores\n",
    "    return mask_scores\n"
   ]
  },
  {
   "cell_type": "code",
   "execution_count": null,
   "id": "008a2bfe-bb40-4a17-bee6-5623626b2443",
   "metadata": {
    "tags": []
   },
   "outputs": [],
   "source": [
    "names = ['LogisticRegression', 'SVC', 'RandomForestClassifier', 'MLPClassifier', 'XGBClassifier']\n",
    "\n",
    "augmentation_pipes = [make_pipeline(StandardScaler(), LogisticRegression(max_iter=1000, solver='liblinear')),\n",
    "                      make_pipeline(RandomForestClassifier()),\n",
    "                      make_pipeline(StandardScaler(), MLPClassifier(early_stopping=True)),\n",
    "                      make_pipeline(XGBClassifier(tree_method='gpu_hist', objective='multi:softmax', eval_metric='mlogloss', use_label_encoder=False, n_jobs=1))]\n",
    "\n",
    "n_masks = [0, 1, 3, 5, 8, 10]\n",
    "\n",
    "mask_scores = augmentation_cv(default_pipes, names, n_masks, X_train_paths)\n",
    "\n",
    "joblib.dump(mask_scores, 'results/AugmentationResults')"
   ]
  },
  {
   "cell_type": "code",
   "execution_count": null,
   "id": "94cfc38c-2f10-4d32-b265-230fa43665f4",
   "metadata": {
    "tags": []
   },
   "outputs": [],
   "source": [
    "augmentation_svc = [make_pipeline(StandardScaler(), SVC(kernel='rbf')),\n",
    "                    make_pipeline(StandardScaler(), SVC(kernel='linear')),\n",
    "                    make_pipeline(StandardScaler(), SVC(kernel='poly'))]\n",
    "\n",
    "n_masks = [0, 1, 3, 5, 8, 10]\n",
    "\n",
    "mask_scores = augmentation_cv(svc_pipes, ['rbf', 'linear', 'poly'], n_masks, X_train_paths)\n",
    "\n",
    "joblib.dump(mask_scores, 'results/SVCAugmentationResults')"
   ]
  },
  {
   "cell_type": "code",
   "execution_count": 70,
   "id": "58aa3278-19c5-42fc-a717-d2fff13f309a",
   "metadata": {
    "tags": []
   },
   "outputs": [
    {
     "data": {
      "image/png": "[encoded data removed]",
      "text/plain": [
       "<Figure size 1440x360 with 1 Axes>"
      ]
     },
     "metadata": {
      "needs_background": "light"
     },
     "output_type": "display_data"
    }
   ],
   "source": [
    "pd.DataFrame(joblib.load('results/AugmentationResults')).plot.bar(figsize=(20,5), ylim=(0.35), rot=0)\n",
    "plt.suptitle('Default classifier results with augmentation')\n",
    "plt.show()"
   ]
  },
  {
   "cell_type": "code",
   "execution_count": 69,
   "id": "3fd07ead-9ca6-4117-920c-bbe7c726fdbe",
   "metadata": {
    "tags": []
   },
   "outputs": [
    {
     "data": {
      "image/png": "[encoded data removed]",
      "text/plain": [
       "<Figure size 1440x360 with 1 Axes>"
      ]
     },
     "metadata": {
      "needs_background": "light"
     },
     "output_type": "display_data"
    }
   ],
   "source": [
    "pd.DataFrame(joblib.load('results/SVCAugmentationResults')).plot.bar(figsize=(20,5), ylim=(0.35), rot=0)\n",
    "plt.suptitle('Default SVC results with augmentation')\n",
    "plt.show()"
   ]
  },
  {
   "cell_type": "code",
   "execution_count": 10,
   "id": "395d99f2-311b-41f5-ba97-c1ff5171c2ae",
   "metadata": {
    "jupyter": {
     "source_hidden": true
    },
    "tags": []
   },
   "outputs": [],
   "source": [
    "def aug_cv(clf, n_masks, train_paths, n_folds):\n",
    "        \n",
    "    fold_scores = []\n",
    "    \n",
    "    folds = StratifiedKFold(n_splits=n_folds)\n",
    "    targets = [int(path.split('-')[6]) for path in train_paths]\n",
    "    \n",
    "    for i, (train, val) in enumerate(folds.split(train_paths, targets)):\n",
    "\n",
    "        t = time()\n",
    "        print(f'Fold: {i+1}')\n",
    "\n",
    "        X_train, y_train = create_data(np.array(train_paths)[train], n_masks)\n",
    "        X_val, y_val = create_data(np.array(train_paths)[val], 0)\n",
    "\n",
    "        clf.fit(X_train, y_train)\n",
    "\n",
    "        y_pred = clf.predict(X_val)            \n",
    "        fold_scores.append(f1_score(y_val, y_pred, average='macro'))\n",
    "\n",
    "        time_taken(t, True)\n",
    "\n",
    "    print('============ END =============\\n')    \n",
    "       \n",
    "    return np.asarray(fold_scores)"
   ]
  },
  {
   "cell_type": "code",
   "execution_count": 72,
   "id": "9b2dbd28-e291-4be3-be96-1cded4030ce3",
   "metadata": {
    "scrolled": true,
    "tags": []
   },
   "outputs": [
    {
     "name": "stdout",
     "output_type": "stream",
     "text": [
      "Fitting estimator LogisticRegression() with deafult parameters\n",
      "\n"
     ]
    },
    {
     "name": "stderr",
     "output_type": "stream",
     "text": [
      "[Parallel(n_jobs=-1)]: Using backend LokyBackend with 8 concurrent workers.\n",
      "[Parallel(n_jobs=-1)]: Done   2 out of   5 | elapsed:    1.3s remaining:    2.0s\n",
      "[Parallel(n_jobs=-1)]: Done   3 out of   5 | elapsed:    1.3s remaining:    0.8s\n",
      "[Parallel(n_jobs=-1)]: Done   5 out of   5 | elapsed:    1.3s remaining:    0.0s\n",
      "[Parallel(n_jobs=-1)]: Done   5 out of   5 | elapsed:    1.3s finished\n",
      "[Parallel(n_jobs=-1)]: Using backend LokyBackend with 8 concurrent workers.\n"
     ]
    },
    {
     "name": "stdout",
     "output_type": "stream",
     "text": [
      "\n",
      "Took time: 0h0min1s\n",
      "\n",
      "Fitting estimator SVC() with deafult parameters\n",
      "\n"
     ]
    },
    {
     "name": "stderr",
     "output_type": "stream",
     "text": [
      "[Parallel(n_jobs=-1)]: Done   2 out of   5 | elapsed:    0.2s remaining:    0.4s\n",
      "[Parallel(n_jobs=-1)]: Done   3 out of   5 | elapsed:    0.7s remaining:    0.4s\n",
      "[Parallel(n_jobs=-1)]: Done   5 out of   5 | elapsed:    0.7s remaining:    0.0s\n",
      "[Parallel(n_jobs=-1)]: Done   5 out of   5 | elapsed:    0.7s finished\n",
      "[Parallel(n_jobs=-1)]: Using backend LokyBackend with 8 concurrent workers.\n"
     ]
    },
    {
     "name": "stdout",
     "output_type": "stream",
     "text": [
      "\n",
      "Took time: 0h0min0s\n",
      "\n",
      "Fitting estimator RandomForestClassifier() with deafult parameters\n",
      "\n"
     ]
    },
    {
     "name": "stderr",
     "output_type": "stream",
     "text": [
      "[Parallel(n_jobs=-1)]: Done   2 out of   5 | elapsed:    1.1s remaining:    1.7s\n",
      "[Parallel(n_jobs=-1)]: Done   3 out of   5 | elapsed:    1.1s remaining:    0.7s\n",
      "[Parallel(n_jobs=-1)]: Done   5 out of   5 | elapsed:    1.1s remaining:    0.0s\n",
      "[Parallel(n_jobs=-1)]: Done   5 out of   5 | elapsed:    1.1s finished\n",
      "[Parallel(n_jobs=-1)]: Using backend LokyBackend with 8 concurrent workers.\n"
     ]
    },
    {
     "name": "stdout",
     "output_type": "stream",
     "text": [
      "\n",
      "Took time: 0h0min1s\n",
      "\n",
      "Fitting estimator MLPClassifier() with deafult parameters\n",
      "\n"
     ]
    },
    {
     "name": "stderr",
     "output_type": "stream",
     "text": [
      "[Parallel(n_jobs=-1)]: Done   2 out of   5 | elapsed:    3.1s remaining:    4.7s\n",
      "[Parallel(n_jobs=-1)]: Done   3 out of   5 | elapsed:    3.1s remaining:    2.0s\n",
      "[Parallel(n_jobs=-1)]: Done   5 out of   5 | elapsed:    3.2s remaining:    0.0s\n",
      "[Parallel(n_jobs=-1)]: Done   5 out of   5 | elapsed:    3.2s finished\n"
     ]
    },
    {
     "name": "stdout",
     "output_type": "stream",
     "text": [
      "\n",
      "Took time: 0h0min3s\n",
      "\n",
      "Fitting estimator XGBClassifier(base_score=None, booster=None, colsample_bylevel=None,\n",
      "              colsample_bynode=None, colsample_bytree=None,\n",
      "              enable_categorical=False, eval_metric='mlogloss', gamma=None,\n",
      "              gpu_id=None, importance_type=None, interaction_constraints=None,\n",
      "              learning_rate=None, max_delta_step=None, max_depth=None,\n",
      "              min_child_weight=None, missing=nan, monotone_constraints=None,\n",
      "              n_estimators=100, n_jobs=1, num_parallel_tree=None,\n",
      "              objective='multi:softmax', predictor=None, random_state=None,\n",
      "              reg_alpha=None, reg_lambda=None, scale_pos_weight=None,\n",
      "              subsample=None, tree_method='gpu_hist', use_label_encoder=False,\n",
      "              validate_parameters=None, ...) with deafult parameters\n",
      "\n"
     ]
    },
    {
     "name": "stderr",
     "output_type": "stream",
     "text": [
      "[Parallel(n_jobs=-1)]: Using backend LokyBackend with 8 concurrent workers.\n",
      "[Parallel(n_jobs=-1)]: Done   2 out of   5 | elapsed:   28.6s remaining:   43.0s\n",
      "[Parallel(n_jobs=-1)]: Done   3 out of   5 | elapsed:   28.8s remaining:   19.1s\n",
      "[Parallel(n_jobs=-1)]: Done   5 out of   5 | elapsed:   28.8s remaining:    0.0s\n",
      "[Parallel(n_jobs=-1)]: Done   5 out of   5 | elapsed:   28.8s finished\n"
     ]
    },
    {
     "name": "stdout",
     "output_type": "stream",
     "text": [
      "\n",
      "Took time: 0h0min29s\n",
      "\n",
      "Wall time: 36.2 s\n"
     ]
    },
    {
     "data": {
      "text/plain": [
       "['results/DefaultResults']"
      ]
     },
     "execution_count": 72,
     "metadata": {},
     "output_type": "execute_result"
    }
   ],
   "source": [
    "%%time\n",
    "\n",
    "default_names = ['LogisticRegression', 'SVC', 'RandomForestClassifier', 'MLPClassifier', 'XGBClassifier']\n",
    "\n",
    "default_pipes = [make_pipeline(StandardScaler(), LogisticRegression()),\n",
    "                 make_pipeline(StandardScaler(), SVC()),\n",
    "                 make_pipeline(RandomForestClassifier()),\n",
    "                 make_pipeline(StandardScaler(), MLPClassifier()),\n",
    "                 make_pipeline(XGBClassifier(tree_method='gpu_hist', objective='multi:softmax', eval_metric='mlogloss', use_label_encoder=False, n_jobs=1))]\n",
    "\n",
    "default_results = {}\n",
    "\n",
    "for pipe, name in zip(default_pipes, default_names):\n",
    "    print(f'Fitting estimator {pipe[-1]} with deafult parameters\\n')\n",
    "        \n",
    "    t = time()\n",
    "    result = cross_val_score(pipe, X_train, y_train, scoring='f1_macro', n_jobs=-1, verbose=10, cv=5)\n",
    "    time_taken(t, True)\n",
    "\n",
    "    default_results[name] = result\n",
    "\n",
    "joblib.dump(pd.DataFrame(default_results), 'results/DefaultResults')"
   ]
  },
  {
   "cell_type": "code",
   "execution_count": 7,
   "id": "a3afd018-a65e-40a7-bfe4-8d282d14e454",
   "metadata": {},
   "outputs": [
    {
     "data": {
      "image/png": "[encoded data removed]",
      "text/plain": [
       "<Figure size 720x504 with 1 Axes>"
      ]
     },
     "metadata": {
      "needs_background": "light"
     },
     "output_type": "display_data"
    },
    {
     "name": "stdout",
     "output_type": "stream",
     "text": [
      "\n",
      "=====Cross-validation metrics======\n",
      "\n",
      "With estimator: MLPClassifier\n",
      "\n",
      "Mean F1-score: 0.708\n",
      "Standard deviation: 0.016\n",
      "\n",
      "============== END ===============\n",
      "\n",
      "\n",
      "=====Cross-validation metrics======\n",
      "\n",
      "With estimator: XGBClassifier\n",
      "\n",
      "Mean F1-score: 0.633\n",
      "Standard deviation: 0.036\n",
      "\n",
      "============== END ===============\n",
      "\n",
      "\n",
      "=====Cross-validation metrics======\n",
      "\n",
      "With estimator: LogisticRegression\n",
      "\n",
      "Mean F1-score: 0.603\n",
      "Standard deviation: 0.017\n",
      "\n",
      "============== END ===============\n",
      "\n",
      "\n",
      "=====Cross-validation metrics======\n",
      "\n",
      "With estimator: RandomForestClassifier\n",
      "\n",
      "Mean F1-score: 0.576\n",
      "Standard deviation: 0.035\n",
      "\n",
      "============== END ===============\n",
      "\n",
      "\n",
      "=====Cross-validation metrics======\n",
      "\n",
      "With estimator: SVC\n",
      "\n",
      "Mean F1-score: 0.551\n",
      "Standard deviation: 0.028\n",
      "\n",
      "============== END ===============\n",
      "\n"
     ]
    }
   ],
   "source": [
    "default_results = joblib.load('results/DefaultResults')\n",
    "\n",
    "sorted_names = default_results.mean().sort_values().index\n",
    "\n",
    "sorted_default_results = default_results[sorted_names]\n",
    "\n",
    "plt.figure(figsize=(10,7))\n",
    "\n",
    "sns.boxplot(data=sorted_default_results, medianprops={'linestyle':'None'}, showmeans=True, meanline=True, meanprops={'color':'black'})\n",
    "plt.ylabel('Mean test score')\n",
    "plt.xlabel(None)\n",
    "plt.suptitle('Default results')\n",
    "plt.show()\n",
    "\n",
    "for name in np.flip(sorted_names):\n",
    "    \n",
    "    score = np.mean(default_results[name])\n",
    "    std = np.std(default_results[name])\n",
    "    \n",
    "    print('\\n=====Cross-validation metrics======\\n')\n",
    "    print(f'With estimator: {name}\\n')\n",
    "    print(f\"Mean F1-score: {round(score, 3)}\")\n",
    "    print(f\"Standard deviation: {round(std, 3)}\\n\")\n",
    "    print('============== END ===============\\n')\n",
    "    "
   ]
  },
  {
   "cell_type": "markdown",
   "id": "99d19515-0ac7-445d-bc4d-2d701b6f7c73",
   "metadata": {},
   "source": [
    "### Hyperparameter tuning"
   ]
  },
  {
   "cell_type": "code",
   "execution_count": 8,
   "id": "268ea376-3284-4c56-8ef0-bee96e8c1f3f",
   "metadata": {},
   "outputs": [],
   "source": [
    "names = ['LogisticRegression', 'SVC', 'RandomForestClassifier', 'MLPClassifier', 'XGBClassifier']\n",
    "paths = [('searches/'+name+'Search', 'searches/'+name+'Results') for name in names]\n",
    "\n",
    "searches, results = [], []\n",
    "\n",
    "for p1, p2 in paths:\n",
    "    searches.append(joblib.load(p1))\n",
    "    results.append(joblib.load(p2))"
   ]
  },
  {
   "cell_type": "code",
   "execution_count": 9,
   "id": "054e7853-239f-40db-8dd6-42461724b8f7",
   "metadata": {},
   "outputs": [
    {
     "name": "stdout",
     "output_type": "stream",
     "text": [
      "\n",
      "Top 3 best performing parameters for model: LogisticRegression\n"
     ]
    },
    {
     "data": {
      "text/html": [
       "<div>\n",
       "<style scoped>\n",
       "    .dataframe tbody tr th:only-of-type {\n",
       "        vertical-align: middle;\n",
       "    }\n",
       "\n",
       "    .dataframe tbody tr th {\n",
       "        vertical-align: top;\n",
       "    }\n",
       "\n",
       "    .dataframe thead th {\n",
       "        text-align: right;\n",
       "    }\n",
       "</style>\n",
       "<table border=\"1\" class=\"dataframe\">\n",
       "  <thead>\n",
       "    <tr style=\"text-align: right;\">\n",
       "      <th></th>\n",
       "      <th>mean_test_score</th>\n",
       "      <th>std_test_score</th>\n",
       "      <th>rank_test_score</th>\n",
       "      <th>n_samples</th>\n",
       "      <th>params</th>\n",
       "    </tr>\n",
       "  </thead>\n",
       "  <tbody>\n",
       "    <tr>\n",
       "      <th>334</th>\n",
       "      <td>0.61881</td>\n",
       "      <td>0.01619</td>\n",
       "      <td>1</td>\n",
       "      <td>1296</td>\n",
       "      <td>{'clf__C': 5.182323505895209, 'clf__class_weight': 'balanced', 'clf__penalty': 'l1', 'clf__solver': 'liblinear', 'scaler': MinMaxScaler()}</td>\n",
       "    </tr>\n",
       "    <tr>\n",
       "      <th>125</th>\n",
       "      <td>0.61827</td>\n",
       "      <td>0.01755</td>\n",
       "      <td>2</td>\n",
       "      <td>1296</td>\n",
       "      <td>{'clf__C': 5.1096007572985185, 'clf__class_weight': 'balanced', 'clf__penalty': 'l1', 'clf__solver': 'liblinear', 'scaler': MinMaxScaler()}</td>\n",
       "    </tr>\n",
       "    <tr>\n",
       "      <th>529</th>\n",
       "      <td>0.61757</td>\n",
       "      <td>0.01366</td>\n",
       "      <td>3</td>\n",
       "      <td>1296</td>\n",
       "      <td>{'clf__C': 5.642107090110922, 'clf__class_weight': 'balanced', 'clf__penalty': 'l1', 'clf__solver': 'liblinear', 'scaler': MinMaxScaler()}</td>\n",
       "    </tr>\n",
       "  </tbody>\n",
       "</table>\n",
       "</div>"
      ],
      "text/plain": [
       "     mean_test_score  std_test_score  rank_test_score  n_samples  \\\n",
       "334 0.61881          0.01619          1                1296        \n",
       "125 0.61827          0.01755          2                1296        \n",
       "529 0.61757          0.01366          3                1296        \n",
       "\n",
       "                                                                                                                                          params  \n",
       "334  {'clf__C': 5.182323505895209, 'clf__class_weight': 'balanced', 'clf__penalty': 'l1', 'clf__solver': 'liblinear', 'scaler': MinMaxScaler()}   \n",
       "125  {'clf__C': 5.1096007572985185, 'clf__class_weight': 'balanced', 'clf__penalty': 'l1', 'clf__solver': 'liblinear', 'scaler': MinMaxScaler()}  \n",
       "529  {'clf__C': 5.642107090110922, 'clf__class_weight': 'balanced', 'clf__penalty': 'l1', 'clf__solver': 'liblinear', 'scaler': MinMaxScaler()}   "
      ]
     },
     "metadata": {},
     "output_type": "display_data"
    },
    {
     "name": "stdout",
     "output_type": "stream",
     "text": [
      "\n",
      "Top 3 best performing parameters for model: SVC\n"
     ]
    },
    {
     "data": {
      "text/html": [
       "<div>\n",
       "<style scoped>\n",
       "    .dataframe tbody tr th:only-of-type {\n",
       "        vertical-align: middle;\n",
       "    }\n",
       "\n",
       "    .dataframe tbody tr th {\n",
       "        vertical-align: top;\n",
       "    }\n",
       "\n",
       "    .dataframe thead th {\n",
       "        text-align: right;\n",
       "    }\n",
       "</style>\n",
       "<table border=\"1\" class=\"dataframe\">\n",
       "  <thead>\n",
       "    <tr style=\"text-align: right;\">\n",
       "      <th></th>\n",
       "      <th>mean_test_score</th>\n",
       "      <th>std_test_score</th>\n",
       "      <th>rank_test_score</th>\n",
       "      <th>n_samples</th>\n",
       "      <th>params</th>\n",
       "    </tr>\n",
       "  </thead>\n",
       "  <tbody>\n",
       "    <tr>\n",
       "      <th>3913</th>\n",
       "      <td>0.73747</td>\n",
       "      <td>0.03028</td>\n",
       "      <td>1</td>\n",
       "      <td>1296</td>\n",
       "      <td>{'clf__C': 4.073181932046468, 'clf__gamma': 1.0070740558594764, 'clf__kernel': 'rbf', 'decomp': PCA(n_components=0.99), 'scaler2': MinMaxScaler()}</td>\n",
       "    </tr>\n",
       "    <tr>\n",
       "      <th>3059</th>\n",
       "      <td>0.73478</td>\n",
       "      <td>0.02121</td>\n",
       "      <td>2</td>\n",
       "      <td>1296</td>\n",
       "      <td>{'clf__C': 3.7389329023788513, 'clf__gamma': 0.015317140891398554, 'clf__kernel': 'rbf', 'decomp': PCA(n_components=0.99), 'scaler2': StandardScaler()}</td>\n",
       "    </tr>\n",
       "    <tr>\n",
       "      <th>1745</th>\n",
       "      <td>0.73044</td>\n",
       "      <td>0.02159</td>\n",
       "      <td>3</td>\n",
       "      <td>1296</td>\n",
       "      <td>{'clf__C': 9.812414648924417, 'clf__gamma': 0.0054615296005484995, 'clf__kernel': 'rbf', 'decomp': PCA(), 'scaler2': 'passthrough'}</td>\n",
       "    </tr>\n",
       "  </tbody>\n",
       "</table>\n",
       "</div>"
      ],
      "text/plain": [
       "      mean_test_score  std_test_score  rank_test_score  n_samples  \\\n",
       "3913 0.73747          0.03028          1                1296        \n",
       "3059 0.73478          0.02121          2                1296        \n",
       "1745 0.73044          0.02159          3                1296        \n",
       "\n",
       "                                                                                                                                                       params  \n",
       "3913  {'clf__C': 4.073181932046468, 'clf__gamma': 1.0070740558594764, 'clf__kernel': 'rbf', 'decomp': PCA(n_components=0.99), 'scaler2': MinMaxScaler()}       \n",
       "3059  {'clf__C': 3.7389329023788513, 'clf__gamma': 0.015317140891398554, 'clf__kernel': 'rbf', 'decomp': PCA(n_components=0.99), 'scaler2': StandardScaler()}  \n",
       "1745  {'clf__C': 9.812414648924417, 'clf__gamma': 0.0054615296005484995, 'clf__kernel': 'rbf', 'decomp': PCA(), 'scaler2': 'passthrough'}                      "
      ]
     },
     "metadata": {},
     "output_type": "display_data"
    },
    {
     "name": "stdout",
     "output_type": "stream",
     "text": [
      "\n",
      "Top 3 best performing parameters for model: RandomForestClassifier\n"
     ]
    },
    {
     "data": {
      "text/html": [
       "<div>\n",
       "<style scoped>\n",
       "    .dataframe tbody tr th:only-of-type {\n",
       "        vertical-align: middle;\n",
       "    }\n",
       "\n",
       "    .dataframe tbody tr th {\n",
       "        vertical-align: top;\n",
       "    }\n",
       "\n",
       "    .dataframe thead th {\n",
       "        text-align: right;\n",
       "    }\n",
       "</style>\n",
       "<table border=\"1\" class=\"dataframe\">\n",
       "  <thead>\n",
       "    <tr style=\"text-align: right;\">\n",
       "      <th></th>\n",
       "      <th>mean_test_score</th>\n",
       "      <th>std_test_score</th>\n",
       "      <th>rank_test_score</th>\n",
       "      <th>n_samples</th>\n",
       "      <th>params</th>\n",
       "    </tr>\n",
       "  </thead>\n",
       "  <tbody>\n",
       "    <tr>\n",
       "      <th>5</th>\n",
       "      <td>0.61131</td>\n",
       "      <td>0.04421</td>\n",
       "      <td>1</td>\n",
       "      <td>1152</td>\n",
       "      <td>{'clf__bootstrap': False, 'clf__criterion': 'entropy', 'clf__max_features': 12, 'clf__min_samples_split': 2, 'clf__n_estimators': 500}</td>\n",
       "    </tr>\n",
       "    <tr>\n",
       "      <th>44</th>\n",
       "      <td>0.61105</td>\n",
       "      <td>0.04430</td>\n",
       "      <td>2</td>\n",
       "      <td>1152</td>\n",
       "      <td>{'clf__bootstrap': False, 'clf__criterion': 'entropy', 'clf__max_features': 10, 'clf__min_samples_split': 3, 'clf__n_estimators': 500}</td>\n",
       "    </tr>\n",
       "    <tr>\n",
       "      <th>64</th>\n",
       "      <td>0.61063</td>\n",
       "      <td>0.04657</td>\n",
       "      <td>3</td>\n",
       "      <td>1152</td>\n",
       "      <td>{'clf__bootstrap': False, 'clf__criterion': 'entropy', 'clf__max_features': 7, 'clf__min_samples_split': 3, 'clf__n_estimators': 500}</td>\n",
       "    </tr>\n",
       "  </tbody>\n",
       "</table>\n",
       "</div>"
      ],
      "text/plain": [
       "    mean_test_score  std_test_score  rank_test_score  n_samples  \\\n",
       "5  0.61131          0.04421          1                1152        \n",
       "44 0.61105          0.04430          2                1152        \n",
       "64 0.61063          0.04657          3                1152        \n",
       "\n",
       "                                                                                                                                    params  \n",
       "5   {'clf__bootstrap': False, 'clf__criterion': 'entropy', 'clf__max_features': 12, 'clf__min_samples_split': 2, 'clf__n_estimators': 500}  \n",
       "44  {'clf__bootstrap': False, 'clf__criterion': 'entropy', 'clf__max_features': 10, 'clf__min_samples_split': 3, 'clf__n_estimators': 500}  \n",
       "64  {'clf__bootstrap': False, 'clf__criterion': 'entropy', 'clf__max_features': 7, 'clf__min_samples_split': 3, 'clf__n_estimators': 500}   "
      ]
     },
     "metadata": {},
     "output_type": "display_data"
    },
    {
     "name": "stdout",
     "output_type": "stream",
     "text": [
      "\n",
      "Top 3 best performing parameters for model: MLPClassifier\n"
     ]
    },
    {
     "data": {
      "text/html": [
       "<div>\n",
       "<style scoped>\n",
       "    .dataframe tbody tr th:only-of-type {\n",
       "        vertical-align: middle;\n",
       "    }\n",
       "\n",
       "    .dataframe tbody tr th {\n",
       "        vertical-align: top;\n",
       "    }\n",
       "\n",
       "    .dataframe thead th {\n",
       "        text-align: right;\n",
       "    }\n",
       "</style>\n",
       "<table border=\"1\" class=\"dataframe\">\n",
       "  <thead>\n",
       "    <tr style=\"text-align: right;\">\n",
       "      <th></th>\n",
       "      <th>mean_test_score</th>\n",
       "      <th>std_test_score</th>\n",
       "      <th>rank_test_score</th>\n",
       "      <th>n_samples</th>\n",
       "      <th>params</th>\n",
       "    </tr>\n",
       "  </thead>\n",
       "  <tbody>\n",
       "    <tr>\n",
       "      <th>66</th>\n",
       "      <td>0.74162</td>\n",
       "      <td>0.03179</td>\n",
       "      <td>1</td>\n",
       "      <td>1296</td>\n",
       "      <td>{'scaler': StandardScaler(), 'clf__max_iter': 1000, 'clf__learning_rate_init': 0.0005, 'clf__learning_rate': 'constant', 'clf__hidden_layer_sizes': (512, 128), 'clf__batch_size': 100, 'clf__activation': 'relu'}</td>\n",
       "    </tr>\n",
       "    <tr>\n",
       "      <th>50</th>\n",
       "      <td>0.73852</td>\n",
       "      <td>0.02131</td>\n",
       "      <td>2</td>\n",
       "      <td>1296</td>\n",
       "      <td>{'scaler': StandardScaler(), 'clf__max_iter': 1000, 'clf__learning_rate_init': 0.0005, 'clf__learning_rate': 'constant', 'clf__hidden_layer_sizes': (512,), 'clf__batch_size': 100, 'clf__activation': 'relu'}</td>\n",
       "    </tr>\n",
       "    <tr>\n",
       "      <th>70</th>\n",
       "      <td>0.73735</td>\n",
       "      <td>0.02938</td>\n",
       "      <td>3</td>\n",
       "      <td>1296</td>\n",
       "      <td>{'scaler': StandardScaler(), 'clf__max_iter': 1000, 'clf__learning_rate_init': 0.0005, 'clf__learning_rate': 'constant', 'clf__hidden_layer_sizes': (512, 64), 'clf__batch_size': 100, 'clf__activation': 'relu'}</td>\n",
       "    </tr>\n",
       "  </tbody>\n",
       "</table>\n",
       "</div>"
      ],
      "text/plain": [
       "    mean_test_score  std_test_score  rank_test_score  n_samples  \\\n",
       "66 0.74162          0.03179          1                1296        \n",
       "50 0.73852          0.02131          2                1296        \n",
       "70 0.73735          0.02938          3                1296        \n",
       "\n",
       "                                                                                                                                                                                                                params  \n",
       "66  {'scaler': StandardScaler(), 'clf__max_iter': 1000, 'clf__learning_rate_init': 0.0005, 'clf__learning_rate': 'constant', 'clf__hidden_layer_sizes': (512, 128), 'clf__batch_size': 100, 'clf__activation': 'relu'}  \n",
       "50  {'scaler': StandardScaler(), 'clf__max_iter': 1000, 'clf__learning_rate_init': 0.0005, 'clf__learning_rate': 'constant', 'clf__hidden_layer_sizes': (512,), 'clf__batch_size': 100, 'clf__activation': 'relu'}      \n",
       "70  {'scaler': StandardScaler(), 'clf__max_iter': 1000, 'clf__learning_rate_init': 0.0005, 'clf__learning_rate': 'constant', 'clf__hidden_layer_sizes': (512, 64), 'clf__batch_size': 100, 'clf__activation': 'relu'}   "
      ]
     },
     "metadata": {},
     "output_type": "display_data"
    },
    {
     "name": "stdout",
     "output_type": "stream",
     "text": [
      "\n",
      "Top 3 best performing parameters for model: XGBClassifier\n"
     ]
    },
    {
     "data": {
      "text/html": [
       "<div>\n",
       "<style scoped>\n",
       "    .dataframe tbody tr th:only-of-type {\n",
       "        vertical-align: middle;\n",
       "    }\n",
       "\n",
       "    .dataframe tbody tr th {\n",
       "        vertical-align: top;\n",
       "    }\n",
       "\n",
       "    .dataframe thead th {\n",
       "        text-align: right;\n",
       "    }\n",
       "</style>\n",
       "<table border=\"1\" class=\"dataframe\">\n",
       "  <thead>\n",
       "    <tr style=\"text-align: right;\">\n",
       "      <th></th>\n",
       "      <th>mean_test_score</th>\n",
       "      <th>std_test_score</th>\n",
       "      <th>rank_test_score</th>\n",
       "      <th>n_samples</th>\n",
       "      <th>params</th>\n",
       "    </tr>\n",
       "  </thead>\n",
       "  <tbody>\n",
       "    <tr>\n",
       "      <th>1897</th>\n",
       "      <td>0.66542</td>\n",
       "      <td>0.02965</td>\n",
       "      <td>1</td>\n",
       "      <td>1296</td>\n",
       "      <td>{'clf__colsample_bytree': 0.9007123166538439, 'clf__eval_metric': 'mlogloss', 'clf__gamma': 0.06126780910439317, 'clf__learning_rate': 0.1, 'clf__max_depth': 3, 'clf__min_child_weight': 2, 'clf__n_estimators': 500, 'clf__objective': 'multi:softmax', 'clf__subsample': 0.7671253776764335, 'clf__tree_method': 'gpu_hist'}</td>\n",
       "    </tr>\n",
       "    <tr>\n",
       "      <th>227</th>\n",
       "      <td>0.66377</td>\n",
       "      <td>0.03267</td>\n",
       "      <td>2</td>\n",
       "      <td>1296</td>\n",
       "      <td>{'clf__colsample_bytree': 0.7886879685162956, 'clf__eval_metric': 'mlogloss', 'clf__gamma': 0.011689319600720813, 'clf__learning_rate': 0.05, 'clf__max_depth': 4, 'clf__min_child_weight': 2, 'clf__n_estimators': 500, 'clf__objective': 'multi:softmax', 'clf__subsample': 0.5318214214489826, 'clf__tree_method': 'gpu_hist'}</td>\n",
       "    </tr>\n",
       "    <tr>\n",
       "      <th>241</th>\n",
       "      <td>0.66295</td>\n",
       "      <td>0.02491</td>\n",
       "      <td>3</td>\n",
       "      <td>1296</td>\n",
       "      <td>{'clf__colsample_bytree': 0.5924101307502787, 'clf__eval_metric': 'mlogloss', 'clf__gamma': 0.002617805884371923, 'clf__learning_rate': 0.1, 'clf__max_depth': 3, 'clf__min_child_weight': 2, 'clf__n_estimators': 500, 'clf__objective': 'multi:softmax', 'clf__subsample': 0.6181436488221598, 'clf__tree_method': 'gpu_hist'}</td>\n",
       "    </tr>\n",
       "  </tbody>\n",
       "</table>\n",
       "</div>"
      ],
      "text/plain": [
       "      mean_test_score  std_test_score  rank_test_score  n_samples  \\\n",
       "1897 0.66542          0.02965          1                1296        \n",
       "227  0.66377          0.03267          2                1296        \n",
       "241  0.66295          0.02491          3                1296        \n",
       "\n",
       "                                                                                                                                                                                                                                                                                                                                 params  \n",
       "1897  {'clf__colsample_bytree': 0.9007123166538439, 'clf__eval_metric': 'mlogloss', 'clf__gamma': 0.06126780910439317, 'clf__learning_rate': 0.1, 'clf__max_depth': 3, 'clf__min_child_weight': 2, 'clf__n_estimators': 500, 'clf__objective': 'multi:softmax', 'clf__subsample': 0.7671253776764335, 'clf__tree_method': 'gpu_hist'}    \n",
       "227   {'clf__colsample_bytree': 0.7886879685162956, 'clf__eval_metric': 'mlogloss', 'clf__gamma': 0.011689319600720813, 'clf__learning_rate': 0.05, 'clf__max_depth': 4, 'clf__min_child_weight': 2, 'clf__n_estimators': 500, 'clf__objective': 'multi:softmax', 'clf__subsample': 0.5318214214489826, 'clf__tree_method': 'gpu_hist'}  \n",
       "241   {'clf__colsample_bytree': 0.5924101307502787, 'clf__eval_metric': 'mlogloss', 'clf__gamma': 0.002617805884371923, 'clf__learning_rate': 0.1, 'clf__max_depth': 3, 'clf__min_child_weight': 2, 'clf__n_estimators': 500, 'clf__objective': 'multi:softmax', 'clf__subsample': 0.6181436488221598, 'clf__tree_method': 'gpu_hist'}   "
      ]
     },
     "metadata": {},
     "output_type": "display_data"
    }
   ],
   "source": [
    "columns_to_show = ['mean_test_score', 'std_test_score', 'rank_test_score', 'n_samples', 'params']\n",
    "\n",
    "for i, name in enumerate(names):\n",
    "    \n",
    "    sorted_results = results[i][['mean_test_score', 'std_test_score', 'rank_test_score', 'n_samples', 'params']].sort_values(['mean_test_score'], ascending=False)\n",
    "    \n",
    "    with pd.option_context('display.max_colwidth', -1):\n",
    "        print('\\nTop 3 best performing parameters for model: '+name)\n",
    "        display(sorted_results[:3])"
   ]
  },
  {
   "cell_type": "markdown",
   "id": "9cd717a3-8eff-4eff-8a1c-46675922f2ba",
   "metadata": {},
   "source": [
    "### Cross-validation of models with best hyperparameters"
   ]
  },
  {
   "cell_type": "code",
   "execution_count": 76,
   "id": "3d7e201c-9571-4a12-ba71-8fdf6ec2eb5d",
   "metadata": {
    "scrolled": true,
    "tags": []
   },
   "outputs": [
    {
     "name": "stdout",
     "output_type": "stream",
     "text": [
      "Fitting model LogisticRegression with best parameters\n",
      "\n"
     ]
    },
    {
     "name": "stderr",
     "output_type": "stream",
     "text": [
      "[Parallel(n_jobs=-1)]: Using backend LokyBackend with 8 concurrent workers.\n",
      "[Parallel(n_jobs=-1)]: Done   2 out of   5 | elapsed:    5.5s remaining:    8.3s\n",
      "[Parallel(n_jobs=-1)]: Done   3 out of   5 | elapsed:    5.7s remaining:    3.8s\n",
      "[Parallel(n_jobs=-1)]: Done   5 out of   5 | elapsed:    5.7s remaining:    0.0s\n",
      "[Parallel(n_jobs=-1)]: Done   5 out of   5 | elapsed:    5.7s finished\n"
     ]
    },
    {
     "name": "stdout",
     "output_type": "stream",
     "text": [
      "\n",
      "Took time: 0h0min5s\n",
      "\n",
      "Fitting model SVC with best parameters\n",
      "\n"
     ]
    },
    {
     "name": "stderr",
     "output_type": "stream",
     "text": [
      "[Parallel(n_jobs=-1)]: Using backend LokyBackend with 8 concurrent workers.\n",
      "[Parallel(n_jobs=-1)]: Done   2 out of   5 | elapsed:    0.3s remaining:    0.4s\n",
      "[Parallel(n_jobs=-1)]: Done   3 out of   5 | elapsed:    0.3s remaining:    0.1s\n",
      "[Parallel(n_jobs=-1)]: Done   5 out of   5 | elapsed:    0.3s remaining:    0.0s\n",
      "[Parallel(n_jobs=-1)]: Done   5 out of   5 | elapsed:    0.3s finished\n",
      "[Parallel(n_jobs=-1)]: Using backend LokyBackend with 8 concurrent workers.\n"
     ]
    },
    {
     "name": "stdout",
     "output_type": "stream",
     "text": [
      "\n",
      "Took time: 0h0min0s\n",
      "\n",
      "Fitting model RandomForestClassifier with best parameters\n",
      "\n"
     ]
    },
    {
     "name": "stderr",
     "output_type": "stream",
     "text": [
      "[Parallel(n_jobs=-1)]: Done   2 out of   5 | elapsed:   26.6s remaining:   39.9s\n",
      "[Parallel(n_jobs=-1)]: Done   3 out of   5 | elapsed:   26.7s remaining:   17.8s\n",
      "[Parallel(n_jobs=-1)]: Done   5 out of   5 | elapsed:   26.7s remaining:    0.0s\n",
      "[Parallel(n_jobs=-1)]: Done   5 out of   5 | elapsed:   26.7s finished\n"
     ]
    },
    {
     "name": "stdout",
     "output_type": "stream",
     "text": [
      "\n",
      "Took time: 0h0min26s\n",
      "\n",
      "Fitting model MLPClassifier with best parameters\n",
      "\n"
     ]
    },
    {
     "name": "stderr",
     "output_type": "stream",
     "text": [
      "[Parallel(n_jobs=-1)]: Using backend LokyBackend with 8 concurrent workers.\n",
      "[Parallel(n_jobs=-1)]: Done   2 out of   5 | elapsed:   25.5s remaining:   38.3s\n",
      "[Parallel(n_jobs=-1)]: Done   3 out of   5 | elapsed:   26.0s remaining:   17.3s\n",
      "[Parallel(n_jobs=-1)]: Done   5 out of   5 | elapsed:   26.6s remaining:    0.0s\n",
      "[Parallel(n_jobs=-1)]: Done   5 out of   5 | elapsed:   26.6s finished\n",
      "[Parallel(n_jobs=-1)]: Using backend LokyBackend with 8 concurrent workers.\n"
     ]
    },
    {
     "name": "stdout",
     "output_type": "stream",
     "text": [
      "\n",
      "Took time: 0h0min26s\n",
      "\n",
      "Fitting model XGBClassifier with best parameters\n",
      "\n"
     ]
    },
    {
     "name": "stderr",
     "output_type": "stream",
     "text": [
      "[Parallel(n_jobs=-1)]: Done   2 out of   5 | elapsed:   50.3s remaining:  1.3min\n",
      "[Parallel(n_jobs=-1)]: Done   3 out of   5 | elapsed:   50.3s remaining:   33.5s\n",
      "[Parallel(n_jobs=-1)]: Done   5 out of   5 | elapsed:   50.5s remaining:    0.0s\n",
      "[Parallel(n_jobs=-1)]: Done   5 out of   5 | elapsed:   50.5s finished\n"
     ]
    },
    {
     "name": "stdout",
     "output_type": "stream",
     "text": [
      "\n",
      "Took time: 0h0min50s\n",
      "\n",
      "Wall time: 1min 50s\n"
     ]
    },
    {
     "data": {
      "text/plain": [
       "['results/OptimizedResults']"
      ]
     },
     "execution_count": 76,
     "metadata": {},
     "output_type": "execute_result"
    }
   ],
   "source": [
    "%%time\n",
    "\n",
    "optimized_results = {}\n",
    "\n",
    "for i, name in enumerate(names):\n",
    "    \n",
    "    print(f'Fitting model {name} with best parameters\\n')\n",
    "    \n",
    "    opt_estimator = searches[i][-1].best_estimator_\n",
    "        \n",
    "    t = time()\n",
    "    result = cross_val_score(opt_estimator, X_train, y_train, scoring='f1_macro', n_jobs=-1, verbose=10, cv=5)\n",
    "    time_taken(t, True)\n",
    "\n",
    "    optimized_results[name] = result\n",
    "\n",
    "joblib.dump(pd.DataFrame(optimized_results), 'results/OptimizedResults')"
   ]
  },
  {
   "cell_type": "code",
   "execution_count": 11,
   "id": "fc1a7525-aee8-4304-a178-197b122ab867",
   "metadata": {},
   "outputs": [
    {
     "data": {
      "image/png": "[encoded data removed]",
      "text/plain": [
       "<Figure size 1008x576 with 1 Axes>"
      ]
     },
     "metadata": {
      "needs_background": "light"
     },
     "output_type": "display_data"
    },
    {
     "name": "stdout",
     "output_type": "stream",
     "text": [
      "\n",
      "==== Cross-validation metrics ====\n",
      "\n",
      "With estimator: SVC\n",
      "\n",
      "Mean F1-score: 0.737\n",
      "Standard deviation: 0.03\n",
      "\n",
      "============== END ================\n",
      "\n",
      "\n",
      "==== Cross-validation metrics ====\n",
      "\n",
      "With estimator: MLPClassifier\n",
      "\n",
      "Mean F1-score: 0.73\n",
      "Standard deviation: 0.011\n",
      "\n",
      "============== END ================\n",
      "\n",
      "\n",
      "==== Cross-validation metrics ====\n",
      "\n",
      "With estimator: XGBClassifier\n",
      "\n",
      "Mean F1-score: 0.658\n",
      "Standard deviation: 0.035\n",
      "\n",
      "============== END ================\n",
      "\n",
      "\n",
      "==== Cross-validation metrics ====\n",
      "\n",
      "With estimator: RandomForestClassifier\n",
      "\n",
      "Mean F1-score: 0.623\n",
      "Standard deviation: 0.012\n",
      "\n",
      "============== END ================\n",
      "\n",
      "\n",
      "==== Cross-validation metrics ====\n",
      "\n",
      "With estimator: LogisticRegression\n",
      "\n",
      "Mean F1-score: 0.618\n",
      "Standard deviation: 0.016\n",
      "\n",
      "============== END ================\n",
      "\n"
     ]
    }
   ],
   "source": [
    "optimized_results, default_results = joblib.load('results/OptimizedResults'), joblib.load('results/DefaultResults')\n",
    "\n",
    "sorted_optimized_results = optimized_results[optimized_results.mean().sort_values().index]\n",
    "\n",
    "sorted_columns = sorted_optimized_results.columns\n",
    "sorted_default_results = default_results[sorted_columns]\n",
    "\n",
    "sorted_optimized_results = pd.melt(sorted_optimized_results)\n",
    "sorted_default_results = pd.melt(sorted_default_results)\n",
    "\n",
    "sorted_optimized_results['type'] = 'Optimized'\n",
    "sorted_default_results['type'] = 'Default'\n",
    "\n",
    "cdf = pd.concat((sorted_default_results, sorted_optimized_results))\n",
    "\n",
    "plt.figure(figsize=(14,8))\n",
    "plot = sns.boxplot(x='variable',  hue='type', y='value', data=cdf, medianprops={'linestyle':'None'}, showmeans=True, meanline=True, meanprops={'color':'black'})\n",
    "plot.set_ylabel('Mean test score', fontsize=12)\n",
    "plot.set_xlabel(None)\n",
    "plt.suptitle('Default and optimized results', fontsize=15)\n",
    "plt.legend(fontsize=13)\n",
    "plt.show()\n",
    "\n",
    "for name in np.flip(sorted_columns):\n",
    "    score = round(np.mean(optimized_results[name]), 3)\n",
    "    std = round(np.std(optimized_results[name]), 3)\n",
    "    \n",
    "    print('\\n==== Cross-validation metrics ====\\n')\n",
    "    print(f'With estimator: {name}\\n')\n",
    "    print(f\"Mean F1-score: {score}\")\n",
    "    print(f\"Standard deviation: {std}\\n\")\n",
    "    print('============== END ================\\n')"
   ]
  },
  {
   "cell_type": "code",
   "execution_count": 12,
   "id": "5e3f8156-64ee-435b-b7d0-2e5ffac1c231",
   "metadata": {},
   "outputs": [
    {
     "name": "stdout",
     "output_type": "stream",
     "text": [
      "Fitting estimator LogisticRegression\n",
      "\n",
      "Fitting estimator SVC\n",
      "\n",
      "Fitting estimator RandomForestClassifier\n",
      "\n",
      "Fitting estimator MLPClassifier\n",
      "\n",
      "Fitting estimator XGBClassifier\n",
      "\n",
      "Wall time: 59.7 s\n"
     ]
    }
   ],
   "source": [
    "%%time\n",
    "\n",
    "best_classifiers = [searches[i][-1].best_estimator_ for i in range(len(optimized_results.columns))]\n",
    "\n",
    "for clf in best_classifiers:\n",
    "    \n",
    "    print(f'Fitting estimator {clf[-1].__class__.__name__}\\n')\n",
    "    clf.fit(X_train, y_train)\n",
    "    \n",
    "    joblib.dump(clf, 'models/'+clf[-1].__class__.__name__)"
   ]
  },
  {
   "cell_type": "markdown",
   "id": "6d75a114-bee0-4be9-adfb-77c1e62fefa4",
   "metadata": {},
   "source": [
    "## Keras convolution neural network"
   ]
  },
  {
   "cell_type": "code",
   "execution_count": 14,
   "id": "c1118a1d-9f8b-401e-80fb-f2093b53df3a",
   "metadata": {},
   "outputs": [],
   "source": [
    "from sklearn.model_selection import train_test_split, StratifiedShuffleSplit, StratifiedKFold\n",
    "from sklearn.preprocessing import StandardScaler\n",
    "\n",
    "from tensorflow import keras\n",
    "from tensorflow.keras.models import Sequential\n",
    "from tensorflow.keras.layers import Input, Dense, Conv2D, Activation, Dropout, Flatten, MaxPooling2D, BatchNormalization\n",
    "from keras.regularizers import l2\n",
    "\n",
    "import keras_tuner as kt\n",
    "from keras_tuner import HyperParameters\n",
    "\n",
    "from sklearn.metrics import f1_score, accuracy_score, confusion_matrix\n",
    "import matplotlib.pyplot as plt\n",
    "import seaborn as sns"
   ]
  },
  {
   "cell_type": "code",
   "execution_count": 179,
   "id": "9e90b59b-b68e-4205-8e60-62b2bdea29e9",
   "metadata": {},
   "outputs": [
    {
     "name": "stdout",
     "output_type": "stream",
     "text": [
      "Wall time: 1min 51s\n"
     ]
    },
    {
     "data": {
      "text/plain": [
       "['data/X_test_keras']"
      ]
     },
     "execution_count": 179,
     "metadata": {},
     "output_type": "execute_result"
    }
   ],
   "source": [
    "%%time\n",
    "\n",
    "path_list = glob.glob('speech-emotion-recognition-ravdess-data/Actor_*/*')\n",
    "path_targets = [int(path.split('-')[6]) for path in path_list]\n",
    "\n",
    "temp, X_test_paths = train_test_split(path_list, stratify=path_targets, test_size=0.10, random_state=42)\n",
    "X_train_paths, X_val_paths = train_test_split(temp, stratify=[int(path.split('-')[6]) for path in temp], test_size=0.15, random_state=42)\n",
    "\n",
    "X_train_keras, y_train_keras = create_data(X_train_paths, n_masks=5, for_sklearn=False, n_mels=128, n_mfccs=20)\n",
    "X_val_keras, y_val_keras = create_data(X_val_paths, for_sklearn=False, n_mels=128, n_mfccs=20)\n",
    "X_test_keras, y_test = create_data(X_test_paths, for_sklearn=False, n_mels=128, n_mfccs=20)\n",
    "\n",
    "joblib.dump(X_train_keras, 'data/X_train_keras'), joblib.dump(X_val_keras, 'data/X_val_keras')\n",
    "joblib.dump(y_train_keras, 'data/y_train_keras'), joblib.dump(y_val_keras, 'data/y_val_keras')\n",
    "joblib.dump(X_test_keras, 'data/X_test_keras')"
   ]
  },
  {
   "cell_type": "code",
   "execution_count": 25,
   "id": "12bec6c9-8fa0-4065-8c2e-21427cb3c5a6",
   "metadata": {},
   "outputs": [
    {
     "name": "stdout",
     "output_type": "stream",
     "text": [
      "(6606, 20, 69, 1)\n",
      "(195, 20, 69, 1)\n",
      "(6606, 8)\n",
      "(195, 8)\n"
     ]
    }
   ],
   "source": [
    "X_train_keras, X_val_keras = joblib.load('data/X_train_keras'), joblib.load('data/X_val_keras')\n",
    "y_train_keras, y_val_keras = joblib.load('data/y_train_keras'), joblib.load('data/y_val_keras')\n",
    "\n",
    "y_train_cat = keras.utils.to_categorical(y_train_keras, 8)\n",
    "y_val_cat = keras.utils.to_categorical(y_val_keras, 8)\n",
    "\n",
    "target_labels = ['neutral',\n",
    "                 'calm',\n",
    "                 'happy',\n",
    "                 'sad',\n",
    "                 'angry',\n",
    "                 'fearul',\n",
    "                 'disgust',\n",
    "                 'surprised']\n",
    "\n",
    "print(X_train_keras.shape)\n",
    "print(X_val_keras.shape)\n",
    "print(y_train_cat.shape)\n",
    "print(y_val_cat.shape)"
   ]
  },
  {
   "cell_type": "code",
   "execution_count": 15,
   "id": "526e2c89-dd8b-4a17-ad31-a38914eb5d6e",
   "metadata": {},
   "outputs": [
    {
     "data": {
      "image/png": "[encoded data removed]",
      "text/plain": [
       "<Figure size 720x576 with 6 Axes>"
      ]
     },
     "metadata": {
      "needs_background": "light"
     },
     "output_type": "display_data"
    }
   ],
   "source": [
    "test_path=['speech-emotion-recognition-ravdess-data/Actor_07/03-01-07-01-01-01-07.wav']\n",
    "\n",
    "test, _ = create_data(test_path, n_masks=1, for_sklearn=False, n_mels=128, n_mfccs=20, only_mfccs=False)\n",
    "\n",
    "fig, axs = plt.subplots(2,2, figsize=(10, 8), gridspec_kw={'height_ratios': [1, 0.5], 'width_ratios': [0.85, 1]}, sharey=False)\n",
    "\n",
    "mel = lrd.specshow(test[0][:128,:,0], y_axis='mel', x_axis='time', ax=axs[0,0])\n",
    "axs[0,0].set_title('Original sample')\n",
    "\n",
    "mfcc = lrd.specshow(test[0][128:,:,0], ax=axs[1,0])\n",
    "axs[1,0].set_xlabel('Cepstrum')\n",
    "axs[1,0].set_ylabel('Mfcc coefficents')\n",
    "\n",
    "mel = lrd.specshow(test[1][:128,:,0], y_axis='mel', x_axis='time', ax=axs[0,1])\n",
    "fig.colorbar(mel, ax=axs[0,1])\n",
    "axs[0,1].set_title('Augmented sample')\n",
    "\n",
    "mfcc = lrd.specshow(test[1][128:,:,0], ax=axs[1,1])\n",
    "fig.colorbar(mfcc, ax=axs[1,1])\n",
    "axs[1,1].set_xlabel('Cepstrum')\n",
    "axs[1,1].set_ylabel('Mfcc coefficents')\n",
    "\n",
    "plt.show()"
   ]
  },
  {
   "cell_type": "markdown",
   "id": "dcbdb2f0-785a-42ca-9916-e281eca096ee",
   "metadata": {},
   "source": [
    "### Network training"
   ]
  },
  {
   "cell_type": "code",
   "execution_count": 60,
   "id": "31f6d360-db2b-45ca-bb20-504bb44c69f7",
   "metadata": {},
   "outputs": [],
   "source": [
    "def create_default_model():\n",
    "    \n",
    "    model = Sequential()\n",
    "    \n",
    "    model.add(Input(shape=X_train_keras[0].shape))\n",
    "    \n",
    "    model.add(Conv2D(32, 3, padding='same'))\n",
    "    model.add(Activation('relu'))\n",
    "    \n",
    "    model.add(Conv2D(32, 3, padding='same'))\n",
    "    model.add(Activation('relu'))\n",
    "    \n",
    "    model.add(MaxPooling2D(pool_size=(3,3)))\n",
    "    \n",
    "    model.add(Dropout(0.3))\n",
    "    \n",
    "    model.add(Conv2D(64, 3, padding='same'))\n",
    "    model.add(Activation('relu'))\n",
    "      \n",
    "    model.add(Conv2D(64, 3, padding='same'))\n",
    "    model.add(Activation('relu'))\n",
    "    \n",
    "    model.add(MaxPooling2D(pool_size=(3,3)))\n",
    "    \n",
    "    model.add(Flatten())\n",
    "    \n",
    "    model.add(Dropout(0.3))\n",
    "    model.add(Dense(256, activation='relu'))\n",
    "    \n",
    "    model.add(Dropout(0.3))\n",
    "    model.add(Dense(8, activation='softmax'))\n",
    "    \n",
    "    opt = keras.optimizers.Adam(learning_rate=0.0001)\n",
    "    model.compile(optimizer=opt, loss='categorical_crossentropy', metrics=['accuracy'])\n",
    "    \n",
    "    return model\n"
   ]
  },
  {
   "cell_type": "code",
   "execution_count": 61,
   "id": "f4a4452d-aae7-48b9-b136-819352929da4",
   "metadata": {},
   "outputs": [
    {
     "name": "stdout",
     "output_type": "stream",
     "text": [
      "Model: \"sequential_5\"\n",
      "_________________________________________________________________\n",
      " Layer (type)                Output Shape              Param #   \n",
      "=================================================================\n",
      " conv2d_20 (Conv2D)          (None, 20, 69, 32)        320       \n",
      "                                                                 \n",
      " activation (Activation)     (None, 20, 69, 32)        0         \n",
      "                                                                 \n",
      " conv2d_21 (Conv2D)          (None, 20, 69, 32)        9248      \n",
      "                                                                 \n",
      " activation_1 (Activation)   (None, 20, 69, 32)        0         \n",
      "                                                                 \n",
      " max_pooling2d_10 (MaxPoolin  (None, 6, 23, 32)        0         \n",
      " g2D)                                                            \n",
      "                                                                 \n",
      " dropout_25 (Dropout)        (None, 6, 23, 32)         0         \n",
      "                                                                 \n",
      " conv2d_22 (Conv2D)          (None, 6, 23, 64)         18496     \n",
      "                                                                 \n",
      " activation_2 (Activation)   (None, 6, 23, 64)         0         \n",
      "                                                                 \n",
      " conv2d_23 (Conv2D)          (None, 6, 23, 64)         36928     \n",
      "                                                                 \n",
      " activation_3 (Activation)   (None, 6, 23, 64)         0         \n",
      "                                                                 \n",
      " max_pooling2d_11 (MaxPoolin  (None, 2, 7, 64)         0         \n",
      " g2D)                                                            \n",
      "                                                                 \n",
      " flatten_5 (Flatten)         (None, 896)               0         \n",
      "                                                                 \n",
      " dropout_26 (Dropout)        (None, 896)               0         \n",
      "                                                                 \n",
      " dense_10 (Dense)            (None, 256)               229632    \n",
      "                                                                 \n",
      " dropout_27 (Dropout)        (None, 256)               0         \n",
      "                                                                 \n",
      " dense_11 (Dense)            (None, 8)                 2056      \n",
      "                                                                 \n",
      "=================================================================\n",
      "Total params: 296,680\n",
      "Trainable params: 296,680\n",
      "Non-trainable params: 0\n",
      "_________________________________________________________________\n"
     ]
    }
   ],
   "source": [
    "default_keras = create_default_model()\n",
    "\n",
    "default_keras.summary()"
   ]
  },
  {
   "cell_type": "code",
   "execution_count": null,
   "id": "96f3ab39-e928-4214-b74c-89a0b5720622",
   "metadata": {
    "tags": []
   },
   "outputs": [],
   "source": [
    "default_keras = create_default_model()\n",
    "\n",
    "default_history = default_keras.fit(X_train_keras, y_train_cat, batch_size=16,\n",
    "                                    epochs=100, validation_data=(X_val_keras, y_val_cat),\n",
    "                                    shuffle=True, callbacks=[keras.callbacks.ReduceLROnPlateau(factor=0.8, patience=7)])\n",
    "\n",
    "joblib.dump(default_history.history, 'results/DefaultConv2DHistory')"
   ]
  },
  {
   "cell_type": "code",
   "execution_count": 17,
   "id": "829e6ba0-626b-4d66-930f-c3db59bd4326",
   "metadata": {},
   "outputs": [],
   "source": [
    "def plot_metrics(history):\n",
    "    \n",
    "    fitted_epochs = len(history['val_loss'])\n",
    "    \n",
    "    print(f\"Best lowest validation loss on epoch: {np.argmin(history['val_loss']) + 1}\\n\")\n",
    "\n",
    "    fig = plt.figure(figsize=(12,6))\n",
    "\n",
    "    ax = fig.add_subplot(121)\n",
    "    ax.plot(range(fitted_epochs), history['loss'], 'r', label='Training loss')\n",
    "    ax.plot(range(fitted_epochs), history['val_loss'], 'b', label='Validation loss')\n",
    "    ax.legend()\n",
    "    ax.set_ylim(0)\n",
    "    ax.set_xlabel('Epochs'), ax.set_ylabel('Validation loss')\n",
    "    ax.set_title('Loss over epochs')\n",
    "\n",
    "    ax = fig.add_subplot(122)\n",
    "    ax.plot(range(fitted_epochs), history['accuracy'], 'r', label='Training accuracy')\n",
    "    ax.plot(range(fitted_epochs), history['val_accuracy'], 'b', label='Validation accuracy')\n",
    "    ax.legend()\n",
    "    ax.set_ylim(0, 1.0)\n",
    "    ax.set_xlabel('Epochs'), ax.set_ylabel('Validation accuracy')\n",
    "    ax.set_title('Accuracy over epochs')\n",
    "\n",
    "    plt.show()"
   ]
  },
  {
   "cell_type": "code",
   "execution_count": 18,
   "id": "9936fb06-0589-41c0-84b4-860b33b915a6",
   "metadata": {},
   "outputs": [
    {
     "name": "stdout",
     "output_type": "stream",
     "text": [
      "Best lowest validation loss on epoch: 43\n",
      "\n"
     ]
    },
    {
     "data": {
      "image/png": "[encoded data removed]",
      "text/plain": [
       "<Figure size 864x432 with 2 Axes>"
      ]
     },
     "metadata": {
      "needs_background": "light"
     },
     "output_type": "display_data"
    }
   ],
   "source": [
    "default_history = joblib.load('results/DefaultConv2DHistory')\n",
    "\n",
    "plot_metrics(default_history)"
   ]
  },
  {
   "cell_type": "code",
   "execution_count": null,
   "id": "ced1f85d-4434-4399-bb9f-f75990041adb",
   "metadata": {
    "jupyter": {
     "source_hidden": true
    },
    "tags": []
   },
   "outputs": [],
   "source": [
    "def keras_cv(create_model, X, y, cv, final_epochs, callbacks):\n",
    "    \n",
    "    from keras import backend as K\n",
    "    \n",
    "    scores = []\n",
    "    for temp, test in cv.split(X, y):\n",
    "        \n",
    "        model = create_model()\n",
    "        \n",
    "        ss = StandardScaler()\n",
    "        \n",
    "        X_test, y_test = X[test], y[test]\n",
    "        \n",
    "        X_, y_ = X[temp], y[temp]\n",
    "        \n",
    "        train, val = next(StratifiedShuffleSplit(n_splits=1, test_size=0.2).split(X_, y_))\n",
    "                \n",
    "        X_train, y_train = X_[train], y_[train]\n",
    "        X_val, y_val = X_[val], y_[val]\n",
    "                \n",
    "        X_train, X_val = ss.fit_transform(X_train), ss.transform(X_val)\n",
    "                \n",
    "        X_train = X_train.reshape(X_train.shape[0], 212, 95, 1).astype(np.float32)\n",
    "        X_val = X_val.reshape(X_val.shape[0], 212, 95, 1).astype(np.float32)\n",
    "        \n",
    "        y_train_cat = keras.utils.to_categorical(y_train, 8)\n",
    "        y_val_cat = keras.utils.to_categorical(y_val, 8)    \n",
    "        \n",
    "        model.fit(X_train, y_train_cat, epochs=100, validation_data=(X_val, y_val_cat),\n",
    "                    shuffle=True, callbacks=callbacks)\n",
    "\n",
    "        \n",
    "        X_scaled, X_test_scaled = ss.fit_transform(X_), ss.transform(X_test)\n",
    "        X_scaled = X_scaled.reshape(X_scaled.shape[0], 212, 95, 1).astype(np.float32)\n",
    "        X_test_scaled = X_test_scaled.reshape(X_test_scaled.shape[0], 212, 95, 1).astype(np.float32)\n",
    "        \n",
    "        y_cat = keras.utils.to_categorical(y_, 8)\n",
    "        \n",
    "        model.fit(X_scaled, y_cat, epochs=1)\n",
    "        \n",
    "        y_pred = np.argmax(model.predict(X_test_scaled), axis=-1)\n",
    "        \n",
    "        scores.append(f1_score(y_test, y_pred, average='macro'))\n",
    "        \n",
    "        K.clear_session()\n",
    "        del model\n",
    "        \n",
    "    return scores\n"
   ]
  },
  {
   "cell_type": "code",
   "execution_count": null,
   "id": "c67272bf-2deb-4131-873c-690d1c4e1526",
   "metadata": {
    "jupyter": {
     "source_hidden": true
    },
    "tags": []
   },
   "outputs": [],
   "source": [
    "default_scores = keras_cv(create_default_model, X, y, StratifiedKFold(n_splits=4), 1, [keras.callbacks.EarlyStopping(patience=15, restore_best_weights=True)])\n",
    "joblib.dump(default_scores, 'results/DefaultConv2DResults')"
   ]
  },
  {
   "cell_type": "code",
   "execution_count": null,
   "id": "18376907-7cba-4833-a3a2-be30553b94fd",
   "metadata": {
    "jupyter": {
     "source_hidden": true
    },
    "tags": []
   },
   "outputs": [],
   "source": [
    "default_scores = joblib.load('results/DefaultConv2DResults')\n",
    "\n",
    "mean_score = np.mean(default_scores)\n",
    "std = np.std(default_scores)\n",
    "\n",
    "print('\\n==== Cross-validation metrics ====\\n')\n",
    "print(f'With default Keras Conv2D Classifier:\\n')\n",
    "print(f\"Mean F1-score: {mean_score}\")\n",
    "print(f\"Standard deviation: {std}\\n\")\n",
    "print('============== END ===============\\n')"
   ]
  },
  {
   "cell_type": "markdown",
   "id": "47896e88-b3e2-43f3-b930-9b5dbeacc3d7",
   "metadata": {},
   "source": [
    "### Optimizing Keras classifier"
   ]
  },
  {
   "cell_type": "code",
   "execution_count": 21,
   "id": "ef12a106-48b7-4111-a8bd-b3513d2f4aaf",
   "metadata": {},
   "outputs": [
    {
     "data": {
      "text/plain": [
       "{'filters1': 64,\n",
       " 'filters2': 64,\n",
       " 'filters3': 128,\n",
       " 'filters4': 64,\n",
       " 'dropout1': 0.4,\n",
       " 'units1': 512,\n",
       " 'dropout2': 0.2,\n",
       " 'dropout3': 0,\n",
       " 'dropout4': 0.75,\n",
       " 'dropout5': 0.2}"
      ]
     },
     "execution_count": 21,
     "metadata": {},
     "output_type": "execute_result"
    }
   ],
   "source": [
    "best_hp = joblib.load('searches/KerasHP')\n",
    "\n",
    "best_hp.values"
   ]
  },
  {
   "cell_type": "code",
   "execution_count": 54,
   "id": "5796a667-d59a-4eb4-ab1a-d41d2e36b4d3",
   "metadata": {},
   "outputs": [],
   "source": [
    "def build_optimized_model(hp):\n",
    "    \n",
    "    model = Sequential()\n",
    "    \n",
    "    model.add(Input(shape=X_train_keras[1].shape))\n",
    "\n",
    "    model.add(Conv2D(\n",
    "        hp.Int('filters1', min_value=16, max_value=64, step=16, default=32), \n",
    "        kernel_size=3,\n",
    "        activation='relu',\n",
    "        padding='same'))\n",
    "\n",
    "    model.add(Dropout(hp.Choice('dropout1', [0.0, 0.2, 0.3, 0.4])))\n",
    "\n",
    "    model.add(Conv2D(\n",
    "        hp.Int('filters2', min_value=16, max_value=64, step=16, default=32),\n",
    "        kernel_size=3,\n",
    "        activation='relu',\n",
    "        padding='same'))\n",
    "    model.add(MaxPooling2D(pool_size=(3,3)))\n",
    "\n",
    "    model.add(Dropout(hp.Float('dropout2', min_value=0.2, max_value=0.75, sampling='linear')))\n",
    "\n",
    "    model.add(Conv2D(\n",
    "        hp.Int('filters3', min_value=32, max_value=128, step=16, default=64), \n",
    "        kernel_size=3,\n",
    "        activation='relu',\n",
    "        padding='same'))\n",
    "    \n",
    "    model.add(Dropout(hp.Choice('dropout3', [0.0, 0.2, 0.3, 0.4])))\n",
    "\n",
    "    model.add(Conv2D(\n",
    "        hp.Int('filters4', min_value=32, max_value=128, step=16, default=64), \n",
    "        kernel_size=3,\n",
    "        activation='relu',\n",
    "        padding='same'))\n",
    "    model.add(MaxPooling2D(pool_size=(3,3)))\n",
    "\n",
    "    model.add(Flatten())\n",
    "\n",
    "    model.add(Dropout(hp.Float('dropout4', min_value=0.2, max_value=0.75, sampling='linear')))\n",
    "              \n",
    "    model.add(Dense(\n",
    "        units = hp.Int('units1', min_value=64, max_value=512, step=64),\n",
    "        activation = 'relu'))\n",
    "\n",
    "    model.add(Dropout(hp.Float('dropout5', min_value=0.2, max_value=0.5, sampling='linear')))\n",
    "\n",
    "    model.add(Dense(8, activation='softmax'))\n",
    "    \n",
    "    model.compile(keras.optimizers.Adam(0.0001),\n",
    "                  loss='categorical_crossentropy',\n",
    "                  metrics=['accuracy'])\n",
    "        \n",
    "    return model"
   ]
  },
  {
   "cell_type": "code",
   "execution_count": 55,
   "id": "e595b587-4adc-4646-96d4-cd3330bd5ed8",
   "metadata": {},
   "outputs": [
    {
     "name": "stdout",
     "output_type": "stream",
     "text": [
      "Model: \"sequential_4\"\n",
      "_________________________________________________________________\n",
      " Layer (type)                Output Shape              Param #   \n",
      "=================================================================\n",
      " conv2d_16 (Conv2D)          (None, 20, 69, 64)        640       \n",
      "                                                                 \n",
      " dropout_20 (Dropout)        (None, 20, 69, 64)        0         \n",
      "                                                                 \n",
      " conv2d_17 (Conv2D)          (None, 20, 69, 64)        36928     \n",
      "                                                                 \n",
      " max_pooling2d_8 (MaxPooling  (None, 6, 23, 64)        0         \n",
      " 2D)                                                             \n",
      "                                                                 \n",
      " dropout_21 (Dropout)        (None, 6, 23, 64)         0         \n",
      "                                                                 \n",
      " conv2d_18 (Conv2D)          (None, 6, 23, 128)        73856     \n",
      "                                                                 \n",
      " dropout_22 (Dropout)        (None, 6, 23, 128)        0         \n",
      "                                                                 \n",
      " conv2d_19 (Conv2D)          (None, 6, 23, 64)         73792     \n",
      "                                                                 \n",
      " max_pooling2d_9 (MaxPooling  (None, 2, 7, 64)         0         \n",
      " 2D)                                                             \n",
      "                                                                 \n",
      " flatten_4 (Flatten)         (None, 896)               0         \n",
      "                                                                 \n",
      " dropout_23 (Dropout)        (None, 896)               0         \n",
      "                                                                 \n",
      " dense_8 (Dense)             (None, 512)               459264    \n",
      "                                                                 \n",
      " dropout_24 (Dropout)        (None, 512)               0         \n",
      "                                                                 \n",
      " dense_9 (Dense)             (None, 8)                 4104      \n",
      "                                                                 \n",
      "=================================================================\n",
      "Total params: 648,584\n",
      "Trainable params: 648,584\n",
      "Non-trainable params: 0\n",
      "_________________________________________________________________\n"
     ]
    }
   ],
   "source": [
    "optimized_keras = build_optimized_model(best_hp)\n",
    "\n",
    "optimized_keras.summary()"
   ]
  },
  {
   "cell_type": "code",
   "execution_count": null,
   "id": "0c85f1cb-1a75-49f1-81bb-ec2b408abeef",
   "metadata": {
    "tags": []
   },
   "outputs": [],
   "source": [
    "optimized_history = optimized_keras.fit(X_train_keras, y_train_cat, batch_size=16,\n",
    "                                    epochs=200, validation_data=(X_val_keras, y_val_cat),\n",
    "                                    shuffle=True, callbacks=[keras.callbacks.EarlyStopping(patience=30, restore_best_weights=True),\n",
    "                                                             keras.callbacks.ReduceLROnPlateau(factor=0.8, patience=7)])\n",
    "\n",
    "X_keras = np.concatenate((X_train_keras, X_val_keras))\n",
    "y_cat = np.concatenate((y_train_cat, y_val_cat))\n",
    "\n",
    "optimized_keras.fit(X_keras, y_cat, epochs=1)\n",
    "\n",
    "optimized_keras.save('models/Conv2DClassifier')\n",
    "joblib.dump(optimized_history.history, 'results/OptimizedConv2DHistory')"
   ]
  },
  {
   "cell_type": "code",
   "execution_count": 57,
   "id": "a154136f-2f98-4d71-a59c-6f6551c20b9a",
   "metadata": {},
   "outputs": [
    {
     "name": "stdout",
     "output_type": "stream",
     "text": [
      "Best lowest validation loss on epoch: 93\n",
      "\n"
     ]
    },
    {
     "data": {
      "image/png": "[encoded data removed]",
      "text/plain": [
       "<Figure size 864x432 with 2 Axes>"
      ]
     },
     "metadata": {
      "needs_background": "light"
     },
     "output_type": "display_data"
    }
   ],
   "source": [
    "optimized_history = joblib.load('results/optimizedConv2DHistory')\n",
    "plot_metrics(optimized_history)"
   ]
  },
  {
   "cell_type": "code",
   "execution_count": null,
   "id": "82aad463-fed8-4341-b844-028de40bc962",
   "metadata": {
    "jupyter": {
     "source_hidden": true
    },
    "tags": []
   },
   "outputs": [],
   "source": [
    "callbacks=[keras.callbacks.EarlyStopping(patience=30, restore_best_weights=True),\n",
    "           keras.callbacks.ReduceLROnPlateau(monitor='val_loss', factor=0.5, patience=7, verbose=1)]\n",
    "\n",
    "better_scores = keras_cv(create_optimized_model, X, y, StratifiedKFold(n_splits=4), 1, callbacks=callbacks)\n",
    "\n",
    "joblib.dump(better_scores, 'results/OptimizedConv2DResults')"
   ]
  },
  {
   "cell_type": "code",
   "execution_count": 14,
   "id": "1d3c2974-53c6-4022-a4a1-fd839f4c9876",
   "metadata": {
    "jupyter": {
     "source_hidden": true
    },
    "tags": []
   },
   "outputs": [
    {
     "name": "stdout",
     "output_type": "stream",
     "text": [
      "\n",
      "==== Cross-validation metrics ====\n",
      "\n",
      "With Optimized Keras Conv2D Classifier:\n",
      "\n",
      "Mean F1-score: 0.8788626580612111\n",
      "Standard deviation: 0.011527596159019793\n",
      "\n",
      "============== END ===============\n",
      "\n"
     ]
    }
   ],
   "source": [
    "better_scores = joblib.load('results/OptimizedConv2DResults')\n",
    "\n",
    "mean_score = np.mean(better_scores)\n",
    "std = np.std(better_scores)\n",
    "\n",
    "print('\\n==== Cross-validation metrics ====\\n')\n",
    "print(f'With Optimized Keras Conv2D Classifier:\\n')\n",
    "print(f\"Mean F1-score: {mean_score}\")\n",
    "print(f\"Standard deviation: {std}\\n\")\n",
    "print('============== END ===============\\n')"
   ]
  },
  {
   "cell_type": "markdown",
   "id": "c29c75ea-6bc1-4047-a8c3-1e4db945ff6e",
   "metadata": {},
   "source": [
    "## Out-of-sample evaluation for all classifiers"
   ]
  },
  {
   "cell_type": "code",
   "execution_count": 16,
   "id": "052f3a04-9d81-402a-9c0f-4ababedaf057",
   "metadata": {},
   "outputs": [
    {
     "data": {
      "image/png": "[encoded data removed]",
      "text/plain": [
       "<Figure size 1872x1008 with 12 Axes>"
      ]
     },
     "metadata": {
      "needs_background": "light"
     },
     "output_type": "display_data"
    },
    {
     "name": "stdout",
     "output_type": "stream",
     "text": [
      "\n",
      "========= Evaluation ==========\n",
      "\n",
      "With estimator: MLPClassifier\n",
      "\n",
      "F1-score: 0.765\n",
      "Accuracy: 0.771\n",
      "\n",
      "============ END ==============\n",
      "\n",
      "\n",
      "========= Evaluation ==========\n",
      "\n",
      "With estimator: SVC\n",
      "\n",
      "F1-score: 0.752\n",
      "Accuracy: 0.757\n",
      "\n",
      "============ END ==============\n",
      "\n",
      "\n",
      "========= Evaluation ==========\n",
      "\n",
      "With estimator: Conv2DClassifier\n",
      "\n",
      "F1-score: 0.709\n",
      "Accuracy: 0.708\n",
      "\n",
      "============ END ==============\n",
      "\n",
      "\n",
      "========= Evaluation ==========\n",
      "\n",
      "With estimator: XGBClassifier\n",
      "\n",
      "F1-score: 0.691\n",
      "Accuracy: 0.701\n",
      "\n",
      "============ END ==============\n",
      "\n",
      "\n",
      "========= Evaluation ==========\n",
      "\n",
      "With estimator: RandomForestClassifier\n",
      "\n",
      "F1-score: 0.649\n",
      "Accuracy: 0.653\n",
      "\n",
      "============ END ==============\n",
      "\n",
      "\n",
      "========= Evaluation ==========\n",
      "\n",
      "With estimator: LogisticRegression\n",
      "\n",
      "F1-score: 0.634\n",
      "Accuracy: 0.639\n",
      "\n",
      "============ END ==============\n",
      "\n"
     ]
    }
   ],
   "source": [
    "X_test, X_test_keras, y_test = joblib.load('data/X_test'), joblib.load('data/X_test_keras'), joblib.load('data/y_test')\n",
    "\n",
    "names = ['LogisticRegression', 'SVC', 'RandomForestClassifier', 'MLPClassifier', 'XGBClassifier']\n",
    "\n",
    "clfs = [joblib.load('models/'+name) for name in names]\n",
    "\n",
    "temp = [(name, clf.predict(X_test), f1_score(y_test, clf.predict(X_test), average='macro')) for clf, name in zip(clfs, names)]\n",
    "\n",
    "clf_keras = keras.models.load_model('models/Conv2DClassifier')\n",
    "y_pred_keras = np.argmax(clf_keras.predict(X_test_keras), axis=-1)\n",
    "f1_keras = f1_score(y_test, y_pred_keras, average='macro')\n",
    "\n",
    "temp.append(('Conv2DClassifier', y_pred_keras, f1_keras))\n",
    "\n",
    "sorted_clfs = sorted(temp, key= lambda x: x[2], reverse=True)\n",
    "\n",
    "fig, axs = plt.subplots(2, 3, figsize=(26,14))\n",
    "\n",
    "axlist = axs.flatten()\n",
    "\n",
    "for ax, (name, y_pred, f1) in zip(axlist, sorted_clfs):\n",
    "    \n",
    "    cm = confusion_matrix(y_test, y_pred)\n",
    "    fp = cm.sum(axis=0) - np.diag(cm)  \n",
    "    sns.heatmap(cm, annot=True, ax=ax, fmt='d', cmap='copper', xticklabels=target_labels, yticklabels=target_labels)\n",
    "    ax.set_title(f'{name}\\nTotal number of false predictions: {sum(fp)}/{len(y_test)}')\n",
    "    \n",
    "plt.suptitle('Confusion matrcises for predictions of unseen data', fontsize=14, y=0.95)\n",
    "plt.show()\n",
    "\n",
    "for name, y_pred, f1 in sorted_clfs:\n",
    "\n",
    "    print('\\n========= Evaluation ==========\\n')\n",
    "    print(f'With estimator: {name}\\n')\n",
    "    print(f\"F1-score: {round(f1, 3)}\")\n",
    "    print(f\"Accuracy: {round(accuracy_score(y_test, y_pred), 3)}\\n\")\n",
    "    print('============ END ==============\\n')"
   ]
  }
 ],
 "metadata": {
  "kernelspec": {
   "display_name": "Python 3 (ipykernel)",
   "language": "python",
   "name": "python3"
  },
  "language_info": {
   "codemirror_mode": {
    "name": "ipython",
    "version": 3
   },
   "file_extension": ".py",
   "mimetype": "text/x-python",
   "name": "python",
   "nbconvert_exporter": "python",
   "pygments_lexer": "ipython3",
   "version": "3.9.7"
  }
 },
 "nbformat": 4,
 "nbformat_minor": 5
}
