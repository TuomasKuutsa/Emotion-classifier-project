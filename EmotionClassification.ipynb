{
 "cells": [
  {
   "cell_type": "markdown",
   "id": "af2ef83b-7cfd-4c55-ad5f-233a970eb186",
   "metadata": {},
   "source": [
    "# Emotion classification project"
   ]
  },
  {
   "cell_type": "code",
   "execution_count": 1,
   "id": "87c0e686-0282-4544-acd5-89b5c368e134",
   "metadata": {},
   "outputs": [],
   "source": [
    "%matplotlib inline\n",
    "\n",
    "import pandas as pd\n",
    "import numpy as np\n",
    "import matplotlib.pyplot as plt\n",
    "from math import ceil, floor\n",
    "from time import time\n",
    "\n",
    "import librosa as lr\n",
    "import librosa.feature as lrf\n",
    "import librosa.display as lrd\n",
    "\n",
    "from multiprocessing import Pool\n",
    "from FeatureExtractor import feature_extractor\n",
    "import glob\n",
    "import os\n",
    "import traceback\n",
    "\n",
    "import joblib\n",
    "\n",
    "from pprint import pprint\n",
    "\n",
    "np.set_printoptions(suppress=True, precision=5)\n",
    "pd.options.display.float_format = '{:.5f}'.format"
   ]
  },
  {
   "cell_type": "code",
   "execution_count": 2,
   "id": "2b2b6bb3-5006-444a-a48f-580739a89829",
   "metadata": {},
   "outputs": [],
   "source": [
    "def create_data(path_list, n_masks=0, for_sklearn=True, n_mels=64, n_mfccs=20, only_mfccs=True):\n",
    "\n",
    "    data = []\n",
    "    target_class_list= []\n",
    "\n",
    "    arg_list = [(x, n_masks, for_sklearn, n_mels, n_mfccs, only_mfccs) for x in path_list]\n",
    "\n",
    "    with Pool(processes=8) as pool:\n",
    "        processed_samples = pool.starmap(feature_extractor, arg_list)\n",
    "        for s, t in processed_samples:\n",
    "            data.extend(s)\n",
    "            target_class_list.extend(t)\n",
    "\n",
    "            \n",
    "    return np.asarray(data), np.asarray(target_class_list)-1"
   ]
  },
  {
   "cell_type": "markdown",
   "id": "d0b0758c-ac8e-458b-9b8e-f7d8060e1108",
   "metadata": {},
   "source": [
    "## Scikit-learn model building"
   ]
  },
  {
   "cell_type": "code",
   "execution_count": 3,
   "id": "d59d98c9-2eb7-43b1-8855-c0c8fe4a5401",
   "metadata": {},
   "outputs": [],
   "source": [
    "from sklearn.pipeline import Pipeline, make_pipeline\n",
    "from sklearn.preprocessing import StandardScaler\n",
    "\n",
    "from sklearn.linear_model import LogisticRegression\n",
    "from sklearn.ensemble import RandomForestClassifier\n",
    "from sklearn.svm import SVC\n",
    "from sklearn.neural_network import MLPClassifier\n",
    "from xgboost import XGBClassifier\n",
    "\n",
    "from IncrementalSearch import time_taken\n",
    "import scipy.stats as sst\n",
    "\n",
    "from sklearn.model_selection import StratifiedKFold, StratifiedShuffleSplit, KFold, cross_val_score, train_test_split\n",
    "\n",
    "from sklearn.metrics import accuracy_score, f1_score, confusion_matrix\n",
    "import seaborn as sns"
   ]
  },
  {
   "cell_type": "code",
   "execution_count": 5,
   "id": "4602ff9e-ea7f-4c5c-b9fa-91608b792606",
   "metadata": {},
   "outputs": [],
   "source": [
    "path_list = glob.glob('speech-emotion-recognition-ravdess-data/Actor_*/*')\n",
    "targets = [int(path.split('-')[6]) for path in path_list]\n",
    "\n",
    "X_train_paths, X_test_paths = train_test_split(path_list, stratify=targets, test_size=0.10, random_state=42)"
   ]
  },
  {
   "cell_type": "code",
   "execution_count": 6,
   "id": "915ec491-184d-40fa-a9f6-f44989de5fcc",
   "metadata": {},
   "outputs": [],
   "source": [
    "X_train, y_train = create_data(X_train_paths)\n",
    "X_test, y_test = create_data(X_test_paths)\n",
    "\n",
    "joblib.dump(X_train, 'data/X_train'), joblib.dump(X_test, 'data/X_test')\n",
    "joblib.dump(y_train, 'data/y_train'), joblib.dump(y_test, 'data/y_test')"
   ]
  },
  {
   "cell_type": "code",
   "execution_count": 6,
   "id": "d1b5b3c8-9b46-415b-809d-ec88f3b55b59",
   "metadata": {},
   "outputs": [
    {
     "name": "stdout",
     "output_type": "stream",
     "text": [
      "(1296, 171)\n",
      "(1296,)\n",
      "\n",
      "Train set target label distribution:\n",
      "0   0.06636\n",
      "1   0.13349\n",
      "2   0.13349\n",
      "3   0.13349\n",
      "4   0.13349\n",
      "5   0.13349\n",
      "6   0.13349\n",
      "7   0.13272\n",
      "dtype: float64\n",
      "\n"
     ]
    }
   ],
   "source": [
    "X_train, y_train = joblib.load('data/X_train'), joblib.load('data/y_train')\n",
    "\n",
    "target_labels = ['neutral',\n",
    "                 'calm',\n",
    "                 'happy',\n",
    "                 'sad',\n",
    "                 'angry',\n",
    "                 'fearul',\n",
    "                 'disgust',\n",
    "                 'surprised']\n",
    "\n",
    "for i in [X_train, y_train]:\n",
    "    print(i.shape)\n",
    "    \n",
    "print(f'\\nTrain set target label distribution:\\n{pd.DataFrame(y_train).value_counts(normalize=True).sort_index()}\\n')"
   ]
  },
  {
   "cell_type": "markdown",
   "id": "2140f199-2e05-4ed8-ace6-f29e5e25bfea",
   "metadata": {},
   "source": [
    "### Evaluating default performance"
   ]
  },
  {
   "cell_type": "markdown",
   "id": "23b82fdb-bc27-43ce-970d-8b5441f26c9d",
   "metadata": {},
   "source": [
    "#### Does dataset augmentation make sense?"
   ]
  },
  {
   "cell_type": "code",
   "execution_count": null,
   "id": "5a95e2d1-1748-4ae5-a903-bd5d09a353c9",
   "metadata": {
    "tags": []
   },
   "outputs": [],
   "source": [
    "def augmentation_cv(clf_list, names, mask_list, train_paths):\n",
    "    \n",
    "    mask_scores = {}\n",
    "    \n",
    "    for n in mask_list:\n",
    "        folds = KFold()\n",
    "        classifier_scores = {}\n",
    "        print(f'Using {n} masks: \\n')\n",
    "        for name, classifier in zip(names, clf_list):\n",
    "            fold_scores = []\n",
    "            \n",
    "            print(f'Classifier: {classifier[-1].__class__.__name__}\\n')\n",
    "            for i, (train, val) in enumerate(folds.split(train_paths)):\n",
    "\n",
    "                t = time()\n",
    "                print(f'Fold: {i+1}')\n",
    "\n",
    "                X_train, y_train = create_data(np.array(train_paths)[train], n)\n",
    "                X_val, y_val = create_data(np.array(train_paths)[val], 0)\n",
    "\n",
    "                classifier.fit(X_train, y_train)\n",
    "\n",
    "                y_pred = classifier.predict(X_val)            \n",
    "                fold_scores.append(f1_score(y_val, y_pred, average='macro'))\n",
    "\n",
    "                time_taken(t, True)\n",
    "            print('============ END =============')    \n",
    "            classifier_scores[name] = np.mean(fold_scores)\n",
    "\n",
    "        mask_scores[n] = classifier_scores\n",
    "    return mask_scores\n"
   ]
  },
  {
   "cell_type": "code",
   "execution_count": null,
   "id": "008a2bfe-bb40-4a17-bee6-5623626b2443",
   "metadata": {
    "tags": []
   },
   "outputs": [],
   "source": [
    "names = ['LogisticRegression', 'SVC', 'RandomForestClassifier', 'MLPClassifier', 'XGBClassifier']\n",
    "\n",
    "augmentation_pipes = [make_pipeline(StandardScaler(), LogisticRegression(max_iter=1000, solver='liblinear')),\n",
    "                      make_pipeline(RandomForestClassifier()),\n",
    "                      make_pipeline(StandardScaler(), MLPClassifier(early_stopping=True)),\n",
    "                      make_pipeline(XGBClassifier(tree_method='gpu_hist', objective='multi:softmax', eval_metric='mlogloss', use_label_encoder=False, n_jobs=1))]\n",
    "\n",
    "n_masks = [0, 1, 3, 5, 8, 10]\n",
    "\n",
    "mask_scores = augmentation_cv(default_pipes, names, n_masks, X_train_paths)\n",
    "\n",
    "joblib.dump(mask_scores, 'results/AugmentationResults')"
   ]
  },
  {
   "cell_type": "code",
   "execution_count": null,
   "id": "94cfc38c-2f10-4d32-b265-230fa43665f4",
   "metadata": {
    "tags": []
   },
   "outputs": [],
   "source": [
    "augmentation_svc = [make_pipeline(StandardScaler(), SVC(kernel='rbf')),\n",
    "                    make_pipeline(StandardScaler(), SVC(kernel='linear')),\n",
    "                    make_pipeline(StandardScaler(), SVC(kernel='poly'))]\n",
    "\n",
    "n_masks = [0, 1, 3, 5, 8, 10]\n",
    "\n",
    "mask_scores = augmentation_cv(svc_pipes, ['rbf', 'linear', 'poly'], n_masks, X_train_paths)\n",
    "\n",
    "joblib.dump(mask_scores, 'results/SVCAugmentationResults')"
   ]
  },
  {
   "cell_type": "code",
   "execution_count": 70,
   "id": "58aa3278-19c5-42fc-a717-d2fff13f309a",
   "metadata": {
    "tags": []
   },
   "outputs": [
    {
     "data": {
      "image/png": "[encoded data removed]",
      "text/plain": [
       "<Figure size 1440x360 with 1 Axes>"
      ]
     },
     "metadata": {
      "needs_background": "light"
     },
     "output_type": "display_data"
    }
   ],
   "source": [
    "pd.DataFrame(joblib.load('results/AugmentationResults')).plot.bar(figsize=(20,5), ylim=(0.35), rot=0)\n",
    "plt.suptitle('Default classifier results with augmentation')\n",
    "plt.show()"
   ]
  },
  {
   "cell_type": "code",
   "execution_count": 69,
   "id": "3fd07ead-9ca6-4117-920c-bbe7c726fdbe",
   "metadata": {
    "tags": []
   },
   "outputs": [
    {
     "data": {
      "image/png": "[encoded data removed]",
      "text/plain": [
       "<Figure size 1440x360 with 1 Axes>"
      ]
     },
     "metadata": {
      "needs_background": "light"
     },
     "output_type": "display_data"
    }
   ],
   "source": [
    "pd.DataFrame(joblib.load('results/SVCAugmentationResults')).plot.bar(figsize=(20,5), ylim=(0.35), rot=0)\n",
    "plt.suptitle('Default SVC results with augmentation')\n",
    "plt.show()"
   ]
  },
  {
   "cell_type": "code",
   "execution_count": 10,
   "id": "395d99f2-311b-41f5-ba97-c1ff5171c2ae",
   "metadata": {
    "jupyter": {
     "source_hidden": true
    },
    "tags": []
   },
   "outputs": [],
   "source": [
    "def aug_cv(clf, n_masks, train_paths, n_folds):\n",
    "        \n",
    "    fold_scores = []\n",
    "    \n",
    "    folds = StratifiedKFold(n_splits=n_folds)\n",
    "    targets = [int(path.split('-')[6]) for path in train_paths]\n",
    "    \n",
    "    for i, (train, val) in enumerate(folds.split(train_paths, targets)):\n",
    "\n",
    "        t = time()\n",
    "        print(f'Fold: {i+1}')\n",
    "\n",
    "        X_train, y_train = create_data(np.array(train_paths)[train], n_masks)\n",
    "        X_val, y_val = create_data(np.array(train_paths)[val], 0)\n",
    "\n",
    "        clf.fit(X_train, y_train)\n",
    "\n",
    "        y_pred = clf.predict(X_val)            \n",
    "        fold_scores.append(f1_score(y_val, y_pred, average='macro'))\n",
    "\n",
    "        time_taken(t, True)\n",
    "\n",
    "    print('============ END =============\\n')    \n",
    "       \n",
    "    return np.asarray(fold_scores)"
   ]
  },
  {
   "cell_type": "code",
   "execution_count": 72,
   "id": "9b2dbd28-e291-4be3-be96-1cded4030ce3",
   "metadata": {
    "scrolled": true,
    "tags": []
   },
   "outputs": [
    {
     "name": "stdout",
     "output_type": "stream",
     "text": [
      "Fitting estimator LogisticRegression() with deafult parameters\n",
      "\n"
     ]
    },
    {
     "name": "stderr",
     "output_type": "stream",
     "text": [
      "[Parallel(n_jobs=-1)]: Using backend LokyBackend with 8 concurrent workers.\n",
      "[Parallel(n_jobs=-1)]: Done   2 out of   5 | elapsed:    1.3s remaining:    2.0s\n",
      "[Parallel(n_jobs=-1)]: Done   3 out of   5 | elapsed:    1.3s remaining:    0.8s\n",
      "[Parallel(n_jobs=-1)]: Done   5 out of   5 | elapsed:    1.3s remaining:    0.0s\n",
      "[Parallel(n_jobs=-1)]: Done   5 out of   5 | elapsed:    1.3s finished\n",
      "[Parallel(n_jobs=-1)]: Using backend LokyBackend with 8 concurrent workers.\n"
     ]
    },
    {
     "name": "stdout",
     "output_type": "stream",
     "text": [
      "\n",
      "Took time: 0h0min1s\n",
      "\n",
      "Fitting estimator SVC() with deafult parameters\n",
      "\n"
     ]
    },
    {
     "name": "stderr",
     "output_type": "stream",
     "text": [
      "[Parallel(n_jobs=-1)]: Done   2 out of   5 | elapsed:    0.2s remaining:    0.4s\n",
      "[Parallel(n_jobs=-1)]: Done   3 out of   5 | elapsed:    0.7s remaining:    0.4s\n",
      "[Parallel(n_jobs=-1)]: Done   5 out of   5 | elapsed:    0.7s remaining:    0.0s\n",
      "[Parallel(n_jobs=-1)]: Done   5 out of   5 | elapsed:    0.7s finished\n",
      "[Parallel(n_jobs=-1)]: Using backend LokyBackend with 8 concurrent workers.\n"
     ]
    },
    {
     "name": "stdout",
     "output_type": "stream",
     "text": [
      "\n",
      "Took time: 0h0min0s\n",
      "\n",
      "Fitting estimator RandomForestClassifier() with deafult parameters\n",
      "\n"
     ]
    },
    {
     "name": "stderr",
     "output_type": "stream",
     "text": [
      "[Parallel(n_jobs=-1)]: Done   2 out of   5 | elapsed:    1.1s remaining:    1.7s\n",
      "[Parallel(n_jobs=-1)]: Done   3 out of   5 | elapsed:    1.1s remaining:    0.7s\n",
      "[Parallel(n_jobs=-1)]: Done   5 out of   5 | elapsed:    1.1s remaining:    0.0s\n",
      "[Parallel(n_jobs=-1)]: Done   5 out of   5 | elapsed:    1.1s finished\n",
      "[Parallel(n_jobs=-1)]: Using backend LokyBackend with 8 concurrent workers.\n"
     ]
    },
    {
     "name": "stdout",
     "output_type": "stream",
     "text": [
      "\n",
      "Took time: 0h0min1s\n",
      "\n",
      "Fitting estimator MLPClassifier() with deafult parameters\n",
      "\n"
     ]
    },
    {
     "name": "stderr",
     "output_type": "stream",
     "text": [
      "[Parallel(n_jobs=-1)]: Done   2 out of   5 | elapsed:    3.1s remaining:    4.7s\n",
      "[Parallel(n_jobs=-1)]: Done   3 out of   5 | elapsed:    3.1s remaining:    2.0s\n",
      "[Parallel(n_jobs=-1)]: Done   5 out of   5 | elapsed:    3.2s remaining:    0.0s\n",
      "[Parallel(n_jobs=-1)]: Done   5 out of   5 | elapsed:    3.2s finished\n"
     ]
    },
    {
     "name": "stdout",
     "output_type": "stream",
     "text": [
      "\n",
      "Took time: 0h0min3s\n",
      "\n",
      "Fitting estimator XGBClassifier(base_score=None, booster=None, colsample_bylevel=None,\n",
      "              colsample_bynode=None, colsample_bytree=None,\n",
      "              enable_categorical=False, eval_metric='mlogloss', gamma=None,\n",
      "              gpu_id=None, importance_type=None, interaction_constraints=None,\n",
      "              learning_rate=None, max_delta_step=None, max_depth=None,\n",
      "              min_child_weight=None, missing=nan, monotone_constraints=None,\n",
      "              n_estimators=100, n_jobs=1, num_parallel_tree=None,\n",
      "              objective='multi:softmax', predictor=None, random_state=None,\n",
      "              reg_alpha=None, reg_lambda=None, scale_pos_weight=None,\n",
      "              subsample=None, tree_method='gpu_hist', use_label_encoder=False,\n",
      "              validate_parameters=None, ...) with deafult parameters\n",
      "\n"
     ]
    },
    {
     "name": "stderr",
     "output_type": "stream",
     "text": [
      "[Parallel(n_jobs=-1)]: Using backend LokyBackend with 8 concurrent workers.\n",
      "[Parallel(n_jobs=-1)]: Done   2 out of   5 | elapsed:   28.6s remaining:   43.0s\n",
      "[Parallel(n_jobs=-1)]: Done   3 out of   5 | elapsed:   28.8s remaining:   19.1s\n",
      "[Parallel(n_jobs=-1)]: Done   5 out of   5 | elapsed:   28.8s remaining:    0.0s\n",
      "[Parallel(n_jobs=-1)]: Done   5 out of   5 | elapsed:   28.8s finished\n"
     ]
    },
    {
     "name": "stdout",
     "output_type": "stream",
     "text": [
      "\n",
      "Took time: 0h0min29s\n",
      "\n",
      "Wall time: 36.2 s\n"
     ]
    },
    {
     "data": {
      "text/plain": [
       "['results/DefaultResults']"
      ]
     },
     "execution_count": 72,
     "metadata": {},
     "output_type": "execute_result"
    }
   ],
   "source": [
    "%%time\n",
    "\n",
    "default_names = ['LogisticRegression', 'SVC', 'RandomForestClassifier', 'MLPClassifier', 'XGBClassifier']\n",
    "\n",
    "default_pipes = [make_pipeline(StandardScaler(), LogisticRegression()),\n",
    "                 make_pipeline(StandardScaler(), SVC()),\n",
    "                 make_pipeline(RandomForestClassifier()),\n",
    "                 make_pipeline(StandardScaler(), MLPClassifier()),\n",
    "                 make_pipeline(XGBClassifier(tree_method='gpu_hist', objective='multi:softmax', eval_metric='mlogloss', use_label_encoder=False, n_jobs=1))]\n",
    "\n",
    "default_results = {}\n",
    "\n",
    "for pipe, name in zip(default_pipes, default_names):\n",
    "    print(f'Fitting estimator {pipe[-1]} with deafult parameters\\n')\n",
    "        \n",
    "    t = time()\n",
    "    result = cross_val_score(pipe, X_train, y_train, scoring='f1_macro', n_jobs=-1, verbose=10, cv=5)\n",
    "    time_taken(t, True)\n",
    "\n",
    "    default_results[name] = result\n",
    "\n",
    "joblib.dump(pd.DataFrame(default_results), 'results/DefaultResults')"
   ]
  },
  {
   "cell_type": "code",
   "execution_count": 7,
   "id": "a3afd018-a65e-40a7-bfe4-8d282d14e454",
   "metadata": {},
   "outputs": [
    {
     "data": {
      "image/png": "[encoded data removed]",
      "text/plain": [
       "<Figure size 720x504 with 1 Axes>"
      ]
     },
     "metadata": {
      "needs_background": "light"
     },
     "output_type": "display_data"
    },
    {
     "name": "stdout",
     "output_type": "stream",
     "text": [
      "\n",
      "=====Cross-validation metrics======\n",
      "\n",
      "With estimator: MLPClassifier\n",
      "\n",
      "Mean F1-score: 0.708\n",
      "Standard deviation: 0.016\n",
      "\n",
      "============== END ===============\n",
      "\n",
      "\n",
      "=====Cross-validation metrics======\n",
      "\n",
      "With estimator: XGBClassifier\n",
      "\n",
      "Mean F1-score: 0.633\n",
      "Standard deviation: 0.036\n",
      "\n",
      "============== END ===============\n",
      "\n",
      "\n",
      "=====Cross-validation metrics======\n",
      "\n",
      "With estimator: LogisticRegression\n",
      "\n",
      "Mean F1-score: 0.603\n",
      "Standard deviation: 0.017\n",
      "\n",
      "============== END ===============\n",
      "\n",
      "\n",
      "=====Cross-validation metrics======\n",
      "\n",
      "With estimator: RandomForestClassifier\n",
      "\n",
      "Mean F1-score: 0.576\n",
      "Standard deviation: 0.035\n",
      "\n",
      "============== END ===============\n",
      "\n",
      "\n",
      "=====Cross-validation metrics======\n",
      "\n",
      "With estimator: SVC\n",
      "\n",
      "Mean F1-score: 0.551\n",
      "Standard deviation: 0.028\n",
      "\n",
      "============== END ===============\n",
      "\n"
     ]
    }
   ],
   "source": [
    "default_results = joblib.load('results/DefaultResults')\n",
    "\n",
    "sorted_names = default_results.mean().sort_values().index\n",
    "\n",
    "sorted_default_results = default_results[sorted_names]\n",
    "\n",
    "plt.figure(figsize=(10,7))\n",
    "\n",
    "sns.boxplot(data=sorted_default_results, medianprops={'linestyle':'None'}, showmeans=True, meanline=True, meanprops={'color':'black'})\n",
    "plt.ylabel('Mean test score')\n",
    "plt.xlabel(None)\n",
    "plt.suptitle('Default results')\n",
    "plt.show()\n",
    "\n",
    "for name in np.flip(sorted_names):\n",
    "    \n",
    "    score = np.mean(default_results[name])\n",
    "    std = np.std(default_results[name])\n",
    "    \n",
    "    print('\\n=====Cross-validation metrics======\\n')\n",
    "    print(f'With estimator: {name}\\n')\n",
    "    print(f\"Mean F1-score: {round(score, 3)}\")\n",
    "    print(f\"Standard deviation: {round(std, 3)}\\n\")\n",
    "    print('============== END ===============\\n')\n",
    "    "
   ]
  },
  {
   "cell_type": "markdown",
   "id": "99d19515-0ac7-445d-bc4d-2d701b6f7c73",
   "metadata": {},
   "source": [
    "### Hyperparameter tuning"
   ]
  },
  {
   "cell_type": "code",
   "execution_count": 8,
   "id": "268ea376-3284-4c56-8ef0-bee96e8c1f3f",
   "metadata": {},
   "outputs": [],
   "source": [
    "names = ['LogisticRegression', 'SVC', 'RandomForestClassifier', 'MLPClassifier', 'XGBClassifier']\n",
    "paths = [('searches/'+name+'Search', 'searches/'+name+'Results') for name in names]\n",
    "\n",
    "searches, results = [], []\n",
    "\n",
    "for p1, p2 in paths:\n",
    "    searches.append(joblib.load(p1))\n",
    "    results.append(joblib.load(p2))"
   ]
  },
  {
   "cell_type": "code",
   "execution_count": 9,
   "id": "054e7853-239f-40db-8dd6-42461724b8f7",
   "metadata": {},
   "outputs": [
    {
     "name": "stdout",
     "output_type": "stream",
     "text": [
      "\n",
      "Top 3 best performing parameters for model: LogisticRegression\n"
     ]
    },
    {
     "data": {
      "text/html": [
       "<div>\n",
       "<style scoped>\n",
       "    .dataframe tbody tr th:only-of-type {\n",
       "        vertical-align: middle;\n",
       "    }\n",
       "\n",
       "    .dataframe tbody tr th {\n",
       "        vertical-align: top;\n",
       "    }\n",
       "\n",
       "    .dataframe thead th {\n",
       "        text-align: right;\n",
       "    }\n",
       "</style>\n",
       "<table border=\"1\" class=\"dataframe\">\n",
       "  <thead>\n",
       "    <tr style=\"text-align: right;\">\n",
       "      <th></th>\n",
       "      <th>mean_test_score</th>\n",
       "      <th>std_test_score</th>\n",
       "      <th>rank_test_score</th>\n",
       "      <th>n_samples</th>\n",
       "      <th>params</th>\n",
       "    </tr>\n",
       "  </thead>\n",
       "  <tbody>\n",
       "    <tr>\n",
       "      <th>334</th>\n",
       "      <td>0.61881</td>\n",
       "      <td>0.01619</td>\n",
       "      <td>1</td>\n",
       "      <td>1296</td>\n",
       "      <td>{'clf__C': 5.182323505895209, 'clf__class_weight': 'balanced', 'clf__penalty': 'l1', 'clf__solver': 'liblinear', 'scaler': MinMaxScaler()}</td>\n",
       "    </tr>\n",
       "    <tr>\n",
       "      <th>125</th>\n",
       "      <td>0.61827</td>\n",
       "      <td>0.01755</td>\n",
       "      <td>2</td>\n",
       "      <td>1296</td>\n",
       "      <td>{'clf__C': 5.1096007572985185, 'clf__class_weight': 'balanced', 'clf__penalty': 'l1', 'clf__solver': 'liblinear', 'scaler': MinMaxScaler()}</td>\n",
       "    </tr>\n",
       "    <tr>\n",
       "      <th>529</th>\n",
       "      <td>0.61757</td>\n",
       "      <td>0.01366</td>\n",
       "      <td>3</td>\n",
       "      <td>1296</td>\n",
       "      <td>{'clf__C': 5.642107090110922, 'clf__class_weight': 'balanced', 'clf__penalty': 'l1', 'clf__solver': 'liblinear', 'scaler': MinMaxScaler()}</td>\n",
       "    </tr>\n",
       "  </tbody>\n",
       "</table>\n",
       "</div>"
      ],
      "text/plain": [
       "     mean_test_score  std_test_score  rank_test_score  n_samples  \\\n",
       "334 0.61881          0.01619          1                1296        \n",
       "125 0.61827          0.01755          2                1296        \n",
       "529 0.61757          0.01366          3                1296        \n",
       "\n",
       "                                                                                                                                          params  \n",
       "334  {'clf__C': 5.182323505895209, 'clf__class_weight': 'balanced', 'clf__penalty': 'l1', 'clf__solver': 'liblinear', 'scaler': MinMaxScaler()}   \n",
       "125  {'clf__C': 5.1096007572985185, 'clf__class_weight': 'balanced', 'clf__penalty': 'l1', 'clf__solver': 'liblinear', 'scaler': MinMaxScaler()}  \n",
       "529  {'clf__C': 5.642107090110922, 'clf__class_weight': 'balanced', 'clf__penalty': 'l1', 'clf__solver': 'liblinear', 'scaler': MinMaxScaler()}   "
      ]
     },
     "metadata": {},
     "output_type": "display_data"
    },
    {
     "name": "stdout",
     "output_type": "stream",
     "text": [
      "\n",
      "Top 3 best performing parameters for model: SVC\n"
     ]
    },
    {
     "data": {
      "text/html": [
       "<div>\n",
       "<style scoped>\n",
       "    .dataframe tbody tr th:only-of-type {\n",
       "        vertical-align: middle;\n",
       "    }\n",
       "\n",
       "    .dataframe tbody tr th {\n",
       "        vertical-align: top;\n",
       "    }\n",
       "\n",
       "    .dataframe thead th {\n",
       "        text-align: right;\n",
       "    }\n",
       "</style>\n",
       "<table border=\"1\" class=\"dataframe\">\n",
       "  <thead>\n",
       "    <tr style=\"text-align: right;\">\n",
       "      <th></th>\n",
       "      <th>mean_test_score</th>\n",
       "      <th>std_test_score</th>\n",
       "      <th>rank_test_score</th>\n",
       "      <th>n_samples</th>\n",
       "      <th>params</th>\n",
       "    </tr>\n",
       "  </thead>\n",
       "  <tbody>\n",
       "    <tr>\n",
       "      <th>3913</th>\n",
       "      <td>0.73747</td>\n",
       "      <td>0.03028</td>\n",
       "      <td>1</td>\n",
       "      <td>1296</td>\n",
       "      <td>{'clf__C': 4.073181932046468, 'clf__gamma': 1.0070740558594764, 'clf__kernel': 'rbf', 'decomp': PCA(n_components=0.99), 'scaler2': MinMaxScaler()}</td>\n",
       "    </tr>\n",
       "    <tr>\n",
       "      <th>3059</th>\n",
       "      <td>0.73478</td>\n",
       "      <td>0.02121</td>\n",
       "      <td>2</td>\n",
       "      <td>1296</td>\n",
       "      <td>{'clf__C': 3.7389329023788513, 'clf__gamma': 0.015317140891398554, 'clf__kernel': 'rbf', 'decomp': PCA(n_components=0.99), 'scaler2': StandardScaler()}</td>\n",
       "    </tr>\n",
       "    <tr>\n",
       "      <th>1745</th>\n",
       "      <td>0.73044</td>\n",
       "      <td>0.02159</td>\n",
       "      <td>3</td>\n",
       "      <td>1296</td>\n",
       "      <td>{'clf__C': 9.812414648924417, 'clf__gamma': 0.0054615296005484995, 'clf__kernel': 'rbf', 'decomp': PCA(), 'scaler2': 'passthrough'}</td>\n",
       "    </tr>\n",
       "  </tbody>\n",
       "</table>\n",
       "</div>"
      ],
      "text/plain": [
       "      mean_test_score  std_test_score  rank_test_score  n_samples  \\\n",
       "3913 0.73747          0.03028          1                1296        \n",
       "3059 0.73478          0.02121          2                1296        \n",
       "1745 0.73044          0.02159          3                1296        \n",
       "\n",
       "                                                                                                                                                       params  \n",
       "3913  {'clf__C': 4.073181932046468, 'clf__gamma': 1.0070740558594764, 'clf__kernel': 'rbf', 'decomp': PCA(n_components=0.99), 'scaler2': MinMaxScaler()}       \n",
       "3059  {'clf__C': 3.7389329023788513, 'clf__gamma': 0.015317140891398554, 'clf__kernel': 'rbf', 'decomp': PCA(n_components=0.99), 'scaler2': StandardScaler()}  \n",
       "1745  {'clf__C': 9.812414648924417, 'clf__gamma': 0.0054615296005484995, 'clf__kernel': 'rbf', 'decomp': PCA(), 'scaler2': 'passthrough'}                      "
      ]
     },
     "metadata": {},
     "output_type": "display_data"
    },
    {
     "name": "stdout",
     "output_type": "stream",
     "text": [
      "\n",
      "Top 3 best performing parameters for model: RandomForestClassifier\n"
     ]
    },
    {
     "data": {
      "text/html": [
       "<div>\n",
       "<style scoped>\n",
       "    .dataframe tbody tr th:only-of-type {\n",
       "        vertical-align: middle;\n",
       "    }\n",
       "\n",
       "    .dataframe tbody tr th {\n",
       "        vertical-align: top;\n",
       "    }\n",
       "\n",
       "    .dataframe thead th {\n",
       "        text-align: right;\n",
       "    }\n",
       "</style>\n",
       "<table border=\"1\" class=\"dataframe\">\n",
       "  <thead>\n",
       "    <tr style=\"text-align: right;\">\n",
       "      <th></th>\n",
       "      <th>mean_test_score</th>\n",
       "      <th>std_test_score</th>\n",
       "      <th>rank_test_score</th>\n",
       "      <th>n_samples</th>\n",
       "      <th>params</th>\n",
       "    </tr>\n",
       "  </thead>\n",
       "  <tbody>\n",
       "    <tr>\n",
       "      <th>5</th>\n",
       "      <td>0.61131</td>\n",
       "      <td>0.04421</td>\n",
       "      <td>1</td>\n",
       "      <td>1152</td>\n",
       "      <td>{'clf__bootstrap': False, 'clf__criterion': 'entropy', 'clf__max_features': 12, 'clf__min_samples_split': 2, 'clf__n_estimators': 500}</td>\n",
       "    </tr>\n",
       "    <tr>\n",
       "      <th>44</th>\n",
       "      <td>0.61105</td>\n",
       "      <td>0.04430</td>\n",
       "      <td>2</td>\n",
       "      <td>1152</td>\n",
       "      <td>{'clf__bootstrap': False, 'clf__criterion': 'entropy', 'clf__max_features': 10, 'clf__min_samples_split': 3, 'clf__n_estimators': 500}</td>\n",
       "    </tr>\n",
       "    <tr>\n",
       "      <th>64</th>\n",
       "      <td>0.61063</td>\n",
       "      <td>0.04657</td>\n",
       "      <td>3</td>\n",
       "      <td>1152</td>\n",
       "      <td>{'clf__bootstrap': False, 'clf__criterion': 'entropy', 'clf__max_features': 7, 'clf__min_samples_split': 3, 'clf__n_estimators': 500}</td>\n",
       "    </tr>\n",
       "  </tbody>\n",
       "</table>\n",
       "</div>"
      ],
      "text/plain": [
       "    mean_test_score  std_test_score  rank_test_score  n_samples  \\\n",
       "5  0.61131          0.04421          1                1152        \n",
       "44 0.61105          0.04430          2                1152        \n",
       "64 0.61063          0.04657          3                1152        \n",
       "\n",
       "                                                                                                                                    params  \n",
       "5   {'clf__bootstrap': False, 'clf__criterion': 'entropy', 'clf__max_features': 12, 'clf__min_samples_split': 2, 'clf__n_estimators': 500}  \n",
       "44  {'clf__bootstrap': False, 'clf__criterion': 'entropy', 'clf__max_features': 10, 'clf__min_samples_split': 3, 'clf__n_estimators': 500}  \n",
       "64  {'clf__bootstrap': False, 'clf__criterion': 'entropy', 'clf__max_features': 7, 'clf__min_samples_split': 3, 'clf__n_estimators': 500}   "
      ]
     },
     "metadata": {},
     "output_type": "display_data"
    },
    {
     "name": "stdout",
     "output_type": "stream",
     "text": [
      "\n",
      "Top 3 best performing parameters for model: MLPClassifier\n"
     ]
    },
    {
     "data": {
      "text/html": [
       "<div>\n",
       "<style scoped>\n",
       "    .dataframe tbody tr th:only-of-type {\n",
       "        vertical-align: middle;\n",
       "    }\n",
       "\n",
       "    .dataframe tbody tr th {\n",
       "        vertical-align: top;\n",
       "    }\n",
       "\n",
       "    .dataframe thead th {\n",
       "        text-align: right;\n",
       "    }\n",
       "</style>\n",
       "<table border=\"1\" class=\"dataframe\">\n",
       "  <thead>\n",
       "    <tr style=\"text-align: right;\">\n",
       "      <th></th>\n",
       "      <th>mean_test_score</th>\n",
       "      <th>std_test_score</th>\n",
       "      <th>rank_test_score</th>\n",
       "      <th>n_samples</th>\n",
       "      <th>params</th>\n",
       "    </tr>\n",
       "  </thead>\n",
       "  <tbody>\n",
       "    <tr>\n",
       "      <th>66</th>\n",
       "      <td>0.74162</td>\n",
       "      <td>0.03179</td>\n",
       "      <td>1</td>\n",
       "      <td>1296</td>\n",
       "      <td>{'scaler': StandardScaler(), 'clf__max_iter': 1000, 'clf__learning_rate_init': 0.0005, 'clf__learning_rate': 'constant', 'clf__hidden_layer_sizes': (512, 128), 'clf__batch_size': 100, 'clf__activation': 'relu'}</td>\n",
       "    </tr>\n",
       "    <tr>\n",
       "      <th>50</th>\n",
       "      <td>0.73852</td>\n",
       "      <td>0.02131</td>\n",
       "      <td>2</td>\n",
       "      <td>1296</td>\n",
       "      <td>{'scaler': StandardScaler(), 'clf__max_iter': 1000, 'clf__learning_rate_init': 0.0005, 'clf__learning_rate': 'constant', 'clf__hidden_layer_sizes': (512,), 'clf__batch_size': 100, 'clf__activation': 'relu'}</td>\n",
       "    </tr>\n",
       "    <tr>\n",
       "      <th>70</th>\n",
       "      <td>0.73735</td>\n",
       "      <td>0.02938</td>\n",
       "      <td>3</td>\n",
       "      <td>1296</td>\n",
       "      <td>{'scaler': StandardScaler(), 'clf__max_iter': 1000, 'clf__learning_rate_init': 0.0005, 'clf__learning_rate': 'constant', 'clf__hidden_layer_sizes': (512, 64), 'clf__batch_size': 100, 'clf__activation': 'relu'}</td>\n",
       "    </tr>\n",
       "  </tbody>\n",
       "</table>\n",
       "</div>"
      ],
      "text/plain": [
       "    mean_test_score  std_test_score  rank_test_score  n_samples  \\\n",
       "66 0.74162          0.03179          1                1296        \n",
       "50 0.73852          0.02131          2                1296        \n",
       "70 0.73735          0.02938          3                1296        \n",
       "\n",
       "                                                                                                                                                                                                                params  \n",
       "66  {'scaler': StandardScaler(), 'clf__max_iter': 1000, 'clf__learning_rate_init': 0.0005, 'clf__learning_rate': 'constant', 'clf__hidden_layer_sizes': (512, 128), 'clf__batch_size': 100, 'clf__activation': 'relu'}  \n",
       "50  {'scaler': StandardScaler(), 'clf__max_iter': 1000, 'clf__learning_rate_init': 0.0005, 'clf__learning_rate': 'constant', 'clf__hidden_layer_sizes': (512,), 'clf__batch_size': 100, 'clf__activation': 'relu'}      \n",
       "70  {'scaler': StandardScaler(), 'clf__max_iter': 1000, 'clf__learning_rate_init': 0.0005, 'clf__learning_rate': 'constant', 'clf__hidden_layer_sizes': (512, 64), 'clf__batch_size': 100, 'clf__activation': 'relu'}   "
      ]
     },
     "metadata": {},
     "output_type": "display_data"
    },
    {
     "name": "stdout",
     "output_type": "stream",
     "text": [
      "\n",
      "Top 3 best performing parameters for model: XGBClassifier\n"
     ]
    },
    {
     "data": {
      "text/html": [
       "<div>\n",
       "<style scoped>\n",
       "    .dataframe tbody tr th:only-of-type {\n",
       "        vertical-align: middle;\n",
       "    }\n",
       "\n",
       "    .dataframe tbody tr th {\n",
       "        vertical-align: top;\n",
       "    }\n",
       "\n",
       "    .dataframe thead th {\n",
       "        text-align: right;\n",
       "    }\n",
       "</style>\n",
       "<table border=\"1\" class=\"dataframe\">\n",
       "  <thead>\n",
       "    <tr style=\"text-align: right;\">\n",
       "      <th></th>\n",
       "      <th>mean_test_score</th>\n",
       "      <th>std_test_score</th>\n",
       "      <th>rank_test_score</th>\n",
       "      <th>n_samples</th>\n",
       "      <th>params</th>\n",
       "    </tr>\n",
       "  </thead>\n",
       "  <tbody>\n",
       "    <tr>\n",
       "      <th>1897</th>\n",
       "      <td>0.66542</td>\n",
       "      <td>0.02965</td>\n",
       "      <td>1</td>\n",
       "      <td>1296</td>\n",
       "      <td>{'clf__colsample_bytree': 0.9007123166538439, 'clf__eval_metric': 'mlogloss', 'clf__gamma': 0.06126780910439317, 'clf__learning_rate': 0.1, 'clf__max_depth': 3, 'clf__min_child_weight': 2, 'clf__n_estimators': 500, 'clf__objective': 'multi:softmax', 'clf__subsample': 0.7671253776764335, 'clf__tree_method': 'gpu_hist'}</td>\n",
       "    </tr>\n",
       "    <tr>\n",
       "      <th>227</th>\n",
       "      <td>0.66377</td>\n",
       "      <td>0.03267</td>\n",
       "      <td>2</td>\n",
       "      <td>1296</td>\n",
       "      <td>{'clf__colsample_bytree': 0.7886879685162956, 'clf__eval_metric': 'mlogloss', 'clf__gamma': 0.011689319600720813, 'clf__learning_rate': 0.05, 'clf__max_depth': 4, 'clf__min_child_weight': 2, 'clf__n_estimators': 500, 'clf__objective': 'multi:softmax', 'clf__subsample': 0.5318214214489826, 'clf__tree_method': 'gpu_hist'}</td>\n",
       "    </tr>\n",
       "    <tr>\n",
       "      <th>241</th>\n",
       "      <td>0.66295</td>\n",
       "      <td>0.02491</td>\n",
       "      <td>3</td>\n",
       "      <td>1296</td>\n",
       "      <td>{'clf__colsample_bytree': 0.5924101307502787, 'clf__eval_metric': 'mlogloss', 'clf__gamma': 0.002617805884371923, 'clf__learning_rate': 0.1, 'clf__max_depth': 3, 'clf__min_child_weight': 2, 'clf__n_estimators': 500, 'clf__objective': 'multi:softmax', 'clf__subsample': 0.6181436488221598, 'clf__tree_method': 'gpu_hist'}</td>\n",
       "    </tr>\n",
       "  </tbody>\n",
       "</table>\n",
       "</div>"
      ],
      "text/plain": [
       "      mean_test_score  std_test_score  rank_test_score  n_samples  \\\n",
       "1897 0.66542          0.02965          1                1296        \n",
       "227  0.66377          0.03267          2                1296        \n",
       "241  0.66295          0.02491          3                1296        \n",
       "\n",
       "                                                                                                                                                                                                                                                                                                                                 params  \n",
       "1897  {'clf__colsample_bytree': 0.9007123166538439, 'clf__eval_metric': 'mlogloss', 'clf__gamma': 0.06126780910439317, 'clf__learning_rate': 0.1, 'clf__max_depth': 3, 'clf__min_child_weight': 2, 'clf__n_estimators': 500, 'clf__objective': 'multi:softmax', 'clf__subsample': 0.7671253776764335, 'clf__tree_method': 'gpu_hist'}    \n",
       "227   {'clf__colsample_bytree': 0.7886879685162956, 'clf__eval_metric': 'mlogloss', 'clf__gamma': 0.011689319600720813, 'clf__learning_rate': 0.05, 'clf__max_depth': 4, 'clf__min_child_weight': 2, 'clf__n_estimators': 500, 'clf__objective': 'multi:softmax', 'clf__subsample': 0.5318214214489826, 'clf__tree_method': 'gpu_hist'}  \n",
       "241   {'clf__colsample_bytree': 0.5924101307502787, 'clf__eval_metric': 'mlogloss', 'clf__gamma': 0.002617805884371923, 'clf__learning_rate': 0.1, 'clf__max_depth': 3, 'clf__min_child_weight': 2, 'clf__n_estimators': 500, 'clf__objective': 'multi:softmax', 'clf__subsample': 0.6181436488221598, 'clf__tree_method': 'gpu_hist'}   "
      ]
     },
     "metadata": {},
     "output_type": "display_data"
    }
   ],
   "source": [
    "columns_to_show = ['mean_test_score', 'std_test_score', 'rank_test_score', 'n_samples', 'params']\n",
    "\n",
    "for i, name in enumerate(names):\n",
    "    \n",
    "    sorted_results = results[i][['mean_test_score', 'std_test_score', 'rank_test_score', 'n_samples', 'params']].sort_values(['mean_test_score'], ascending=False)\n",
    "    \n",
    "    with pd.option_context('display.max_colwidth', -1):\n",
    "        print('\\nTop 3 best performing parameters for model: '+name)\n",
    "        display(sorted_results[:3])"
   ]
  },
  {
   "cell_type": "markdown",
   "id": "9cd717a3-8eff-4eff-8a1c-46675922f2ba",
   "metadata": {},
   "source": [
    "### Cross-validation of models with best hyperparameters"
   ]
  },
  {
   "cell_type": "code",
   "execution_count": 76,
   "id": "3d7e201c-9571-4a12-ba71-8fdf6ec2eb5d",
   "metadata": {
    "scrolled": true,
    "tags": []
   },
   "outputs": [
    {
     "name": "stdout",
     "output_type": "stream",
     "text": [
      "Fitting model LogisticRegression with best parameters\n",
      "\n"
     ]
    },
    {
     "name": "stderr",
     "output_type": "stream",
     "text": [
      "[Parallel(n_jobs=-1)]: Using backend LokyBackend with 8 concurrent workers.\n",
      "[Parallel(n_jobs=-1)]: Done   2 out of   5 | elapsed:    5.5s remaining:    8.3s\n",
      "[Parallel(n_jobs=-1)]: Done   3 out of   5 | elapsed:    5.7s remaining:    3.8s\n",
      "[Parallel(n_jobs=-1)]: Done   5 out of   5 | elapsed:    5.7s remaining:    0.0s\n",
      "[Parallel(n_jobs=-1)]: Done   5 out of   5 | elapsed:    5.7s finished\n"
     ]
    },
    {
     "name": "stdout",
     "output_type": "stream",
     "text": [
      "\n",
      "Took time: 0h0min5s\n",
      "\n",
      "Fitting model SVC with best parameters\n",
      "\n"
     ]
    },
    {
     "name": "stderr",
     "output_type": "stream",
     "text": [
      "[Parallel(n_jobs=-1)]: Using backend LokyBackend with 8 concurrent workers.\n",
      "[Parallel(n_jobs=-1)]: Done   2 out of   5 | elapsed:    0.3s remaining:    0.4s\n",
      "[Parallel(n_jobs=-1)]: Done   3 out of   5 | elapsed:    0.3s remaining:    0.1s\n",
      "[Parallel(n_jobs=-1)]: Done   5 out of   5 | elapsed:    0.3s remaining:    0.0s\n",
      "[Parallel(n_jobs=-1)]: Done   5 out of   5 | elapsed:    0.3s finished\n",
      "[Parallel(n_jobs=-1)]: Using backend LokyBackend with 8 concurrent workers.\n"
     ]
    },
    {
     "name": "stdout",
     "output_type": "stream",
     "text": [
      "\n",
      "Took time: 0h0min0s\n",
      "\n",
      "Fitting model RandomForestClassifier with best parameters\n",
      "\n"
     ]
    },
    {
     "name": "stderr",
     "output_type": "stream",
     "text": [
      "[Parallel(n_jobs=-1)]: Done   2 out of   5 | elapsed:   26.6s remaining:   39.9s\n",
      "[Parallel(n_jobs=-1)]: Done   3 out of   5 | elapsed:   26.7s remaining:   17.8s\n",
      "[Parallel(n_jobs=-1)]: Done   5 out of   5 | elapsed:   26.7s remaining:    0.0s\n",
      "[Parallel(n_jobs=-1)]: Done   5 out of   5 | elapsed:   26.7s finished\n"
     ]
    },
    {
     "name": "stdout",
     "output_type": "stream",
     "text": [
      "\n",
      "Took time: 0h0min26s\n",
      "\n",
      "Fitting model MLPClassifier with best parameters\n",
      "\n"
     ]
    },
    {
     "name": "stderr",
     "output_type": "stream",
     "text": [
      "[Parallel(n_jobs=-1)]: Using backend LokyBackend with 8 concurrent workers.\n",
      "[Parallel(n_jobs=-1)]: Done   2 out of   5 | elapsed:   25.5s remaining:   38.3s\n",
      "[Parallel(n_jobs=-1)]: Done   3 out of   5 | elapsed:   26.0s remaining:   17.3s\n",
      "[Parallel(n_jobs=-1)]: Done   5 out of   5 | elapsed:   26.6s remaining:    0.0s\n",
      "[Parallel(n_jobs=-1)]: Done   5 out of   5 | elapsed:   26.6s finished\n",
      "[Parallel(n_jobs=-1)]: Using backend LokyBackend with 8 concurrent workers.\n"
     ]
    },
    {
     "name": "stdout",
     "output_type": "stream",
     "text": [
      "\n",
      "Took time: 0h0min26s\n",
      "\n",
      "Fitting model XGBClassifier with best parameters\n",
      "\n"
     ]
    },
    {
     "name": "stderr",
     "output_type": "stream",
     "text": [
      "[Parallel(n_jobs=-1)]: Done   2 out of   5 | elapsed:   50.3s remaining:  1.3min\n",
      "[Parallel(n_jobs=-1)]: Done   3 out of   5 | elapsed:   50.3s remaining:   33.5s\n",
      "[Parallel(n_jobs=-1)]: Done   5 out of   5 | elapsed:   50.5s remaining:    0.0s\n",
      "[Parallel(n_jobs=-1)]: Done   5 out of   5 | elapsed:   50.5s finished\n"
     ]
    },
    {
     "name": "stdout",
     "output_type": "stream",
     "text": [
      "\n",
      "Took time: 0h0min50s\n",
      "\n",
      "Wall time: 1min 50s\n"
     ]
    },
    {
     "data": {
      "text/plain": [
       "['results/OptimizedResults']"
      ]
     },
     "execution_count": 76,
     "metadata": {},
     "output_type": "execute_result"
    }
   ],
   "source": [
    "%%time\n",
    "\n",
    "optimized_results = {}\n",
    "\n",
    "for i, name in enumerate(names):\n",
    "    \n",
    "    print(f'Fitting model {name} with best parameters\\n')\n",
    "    \n",
    "    opt_estimator = searches[i][-1].best_estimator_\n",
    "        \n",
    "    t = time()\n",
    "    result = cross_val_score(opt_estimator, X_train, y_train, scoring='f1_macro', n_jobs=-1, verbose=10, cv=5)\n",
    "    time_taken(t, True)\n",
    "\n",
    "    optimized_results[name] = result\n",
    "\n",
    "joblib.dump(pd.DataFrame(optimized_results), 'results/OptimizedResults')"
   ]
  },
  {
   "cell_type": "code",
   "execution_count": 11,
   "id": "fc1a7525-aee8-4304-a178-197b122ab867",
   "metadata": {},
   "outputs": [
    {
     "data": {
      "image/png": "[encoded data removed]",
      "text/plain": [
       "<Figure size 1008x576 with 1 Axes>"
      ]
     },
     "metadata": {
      "needs_background": "light"
     },
     "output_type": "display_data"
    },
    {
     "name": "stdout",
     "output_type": "stream",
     "text": [
      "\n",
      "==== Cross-validation metrics ====\n",
      "\n",
      "With estimator: SVC\n",
      "\n",
      "Mean F1-score: 0.737\n",
      "Standard deviation: 0.03\n",
      "\n",
      "============== END ================\n",
      "\n",
      "\n",
      "==== Cross-validation metrics ====\n",
      "\n",
      "With estimator: MLPClassifier\n",
      "\n",
      "Mean F1-score: 0.73\n",
      "Standard deviation: 0.011\n",
      "\n",
      "============== END ================\n",
      "\n",
      "\n",
      "==== Cross-validation metrics ====\n",
      "\n",
      "With estimator: XGBClassifier\n",
      "\n",
      "Mean F1-score: 0.658\n",
      "Standard deviation: 0.035\n",
      "\n",
      "============== END ================\n",
      "\n",
      "\n",
      "==== Cross-validation metrics ====\n",
      "\n",
      "With estimator: RandomForestClassifier\n",
      "\n",
      "Mean F1-score: 0.623\n",
      "Standard deviation: 0.012\n",
      "\n",
      "============== END ================\n",
      "\n",
      "\n",
      "==== Cross-validation metrics ====\n",
      "\n",
      "With estimator: LogisticRegression\n",
      "\n",
      "Mean F1-score: 0.618\n",
      "Standard deviation: 0.016\n",
      "\n",
      "============== END ================\n",
      "\n"
     ]
    }
   ],
   "source": [
    "optimized_results, default_results = joblib.load('results/OptimizedResults'), joblib.load('results/DefaultResults')\n",
    "\n",
    "sorted_optimized_results = optimized_results[optimized_results.mean().sort_values().index]\n",
    "\n",
    "sorted_columns = sorted_optimized_results.columns\n",
    "sorted_default_results = default_results[sorted_columns]\n",
    "\n",
    "sorted_optimized_results = pd.melt(sorted_optimized_results)\n",
    "sorted_default_results = pd.melt(sorted_default_results)\n",
    "\n",
    "sorted_optimized_results['type'] = 'Optimized'\n",
    "sorted_default_results['type'] = 'Default'\n",
    "\n",
    "cdf = pd.concat((sorted_default_results, sorted_optimized_results))\n",
    "\n",
    "plt.figure(figsize=(14,8))\n",
    "plot = sns.boxplot(x='variable',  hue='type', y='value', data=cdf, medianprops={'linestyle':'None'}, showmeans=True, meanline=True, meanprops={'color':'black'})\n",
    "plot.set_ylabel('Mean test score', fontsize=12)\n",
    "plot.set_xlabel(None)\n",
    "plt.suptitle('Default and optimized results', fontsize=15)\n",
    "plt.legend(fontsize=13)\n",
    "plt.show()\n",
    "\n",
    "for name in np.flip(sorted_columns):\n",
    "    score = round(np.mean(optimized_results[name]), 3)\n",
    "    std = round(np.std(optimized_results[name]), 3)\n",
    "    \n",
    "    print('\\n==== Cross-validation metrics ====\\n')\n",
    "    print(f'With estimator: {name}\\n')\n",
    "    print(f\"Mean F1-score: {score}\")\n",
    "    print(f\"Standard deviation: {std}\\n\")\n",
    "    print('============== END ================\\n')"
   ]
  },
  {
   "cell_type": "code",
   "execution_count": 12,
   "id": "5e3f8156-64ee-435b-b7d0-2e5ffac1c231",
   "metadata": {},
   "outputs": [
    {
     "name": "stdout",
     "output_type": "stream",
     "text": [
      "Fitting estimator LogisticRegression\n",
      "\n",
      "Fitting estimator SVC\n",
      "\n",
      "Fitting estimator RandomForestClassifier\n",
      "\n",
      "Fitting estimator MLPClassifier\n",
      "\n",
      "Fitting estimator XGBClassifier\n",
      "\n",
      "Wall time: 59.7 s\n"
     ]
    }
   ],
   "source": [
    "%%time\n",
    "\n",
    "best_classifiers = [searches[i][-1].best_estimator_ for i in range(len(optimized_results.columns))]\n",
    "\n",
    "for clf in best_classifiers:\n",
    "    \n",
    "    print(f'Fitting estimator {clf[-1].__class__.__name__}\\n')\n",
    "    clf.fit(X_train, y_train)\n",
    "    \n",
    "    joblib.dump(clf, 'models/'+clf[-1].__class__.__name__)"
   ]
  },
  {
   "cell_type": "markdown",
   "id": "6d75a114-bee0-4be9-adfb-77c1e62fefa4",
   "metadata": {},
   "source": [
    "## Keras convolution neural network"
   ]
  },
  {
   "cell_type": "code",
   "execution_count": 3,
   "id": "c1118a1d-9f8b-401e-80fb-f2093b53df3a",
   "metadata": {},
   "outputs": [],
   "source": [
    "from sklearn.model_selection import train_test_split, StratifiedKFold\n",
    "from sklearn.preprocessing import StandardScaler\n",
    "\n",
    "from tensorflow import keras\n",
    "from tensorflow.keras.models import Sequential\n",
    "from tensorflow.keras.layers import Input, Dense, Conv2D, Activation, Dropout, Flatten, MaxPooling2D, BatchNormalization\n",
    "from keras.regularizers import l2\n",
    "\n",
    "import keras_tuner as kt\n",
    "\n",
    "from sklearn.metrics import f1_score, accuracy_score, confusion_matrix\n",
    "import matplotlib.pyplot as plt\n",
    "import seaborn as sns"
   ]
  },
  {
   "cell_type": "code",
   "execution_count": 27,
   "id": "9e90b59b-b68e-4205-8e60-62b2bdea29e9",
   "metadata": {},
   "outputs": [
    {
     "name": "stdout",
     "output_type": "stream",
     "text": [
      "Wall time: 1min 7s\n"
     ]
    },
    {
     "data": {
      "text/plain": [
       "['data/X_test_keras']"
      ]
     },
     "execution_count": 27,
     "metadata": {},
     "output_type": "execute_result"
    }
   ],
   "source": [
    "%%time\n",
    "\n",
    "path_list = glob.glob('speech-emotion-recognition-ravdess-data/Actor_*/*')\n",
    "path_targets = [int(path.split('-')[6]) for path in path_list]\n",
    "\n",
    "temp, X_test_paths = train_test_split(path_list, stratify=path_targets, test_size=0.10, random_state=42)\n",
    "X_train_paths, X_val_paths = train_test_split(temp, stratify=[int(path.split('-')[6]) for path in temp], test_size=0.15, random_state=42)\n",
    "\n",
    "X_train_keras, y_train_keras = create_data(X_train_paths, n_masks=3, for_sklearn=False, n_mels=128, n_mfccs=20)\n",
    "X_val_keras, y_val_keras = create_data(X_val_paths, for_sklearn=False, n_mels=128, n_mfccs=20)\n",
    "X_test_keras, y_test = create_data(X_test_paths, for_sklearn=False, n_mels=128, n_mfccs=20)\n",
    "\n",
    "joblib.dump(X_train_keras, 'data/X_train_keras'), joblib.dump(X_val_keras, 'data/X_val_keras')\n",
    "joblib.dump(y_train_keras, 'data/y_train_keras'), joblib.dump(y_val_keras, 'data/y_val_keras')\n",
    "joblib.dump(X_test_keras, 'data/X_test_keras')"
   ]
  },
  {
   "cell_type": "code",
   "execution_count": 30,
   "id": "12bec6c9-8fa0-4065-8c2e-21427cb3c5a6",
   "metadata": {},
   "outputs": [
    {
     "name": "stdout",
     "output_type": "stream",
     "text": [
      "(4404, 20, 69, 1)\n",
      "(195, 20, 69, 1)\n",
      "(4404, 8)\n",
      "(195, 8)\n"
     ]
    }
   ],
   "source": [
    "X_train_keras, X_val_keras = joblib.load('data/X_train_keras'), joblib.load('data/X_val_keras')\n",
    "y_train_keras, y_val_keras = joblib.load('data/y_train_keras'), joblib.load('data/y_val_keras')\n",
    "\n",
    "y_train_cat = keras.utils.to_categorical(y_train_keras, 8)\n",
    "y_val_cat = keras.utils.to_categorical(y_val_keras, 8)\n",
    "\n",
    "target_labels = ['neutral',\n",
    "                 'calm',\n",
    "                 'happy',\n",
    "                 'sad',\n",
    "                 'angry',\n",
    "                 'fearul',\n",
    "                 'disgust',\n",
    "                 'surprised']\n",
    "\n",
    "print(X_train_keras.shape)\n",
    "print(X_val_keras.shape)\n",
    "print(y_train_cat.shape)\n",
    "print(y_val_cat.shape)"
   ]
  },
  {
   "cell_type": "code",
   "execution_count": 26,
   "id": "526e2c89-dd8b-4a17-ad31-a38914eb5d6e",
   "metadata": {},
   "outputs": [
    {
     "data": {
      "image/png": "[encoded data removed]",
      "text/plain": [
       "<Figure size 720x576 with 6 Axes>"
      ]
     },
     "metadata": {
      "needs_background": "light"
     },
     "output_type": "display_data"
    }
   ],
   "source": [
    "test_path=['speech-emotion-recognition-ravdess-data/Actor_07/03-01-07-01-01-01-07.wav']\n",
    "\n",
    "test, _ = create_data(test_path, n_masks=1, for_sklearn=False, n_mels=128, n_mfccs=20, only_mfccs=False)\n",
    "\n",
    "fig, axs = plt.subplots(2,2, figsize=(10, 8), gridspec_kw={'height_ratios': [1, 0.5], 'width_ratios': [0.85, 1]}, sharey=False)\n",
    "\n",
    "mel = lrd.specshow(test[0][:128,:,0], y_axis='mel', x_axis='time', ax=axs[0,0], sr=16000)\n",
    "axs[0,0].set_title('Original sample')\n",
    "\n",
    "mfcc = lrd.specshow(test[0][128:,:,0], ax=axs[1,0], sr=16000)\n",
    "axs[1,0].set_xlabel('Cepstrum')\n",
    "axs[1,0].set_ylabel('Mfcc coefficents')\n",
    "\n",
    "mel = lrd.specshow(test[1][:128,:,0], y_axis='mel', x_axis='time', ax=axs[0,1], sr=16000)\n",
    "fig.colorbar(mel, ax=axs[0,1])\n",
    "axs[0,1].set_title('Augmented sample')\n",
    "\n",
    "mfcc = lrd.specshow(test[1][128:,:,0], ax=axs[1,1], sr=16000)\n",
    "fig.colorbar(mfcc, ax=axs[1,1])\n",
    "axs[1,1].set_xlabel('Cepstrum')\n",
    "axs[1,1].set_ylabel('Mfcc coefficents')\n",
    "\n",
    "plt.show()"
   ]
  },
  {
   "cell_type": "markdown",
   "id": "dcbdb2f0-785a-42ca-9916-e281eca096ee",
   "metadata": {},
   "source": [
    "### Network training"
   ]
  },
  {
   "cell_type": "code",
   "execution_count": 21,
   "id": "31f6d360-db2b-45ca-bb20-504bb44c69f7",
   "metadata": {},
   "outputs": [],
   "source": [
    "def create_default_model():\n",
    "    \n",
    "    model = Sequential()\n",
    "    \n",
    "    model.add(Input(shape=X_train_keras[0].shape))\n",
    "    \n",
    "    model.add(Conv2D(32, 3, padding='same'))\n",
    "    model.add(Activation('relu'))\n",
    "    \n",
    "    model.add(Conv2D(32, 3, padding='same'))\n",
    "    model.add(Activation('relu'))\n",
    "    \n",
    "    model.add(MaxPooling2D(pool_size=(3,3)))\n",
    "    \n",
    "    model.add(Dropout(0.3))\n",
    "    \n",
    "    model.add(Conv2D(64, 3, padding='same'))\n",
    "    model.add(Activation('relu'))\n",
    "      \n",
    "    model.add(Conv2D(64, 3, padding='same'))\n",
    "    model.add(Activation('relu'))\n",
    "    \n",
    "    model.add(MaxPooling2D(pool_size=(3,3)))\n",
    "    \n",
    "    model.add(Flatten())\n",
    "    \n",
    "    model.add(Dropout(0.3))\n",
    "    model.add(Dense(256, activation='relu'))\n",
    "    \n",
    "    model.add(Dropout(0.3))\n",
    "    model.add(Dense(8, activation='softmax'))\n",
    "    \n",
    "    opt = keras.optimizers.Adam(learning_rate=0.0001)\n",
    "    model.compile(optimizer=opt, loss='categorical_crossentropy', metrics=['accuracy'])\n",
    "    \n",
    "    return model\n"
   ]
  },
  {
   "cell_type": "code",
   "execution_count": 33,
   "id": "f4a4452d-aae7-48b9-b136-819352929da4",
   "metadata": {},
   "outputs": [
    {
     "name": "stdout",
     "output_type": "stream",
     "text": [
      "Model: \"sequential_7\"\n",
      "_________________________________________________________________\n",
      " Layer (type)                Output Shape              Param #   \n",
      "=================================================================\n",
      " conv2d_28 (Conv2D)          (None, 20, 69, 32)        320       \n",
      "                                                                 \n",
      " activation_28 (Activation)  (None, 20, 69, 32)        0         \n",
      "                                                                 \n",
      " conv2d_29 (Conv2D)          (None, 20, 69, 32)        9248      \n",
      "                                                                 \n",
      " activation_29 (Activation)  (None, 20, 69, 32)        0         \n",
      "                                                                 \n",
      " max_pooling2d_14 (MaxPoolin  (None, 6, 23, 32)        0         \n",
      " g2D)                                                            \n",
      "                                                                 \n",
      " dropout_21 (Dropout)        (None, 6, 23, 32)         0         \n",
      "                                                                 \n",
      " conv2d_30 (Conv2D)          (None, 6, 23, 64)         18496     \n",
      "                                                                 \n",
      " activation_30 (Activation)  (None, 6, 23, 64)         0         \n",
      "                                                                 \n",
      " conv2d_31 (Conv2D)          (None, 6, 23, 64)         36928     \n",
      "                                                                 \n",
      " activation_31 (Activation)  (None, 6, 23, 64)         0         \n",
      "                                                                 \n",
      " max_pooling2d_15 (MaxPoolin  (None, 2, 7, 64)         0         \n",
      " g2D)                                                            \n",
      "                                                                 \n",
      " flatten_7 (Flatten)         (None, 896)               0         \n",
      "                                                                 \n",
      " dropout_22 (Dropout)        (None, 896)               0         \n",
      "                                                                 \n",
      " dense_14 (Dense)            (None, 256)               229632    \n",
      "                                                                 \n",
      " dropout_23 (Dropout)        (None, 256)               0         \n",
      "                                                                 \n",
      " dense_15 (Dense)            (None, 8)                 2056      \n",
      "                                                                 \n",
      "=================================================================\n",
      "Total params: 296,680\n",
      "Trainable params: 296,680\n",
      "Non-trainable params: 0\n",
      "_________________________________________________________________\n"
     ]
    }
   ],
   "source": [
    "default_keras = create_default_model()\n",
    "\n",
    "default_keras.summary()"
   ]
  },
  {
   "cell_type": "code",
   "execution_count": 34,
   "id": "96f3ab39-e928-4214-b74c-89a0b5720622",
   "metadata": {
    "scrolled": true,
    "tags": []
   },
   "outputs": [
    {
     "name": "stdout",
     "output_type": "stream",
     "text": [
      "Epoch 1/100\n",
      "276/276 [==============================] - 3s 10ms/step - loss: 2.0634 - accuracy: 0.1426 - val_loss: 2.0545 - val_accuracy: 0.1538 - lr: 1.0000e-04\n",
      "Epoch 2/100\n",
      "276/276 [==============================] - 3s 10ms/step - loss: 2.0410 - accuracy: 0.1789 - val_loss: 2.0046 - val_accuracy: 0.2410 - lr: 1.0000e-04\n",
      "Epoch 3/100\n",
      "276/276 [==============================] - 3s 9ms/step - loss: 1.9806 - accuracy: 0.2216 - val_loss: 1.9497 - val_accuracy: 0.2821 - lr: 1.0000e-04\n",
      "Epoch 4/100\n",
      "276/276 [==============================] - 3s 9ms/step - loss: 1.9007 - accuracy: 0.2559 - val_loss: 1.9089 - val_accuracy: 0.2769 - lr: 1.0000e-04\n",
      "Epoch 5/100\n",
      "276/276 [==============================] - 3s 9ms/step - loss: 1.8385 - accuracy: 0.2891 - val_loss: 1.7688 - val_accuracy: 0.3487 - lr: 1.0000e-04\n",
      "Epoch 6/100\n",
      "276/276 [==============================] - 3s 9ms/step - loss: 1.7941 - accuracy: 0.3081 - val_loss: 1.7602 - val_accuracy: 0.3692 - lr: 1.0000e-04\n",
      "Epoch 7/100\n",
      "276/276 [==============================] - 3s 9ms/step - loss: 1.7465 - accuracy: 0.3283 - val_loss: 1.7273 - val_accuracy: 0.3744 - lr: 1.0000e-04\n",
      "Epoch 8/100\n",
      "276/276 [==============================] - 2s 9ms/step - loss: 1.7092 - accuracy: 0.3433 - val_loss: 1.6553 - val_accuracy: 0.3949 - lr: 1.0000e-04\n",
      "Epoch 9/100\n",
      "276/276 [==============================] - 3s 9ms/step - loss: 1.6738 - accuracy: 0.3560 - val_loss: 1.6288 - val_accuracy: 0.4154 - lr: 1.0000e-04\n",
      "Epoch 10/100\n",
      "276/276 [==============================] - 3s 9ms/step - loss: 1.6399 - accuracy: 0.3783 - val_loss: 1.6013 - val_accuracy: 0.4256 - lr: 1.0000e-04\n",
      "Epoch 11/100\n",
      "276/276 [==============================] - 3s 9ms/step - loss: 1.6108 - accuracy: 0.3967 - val_loss: 1.5460 - val_accuracy: 0.4359 - lr: 1.0000e-04\n",
      "Epoch 12/100\n",
      "276/276 [==============================] - 3s 9ms/step - loss: 1.5887 - accuracy: 0.4076 - val_loss: 1.5093 - val_accuracy: 0.4513 - lr: 1.0000e-04\n",
      "Epoch 13/100\n",
      "276/276 [==============================] - 3s 9ms/step - loss: 1.5466 - accuracy: 0.4264 - val_loss: 1.5377 - val_accuracy: 0.4410 - lr: 1.0000e-04\n",
      "Epoch 14/100\n",
      "276/276 [==============================] - 3s 9ms/step - loss: 1.5352 - accuracy: 0.4285 - val_loss: 1.5659 - val_accuracy: 0.4308 - lr: 1.0000e-04\n",
      "Epoch 15/100\n",
      "276/276 [==============================] - 3s 9ms/step - loss: 1.4850 - accuracy: 0.4464 - val_loss: 1.4848 - val_accuracy: 0.4462 - lr: 1.0000e-04\n",
      "Epoch 16/100\n",
      "276/276 [==============================] - 3s 9ms/step - loss: 1.4844 - accuracy: 0.4444 - val_loss: 1.4175 - val_accuracy: 0.4667 - lr: 1.0000e-04\n",
      "Epoch 17/100\n",
      "276/276 [==============================] - 3s 9ms/step - loss: 1.4358 - accuracy: 0.4680 - val_loss: 1.3910 - val_accuracy: 0.4769 - lr: 1.0000e-04\n",
      "Epoch 18/100\n",
      "276/276 [==============================] - 3s 9ms/step - loss: 1.4273 - accuracy: 0.4725 - val_loss: 1.3855 - val_accuracy: 0.4821 - lr: 1.0000e-04\n",
      "Epoch 19/100\n",
      "276/276 [==============================] - 3s 9ms/step - loss: 1.4041 - accuracy: 0.4757 - val_loss: 1.3554 - val_accuracy: 0.4821 - lr: 1.0000e-04\n",
      "Epoch 20/100\n",
      "276/276 [==============================] - 3s 9ms/step - loss: 1.3660 - accuracy: 0.4914 - val_loss: 1.3269 - val_accuracy: 0.5128 - lr: 1.0000e-04\n",
      "Epoch 21/100\n",
      "276/276 [==============================] - 3s 9ms/step - loss: 1.3421 - accuracy: 0.5129 - val_loss: 1.3135 - val_accuracy: 0.5026 - lr: 1.0000e-04\n",
      "Epoch 22/100\n",
      "276/276 [==============================] - 3s 9ms/step - loss: 1.3255 - accuracy: 0.5111 - val_loss: 1.3048 - val_accuracy: 0.5282 - lr: 1.0000e-04\n",
      "Epoch 23/100\n",
      "276/276 [==============================] - 3s 10ms/step - loss: 1.3028 - accuracy: 0.5277 - val_loss: 1.3042 - val_accuracy: 0.5179 - lr: 1.0000e-04\n",
      "Epoch 24/100\n",
      "276/276 [==============================] - 3s 10ms/step - loss: 1.2965 - accuracy: 0.5211 - val_loss: 1.2664 - val_accuracy: 0.5385 - lr: 1.0000e-04\n",
      "Epoch 25/100\n",
      "276/276 [==============================] - 3s 10ms/step - loss: 1.2537 - accuracy: 0.5359 - val_loss: 1.2342 - val_accuracy: 0.5692 - lr: 1.0000e-04\n",
      "Epoch 26/100\n",
      "276/276 [==============================] - 3s 9ms/step - loss: 1.2506 - accuracy: 0.5372 - val_loss: 1.2691 - val_accuracy: 0.5538 - lr: 1.0000e-04\n",
      "Epoch 27/100\n",
      "276/276 [==============================] - 3s 9ms/step - loss: 1.2239 - accuracy: 0.5490 - val_loss: 1.2087 - val_accuracy: 0.5385 - lr: 1.0000e-04\n",
      "Epoch 28/100\n",
      "276/276 [==============================] - 3s 9ms/step - loss: 1.2027 - accuracy: 0.5615 - val_loss: 1.2392 - val_accuracy: 0.5436 - lr: 1.0000e-04\n",
      "Epoch 29/100\n",
      "276/276 [==============================] - 3s 9ms/step - loss: 1.1708 - accuracy: 0.5811 - val_loss: 1.2298 - val_accuracy: 0.5538 - lr: 1.0000e-04\n",
      "Epoch 30/100\n",
      "276/276 [==============================] - 3s 9ms/step - loss: 1.1632 - accuracy: 0.5770 - val_loss: 1.2432 - val_accuracy: 0.5487 - lr: 1.0000e-04\n",
      "Epoch 31/100\n",
      "276/276 [==============================] - 3s 9ms/step - loss: 1.1330 - accuracy: 0.5811 - val_loss: 1.2311 - val_accuracy: 0.5385 - lr: 1.0000e-04\n",
      "Epoch 32/100\n",
      "276/276 [==============================] - 3s 9ms/step - loss: 1.1326 - accuracy: 0.5822 - val_loss: 1.1620 - val_accuracy: 0.5846 - lr: 1.0000e-04\n",
      "Epoch 33/100\n",
      "276/276 [==============================] - 3s 9ms/step - loss: 1.0969 - accuracy: 0.6051 - val_loss: 1.1451 - val_accuracy: 0.5846 - lr: 1.0000e-04\n",
      "Epoch 34/100\n",
      "276/276 [==============================] - 3s 9ms/step - loss: 1.0756 - accuracy: 0.6047 - val_loss: 1.1586 - val_accuracy: 0.5692 - lr: 1.0000e-04\n",
      "Epoch 35/100\n",
      "276/276 [==============================] - 3s 9ms/step - loss: 1.0689 - accuracy: 0.6140 - val_loss: 1.1566 - val_accuracy: 0.5949 - lr: 1.0000e-04\n",
      "Epoch 36/100\n",
      "276/276 [==============================] - 3s 9ms/step - loss: 1.0407 - accuracy: 0.6247 - val_loss: 1.1108 - val_accuracy: 0.5744 - lr: 1.0000e-04\n",
      "Epoch 37/100\n",
      "276/276 [==============================] - 3s 9ms/step - loss: 1.0128 - accuracy: 0.6269 - val_loss: 1.1385 - val_accuracy: 0.5744 - lr: 1.0000e-04\n",
      "Epoch 38/100\n",
      "276/276 [==============================] - 3s 10ms/step - loss: 1.0381 - accuracy: 0.6258 - val_loss: 1.1145 - val_accuracy: 0.5744 - lr: 1.0000e-04\n",
      "Epoch 39/100\n",
      "276/276 [==============================] - 3s 10ms/step - loss: 0.9850 - accuracy: 0.6431 - val_loss: 1.1569 - val_accuracy: 0.5795 - lr: 1.0000e-04\n",
      "Epoch 40/100\n",
      "276/276 [==============================] - 3s 9ms/step - loss: 0.9806 - accuracy: 0.6403 - val_loss: 1.1756 - val_accuracy: 0.5641 - lr: 1.0000e-04\n",
      "Epoch 41/100\n",
      "276/276 [==============================] - 3s 9ms/step - loss: 0.9567 - accuracy: 0.6564 - val_loss: 1.1069 - val_accuracy: 0.5846 - lr: 1.0000e-04\n",
      "Epoch 42/100\n",
      "276/276 [==============================] - 3s 9ms/step - loss: 0.9327 - accuracy: 0.6624 - val_loss: 1.1156 - val_accuracy: 0.5846 - lr: 1.0000e-04\n",
      "Epoch 43/100\n",
      "276/276 [==============================] - 3s 10ms/step - loss: 0.9187 - accuracy: 0.6651 - val_loss: 1.0868 - val_accuracy: 0.6205 - lr: 1.0000e-04\n",
      "Epoch 44/100\n",
      "276/276 [==============================] - ETA: 0s - loss: 0.8857 - accuracy: 0.67 - 3s 10ms/step - loss: 0.8858 - accuracy: 0.6760 - val_loss: 1.0935 - val_accuracy: 0.6000 - lr: 1.0000e-04\n",
      "Epoch 45/100\n",
      "276/276 [==============================] - 3s 10ms/step - loss: 0.8919 - accuracy: 0.6798 - val_loss: 1.0984 - val_accuracy: 0.6000 - lr: 1.0000e-04\n",
      "Epoch 46/100\n",
      "276/276 [==============================] - 3s 10ms/step - loss: 0.8719 - accuracy: 0.6853 - val_loss: 1.1050 - val_accuracy: 0.5795 - lr: 1.0000e-04\n",
      "Epoch 47/100\n",
      "276/276 [==============================] - 3s 10ms/step - loss: 0.8620 - accuracy: 0.6916 - val_loss: 1.1181 - val_accuracy: 0.5949 - lr: 1.0000e-04\n",
      "Epoch 48/100\n",
      "276/276 [==============================] - 3s 10ms/step - loss: 0.8507 - accuracy: 0.6905 - val_loss: 1.0948 - val_accuracy: 0.6103 - lr: 1.0000e-04\n",
      "Epoch 49/100\n",
      "276/276 [==============================] - 3s 9ms/step - loss: 0.8280 - accuracy: 0.6926 - val_loss: 1.0437 - val_accuracy: 0.6308 - lr: 1.0000e-04\n",
      "Epoch 50/100\n",
      "276/276 [==============================] - 3s 9ms/step - loss: 0.8329 - accuracy: 0.6978 - val_loss: 1.0572 - val_accuracy: 0.6000 - lr: 1.0000e-04\n",
      "Epoch 51/100\n",
      "276/276 [==============================] - 3s 9ms/step - loss: 0.8210 - accuracy: 0.7053 - val_loss: 1.0658 - val_accuracy: 0.6359 - lr: 1.0000e-04\n",
      "Epoch 52/100\n",
      "276/276 [==============================] - 3s 9ms/step - loss: 0.7812 - accuracy: 0.7153 - val_loss: 1.0689 - val_accuracy: 0.6256 - lr: 1.0000e-04\n",
      "Epoch 53/100\n",
      "276/276 [==============================] - 3s 9ms/step - loss: 0.7866 - accuracy: 0.7193 - val_loss: 1.0377 - val_accuracy: 0.6205 - lr: 1.0000e-04\n",
      "Epoch 54/100\n",
      "276/276 [==============================] - 3s 9ms/step - loss: 0.7809 - accuracy: 0.7225 - val_loss: 1.0535 - val_accuracy: 0.6308 - lr: 1.0000e-04\n",
      "Epoch 55/100\n",
      "276/276 [==============================] - 3s 9ms/step - loss: 0.7576 - accuracy: 0.7234 - val_loss: 1.0408 - val_accuracy: 0.6308 - lr: 1.0000e-04\n",
      "Epoch 56/100\n",
      "276/276 [==============================] - 3s 10ms/step - loss: 0.7515 - accuracy: 0.7293 - val_loss: 1.1424 - val_accuracy: 0.6308 - lr: 1.0000e-04\n",
      "Epoch 57/100\n",
      "276/276 [==============================] - 3s 9ms/step - loss: 0.7319 - accuracy: 0.7359 - val_loss: 1.0312 - val_accuracy: 0.6359 - lr: 1.0000e-04\n",
      "Epoch 58/100\n",
      "276/276 [==============================] - 3s 10ms/step - loss: 0.6941 - accuracy: 0.7459 - val_loss: 1.0365 - val_accuracy: 0.6359 - lr: 1.0000e-04\n",
      "Epoch 59/100\n",
      "276/276 [==============================] - 3s 9ms/step - loss: 0.6968 - accuracy: 0.7482 - val_loss: 1.0677 - val_accuracy: 0.6256 - lr: 1.0000e-04\n",
      "Epoch 60/100\n",
      "276/276 [==============================] - 3s 9ms/step - loss: 0.6968 - accuracy: 0.7477 - val_loss: 1.0125 - val_accuracy: 0.6615 - lr: 1.0000e-04\n",
      "Epoch 61/100\n",
      "276/276 [==============================] - 3s 9ms/step - loss: 0.6894 - accuracy: 0.7509 - val_loss: 1.0580 - val_accuracy: 0.6359 - lr: 1.0000e-04\n",
      "Epoch 62/100\n",
      "276/276 [==============================] - 3s 9ms/step - loss: 0.6600 - accuracy: 0.7677 - val_loss: 1.0229 - val_accuracy: 0.6615 - lr: 1.0000e-04\n",
      "Epoch 63/100\n",
      "276/276 [==============================] - 3s 10ms/step - loss: 0.6608 - accuracy: 0.7716 - val_loss: 1.0865 - val_accuracy: 0.6308 - lr: 1.0000e-04\n",
      "Epoch 64/100\n",
      "276/276 [==============================] - 3s 9ms/step - loss: 0.6179 - accuracy: 0.7777 - val_loss: 1.0333 - val_accuracy: 0.6615 - lr: 1.0000e-04\n",
      "Epoch 65/100\n",
      "276/276 [==============================] - 3s 9ms/step - loss: 0.6339 - accuracy: 0.7707 - val_loss: 1.0276 - val_accuracy: 0.6359 - lr: 1.0000e-04\n",
      "Epoch 66/100\n",
      "276/276 [==============================] - 3s 9ms/step - loss: 0.6202 - accuracy: 0.7770 - val_loss: 1.0868 - val_accuracy: 0.6205 - lr: 1.0000e-04\n",
      "Epoch 67/100\n",
      "276/276 [==============================] - 3s 9ms/step - loss: 0.6143 - accuracy: 0.7832 - val_loss: 1.1088 - val_accuracy: 0.6462 - lr: 1.0000e-04\n",
      "Epoch 68/100\n",
      "276/276 [==============================] - 3s 9ms/step - loss: 0.5908 - accuracy: 0.7959 - val_loss: 1.0612 - val_accuracy: 0.6462 - lr: 8.0000e-05\n",
      "Epoch 69/100\n",
      "276/276 [==============================] - 3s 10ms/step - loss: 0.5832 - accuracy: 0.7847 - val_loss: 1.0520 - val_accuracy: 0.6564 - lr: 8.0000e-05\n",
      "Epoch 70/100\n",
      "276/276 [==============================] - 3s 9ms/step - loss: 0.5708 - accuracy: 0.7925 - val_loss: 1.0557 - val_accuracy: 0.6564 - lr: 8.0000e-05\n",
      "Epoch 71/100\n",
      "276/276 [==============================] - 3s 9ms/step - loss: 0.5661 - accuracy: 0.7927 - val_loss: 1.0557 - val_accuracy: 0.6462 - lr: 8.0000e-05\n",
      "Epoch 72/100\n",
      "276/276 [==============================] - 3s 9ms/step - loss: 0.5480 - accuracy: 0.8045 - val_loss: 1.0472 - val_accuracy: 0.6769 - lr: 8.0000e-05\n",
      "Epoch 73/100\n",
      "276/276 [==============================] - 3s 9ms/step - loss: 0.5522 - accuracy: 0.7959 - val_loss: 1.0576 - val_accuracy: 0.6410 - lr: 8.0000e-05\n",
      "Epoch 74/100\n",
      "276/276 [==============================] - 3s 10ms/step - loss: 0.5216 - accuracy: 0.8113 - val_loss: 1.0880 - val_accuracy: 0.6359 - lr: 8.0000e-05\n",
      "Epoch 75/100\n",
      "276/276 [==============================] - 3s 9ms/step - loss: 0.5024 - accuracy: 0.8240 - val_loss: 1.0314 - val_accuracy: 0.6821 - lr: 6.4000e-05\n",
      "Epoch 76/100\n",
      "276/276 [==============================] - 3s 9ms/step - loss: 0.5123 - accuracy: 0.8168 - val_loss: 1.0979 - val_accuracy: 0.6410 - lr: 6.4000e-05\n",
      "Epoch 77/100\n",
      "276/276 [==============================] - 3s 9ms/step - loss: 0.5176 - accuracy: 0.8149 - val_loss: 1.0557 - val_accuracy: 0.6667 - lr: 6.4000e-05\n",
      "Epoch 78/100\n",
      "276/276 [==============================] - 3s 9ms/step - loss: 0.5002 - accuracy: 0.8247 - val_loss: 1.0551 - val_accuracy: 0.6513 - lr: 6.4000e-05\n",
      "Epoch 79/100\n",
      "276/276 [==============================] - 3s 10ms/step - loss: 0.5038 - accuracy: 0.8181 - val_loss: 1.0717 - val_accuracy: 0.6410 - lr: 6.4000e-05\n",
      "Epoch 80/100\n",
      "276/276 [==============================] - 3s 10ms/step - loss: 0.4932 - accuracy: 0.8231 - val_loss: 1.0881 - val_accuracy: 0.6410 - lr: 6.4000e-05\n",
      "Epoch 81/100\n",
      "276/276 [==============================] - 3s 9ms/step - loss: 0.4854 - accuracy: 0.8274 - val_loss: 1.0847 - val_accuracy: 0.6615 - lr: 6.4000e-05\n",
      "Epoch 82/100\n",
      "276/276 [==============================] - 3s 9ms/step - loss: 0.4794 - accuracy: 0.8281 - val_loss: 1.0966 - val_accuracy: 0.6410 - lr: 5.1200e-05\n",
      "Epoch 83/100\n",
      "276/276 [==============================] - 3s 9ms/step - loss: 0.4753 - accuracy: 0.8261 - val_loss: 1.0812 - val_accuracy: 0.6462 - lr: 5.1200e-05\n",
      "Epoch 84/100\n",
      "276/276 [==============================] - 3s 10ms/step - loss: 0.4524 - accuracy: 0.8472 - val_loss: 1.0723 - val_accuracy: 0.6564 - lr: 5.1200e-05\n",
      "Epoch 85/100\n",
      "276/276 [==============================] - 3s 10ms/step - loss: 0.4510 - accuracy: 0.8365 - val_loss: 1.0814 - val_accuracy: 0.6615 - lr: 5.1200e-05\n",
      "Epoch 86/100\n",
      "276/276 [==============================] - 3s 10ms/step - loss: 0.4435 - accuracy: 0.8456 - val_loss: 1.0548 - val_accuracy: 0.6615 - lr: 5.1200e-05\n",
      "Epoch 87/100\n",
      "276/276 [==============================] - 3s 9ms/step - loss: 0.4354 - accuracy: 0.8431 - val_loss: 1.0484 - val_accuracy: 0.6667 - lr: 5.1200e-05\n",
      "Epoch 88/100\n",
      "276/276 [==============================] - 3s 10ms/step - loss: 0.4479 - accuracy: 0.8445 - val_loss: 1.0679 - val_accuracy: 0.6718 - lr: 5.1200e-05\n",
      "Epoch 89/100\n",
      "276/276 [==============================] - 3s 9ms/step - loss: 0.4421 - accuracy: 0.8492 - val_loss: 1.0526 - val_accuracy: 0.6821 - lr: 4.0960e-05\n",
      "Epoch 90/100\n",
      "276/276 [==============================] - 3s 9ms/step - loss: 0.4444 - accuracy: 0.8485 - val_loss: 1.0536 - val_accuracy: 0.6718 - lr: 4.0960e-05\n",
      "Epoch 91/100\n",
      "276/276 [==============================] - 3s 9ms/step - loss: 0.4260 - accuracy: 0.8431 - val_loss: 1.0638 - val_accuracy: 0.6769 - lr: 4.0960e-05\n",
      "Epoch 92/100\n",
      "276/276 [==============================] - 3s 10ms/step - loss: 0.4199 - accuracy: 0.8467 - val_loss: 1.0854 - val_accuracy: 0.6564 - lr: 4.0960e-05\n",
      "Epoch 93/100\n",
      "276/276 [==============================] - 3s 10ms/step - loss: 0.4095 - accuracy: 0.8601 - val_loss: 1.0754 - val_accuracy: 0.6667 - lr: 4.0960e-05\n",
      "Epoch 94/100\n",
      "276/276 [==============================] - 3s 9ms/step - loss: 0.4196 - accuracy: 0.8522 - val_loss: 1.0879 - val_accuracy: 0.6615 - lr: 4.0960e-05\n",
      "Epoch 95/100\n",
      "276/276 [==============================] - 3s 10ms/step - loss: 0.4229 - accuracy: 0.8524 - val_loss: 1.0828 - val_accuracy: 0.6564 - lr: 4.0960e-05\n",
      "Epoch 96/100\n",
      "276/276 [==============================] - 3s 9ms/step - loss: 0.4007 - accuracy: 0.8585 - val_loss: 1.0872 - val_accuracy: 0.6564 - lr: 3.2768e-05\n",
      "Epoch 97/100\n",
      "276/276 [==============================] - 3s 11ms/step - loss: 0.3870 - accuracy: 0.8606 - val_loss: 1.1038 - val_accuracy: 0.6667 - lr: 3.2768e-05\n",
      "Epoch 98/100\n",
      "276/276 [==============================] - 3s 11ms/step - loss: 0.4161 - accuracy: 0.8524 - val_loss: 1.0819 - val_accuracy: 0.6718 - lr: 3.2768e-05\n",
      "Epoch 99/100\n",
      "276/276 [==============================] - 3s 11ms/step - loss: 0.4115 - accuracy: 0.8535 - val_loss: 1.0585 - val_accuracy: 0.6923 - lr: 3.2768e-05\n",
      "Epoch 100/100\n",
      "276/276 [==============================] - 3s 10ms/step - loss: 0.4129 - accuracy: 0.8572 - val_loss: 1.0715 - val_accuracy: 0.6564 - lr: 3.2768e-05\n"
     ]
    },
    {
     "data": {
      "text/plain": [
       "['results/DefaultConv2DHistory']"
      ]
     },
     "execution_count": 34,
     "metadata": {},
     "output_type": "execute_result"
    }
   ],
   "source": [
    "default_keras = create_default_model()\n",
    "\n",
    "default_history = default_keras.fit(X_train_keras, y_train_cat, batch_size=16,\n",
    "                                    epochs=100, validation_data=(X_val_keras, y_val_cat),\n",
    "                                    shuffle=True, callbacks=[keras.callbacks.ReduceLROnPlateau(factor=0.8, patience=7)])\n",
    "\n",
    "joblib.dump(default_history.history, 'results/DefaultConv2DHistory')"
   ]
  },
  {
   "cell_type": "code",
   "execution_count": 13,
   "id": "829e6ba0-626b-4d66-930f-c3db59bd4326",
   "metadata": {},
   "outputs": [],
   "source": [
    "def plot_metrics(history):\n",
    "    \n",
    "    fitted_epochs = len(history['val_loss'])\n",
    "    \n",
    "    print(f\"Best lowest validation loss on epoch: {np.argmin(history['val_loss']) + 1}\\n\")\n",
    "\n",
    "    fig = plt.figure(figsize=(12,6))\n",
    "\n",
    "    ax = fig.add_subplot(121)\n",
    "    ax.plot(range(fitted_epochs), history['loss'], 'r', label='Training loss')\n",
    "    ax.plot(range(fitted_epochs), history['val_loss'], 'b', label='Validation loss')\n",
    "    ax.legend()\n",
    "    ax.set_ylim(0)\n",
    "    ax.set_xlabel('Epochs'), ax.set_ylabel('Validation loss')\n",
    "    ax.set_title('Loss over epochs')\n",
    "\n",
    "    ax = fig.add_subplot(122)\n",
    "    ax.plot(range(fitted_epochs), history['accuracy'], 'r', label='Training accuracy')\n",
    "    ax.plot(range(fitted_epochs), history['val_accuracy'], 'b', label='Validation accuracy')\n",
    "    ax.legend()\n",
    "    ax.set_ylim(0, 1.0)\n",
    "    ax.set_xlabel('Epochs'), ax.set_ylabel('Validation accuracy')\n",
    "    ax.set_title('Accuracy over epochs')\n",
    "\n",
    "    plt.show()"
   ]
  },
  {
   "cell_type": "code",
   "execution_count": 35,
   "id": "9936fb06-0589-41c0-84b4-860b33b915a6",
   "metadata": {},
   "outputs": [
    {
     "name": "stdout",
     "output_type": "stream",
     "text": [
      "Best lowest validation loss on epoch: 60\n",
      "\n"
     ]
    },
    {
     "data": {
      "image/png": "[encoded data removed]",
      "text/plain": [
       "<Figure size 864x432 with 2 Axes>"
      ]
     },
     "metadata": {
      "needs_background": "light"
     },
     "output_type": "display_data"
    }
   ],
   "source": [
    "default_history = joblib.load('results/DefaultConv2DHistory')\n",
    "\n",
    "plot_metrics(default_history)"
   ]
  },
  {
   "cell_type": "code",
   "execution_count": null,
   "id": "ced1f85d-4434-4399-bb9f-f75990041adb",
   "metadata": {
    "jupyter": {
     "source_hidden": true
    },
    "tags": []
   },
   "outputs": [],
   "source": [
    "def keras_cv(create_model, X, y, cv, final_epochs, callbacks):\n",
    "    \n",
    "    from keras import backend as K\n",
    "    \n",
    "    scores = []\n",
    "    for temp, test in cv.split(X, y):\n",
    "        \n",
    "        model = create_model()\n",
    "        \n",
    "        ss = StandardScaler()\n",
    "        \n",
    "        X_test, y_test = X[test], y[test]\n",
    "        \n",
    "        X_, y_ = X[temp], y[temp]\n",
    "        \n",
    "        train, val = next(StratifiedShuffleSplit(n_splits=1, test_size=0.2).split(X_, y_))\n",
    "                \n",
    "        X_train, y_train = X_[train], y_[train]\n",
    "        X_val, y_val = X_[val], y_[val]\n",
    "                \n",
    "        X_train, X_val = ss.fit_transform(X_train), ss.transform(X_val)\n",
    "                \n",
    "        X_train = X_train.reshape(X_train.shape[0], 212, 95, 1).astype(np.float32)\n",
    "        X_val = X_val.reshape(X_val.shape[0], 212, 95, 1).astype(np.float32)\n",
    "        \n",
    "        y_train_cat = keras.utils.to_categorical(y_train, 8)\n",
    "        y_val_cat = keras.utils.to_categorical(y_val, 8)    \n",
    "        \n",
    "        model.fit(X_train, y_train_cat, epochs=100, validation_data=(X_val, y_val_cat),\n",
    "                    shuffle=True, callbacks=callbacks)\n",
    "\n",
    "        \n",
    "        X_scaled, X_test_scaled = ss.fit_transform(X_), ss.transform(X_test)\n",
    "        X_scaled = X_scaled.reshape(X_scaled.shape[0], 212, 95, 1).astype(np.float32)\n",
    "        X_test_scaled = X_test_scaled.reshape(X_test_scaled.shape[0], 212, 95, 1).astype(np.float32)\n",
    "        \n",
    "        y_cat = keras.utils.to_categorical(y_, 8)\n",
    "        \n",
    "        model.fit(X_scaled, y_cat, epochs=1)\n",
    "        \n",
    "        y_pred = np.argmax(model.predict(X_test_scaled), axis=-1)\n",
    "        \n",
    "        scores.append(f1_score(y_test, y_pred, average='macro'))\n",
    "        \n",
    "        K.clear_session()\n",
    "        del model\n",
    "        \n",
    "    return scores\n"
   ]
  },
  {
   "cell_type": "code",
   "execution_count": null,
   "id": "c67272bf-2deb-4131-873c-690d1c4e1526",
   "metadata": {
    "jupyter": {
     "source_hidden": true
    },
    "tags": []
   },
   "outputs": [],
   "source": [
    "default_scores = keras_cv(create_default_model, X, y, StratifiedKFold(n_splits=4), 1, [keras.callbacks.EarlyStopping(patience=15, restore_best_weights=True)])\n",
    "joblib.dump(default_scores, 'results/DefaultConv2DResults')"
   ]
  },
  {
   "cell_type": "code",
   "execution_count": null,
   "id": "18376907-7cba-4833-a3a2-be30553b94fd",
   "metadata": {
    "jupyter": {
     "source_hidden": true
    },
    "tags": []
   },
   "outputs": [],
   "source": [
    "default_scores = joblib.load('results/DefaultConv2DResults')\n",
    "\n",
    "mean_score = np.mean(default_scores)\n",
    "std = np.std(default_scores)\n",
    "\n",
    "print('\\n==== Cross-validation metrics ====\\n')\n",
    "print(f'With default Keras Conv2D Classifier:\\n')\n",
    "print(f\"Mean F1-score: {mean_score}\")\n",
    "print(f\"Standard deviation: {std}\\n\")\n",
    "print('============== END ===============\\n')"
   ]
  },
  {
   "cell_type": "markdown",
   "id": "47896e88-b3e2-43f3-b930-9b5dbeacc3d7",
   "metadata": {},
   "source": [
    "### Optimizing Keras classifier"
   ]
  },
  {
   "cell_type": "code",
   "execution_count": 38,
   "id": "ef12a106-48b7-4111-a8bd-b3513d2f4aaf",
   "metadata": {},
   "outputs": [
    {
     "data": {
      "text/plain": [
       "{'filters1': 64,\n",
       " 'filters2': 64,\n",
       " 'filters3': 128,\n",
       " 'filters4': 64,\n",
       " 'dropout1': 0.4,\n",
       " 'units1': 512,\n",
       " 'dropout2': 0.2,\n",
       " 'dropout3': 0,\n",
       " 'dropout4': 0.75,\n",
       " 'dropout5': 0.2}"
      ]
     },
     "execution_count": 38,
     "metadata": {},
     "output_type": "execute_result"
    }
   ],
   "source": [
    "best_hp = joblib.load('searches/KerasHP')\n",
    "\n",
    "best_hp.values"
   ]
  },
  {
   "cell_type": "code",
   "execution_count": 36,
   "id": "5796a667-d59a-4eb4-ab1a-d41d2e36b4d3",
   "metadata": {},
   "outputs": [],
   "source": [
    "def build_optimized_model(hp):\n",
    "    \n",
    "    model = Sequential()\n",
    "    \n",
    "    model.add(Input(shape=X_train_keras[1].shape))\n",
    "\n",
    "    model.add(Conv2D(\n",
    "        hp.Int('filters1', min_value=16, max_value=64, step=16, default=32), \n",
    "        kernel_size=3,\n",
    "        activation='relu',\n",
    "        padding='same'))\n",
    "\n",
    "    model.add(Dropout(hp.Choice('dropout1', [0.0, 0.2, 0.3, 0.4])))\n",
    "\n",
    "    model.add(Conv2D(\n",
    "        hp.Int('filters2', min_value=16, max_value=64, step=16, default=32),\n",
    "        kernel_size=3,\n",
    "        activation='relu',\n",
    "        padding='same'))\n",
    "    model.add(MaxPooling2D(pool_size=(3,3)))\n",
    "\n",
    "    model.add(Dropout(hp.Float('dropout2', min_value=0.2, max_value=0.75, sampling='linear')))\n",
    "\n",
    "    model.add(Conv2D(\n",
    "        hp.Int('filters3', min_value=32, max_value=128, step=16, default=64), \n",
    "        kernel_size=3,\n",
    "        activation='relu',\n",
    "        padding='same'))\n",
    "    \n",
    "    model.add(Dropout(hp.Choice('dropout3', [0.0, 0.2, 0.3, 0.4])))\n",
    "\n",
    "    model.add(Conv2D(\n",
    "        hp.Int('filters4', min_value=32, max_value=128, step=16, default=64), \n",
    "        kernel_size=3,\n",
    "        activation='relu',\n",
    "        padding='same'))\n",
    "    model.add(MaxPooling2D(pool_size=(3,3)))\n",
    "\n",
    "    model.add(Flatten())\n",
    "\n",
    "    model.add(Dropout(hp.Float('dropout4', min_value=0.2, max_value=0.75, sampling='linear')))\n",
    "              \n",
    "    model.add(Dense(\n",
    "        units = hp.Int('units1', min_value=64, max_value=512, step=64),\n",
    "        activation = 'relu'))\n",
    "\n",
    "    model.add(Dropout(hp.Float('dropout5', min_value=0.2, max_value=0.5, sampling='linear')))\n",
    "\n",
    "    model.add(Dense(8, activation='softmax'))\n",
    "    \n",
    "    model.compile(keras.optimizers.Adam(0.0001),\n",
    "                  loss='categorical_crossentropy',\n",
    "                  metrics=['accuracy'])\n",
    "        \n",
    "    return model"
   ]
  },
  {
   "cell_type": "code",
   "execution_count": 39,
   "id": "e595b587-4adc-4646-96d4-cd3330bd5ed8",
   "metadata": {},
   "outputs": [
    {
     "name": "stdout",
     "output_type": "stream",
     "text": [
      "Model: \"sequential_9\"\n",
      "_________________________________________________________________\n",
      " Layer (type)                Output Shape              Param #   \n",
      "=================================================================\n",
      " conv2d_36 (Conv2D)          (None, 20, 69, 64)        640       \n",
      "                                                                 \n",
      " dropout_27 (Dropout)        (None, 20, 69, 64)        0         \n",
      "                                                                 \n",
      " conv2d_37 (Conv2D)          (None, 20, 69, 64)        36928     \n",
      "                                                                 \n",
      " max_pooling2d_18 (MaxPoolin  (None, 6, 23, 64)        0         \n",
      " g2D)                                                            \n",
      "                                                                 \n",
      " dropout_28 (Dropout)        (None, 6, 23, 64)         0         \n",
      "                                                                 \n",
      " conv2d_38 (Conv2D)          (None, 6, 23, 128)        73856     \n",
      "                                                                 \n",
      " dropout_29 (Dropout)        (None, 6, 23, 128)        0         \n",
      "                                                                 \n",
      " conv2d_39 (Conv2D)          (None, 6, 23, 64)         73792     \n",
      "                                                                 \n",
      " max_pooling2d_19 (MaxPoolin  (None, 2, 7, 64)         0         \n",
      " g2D)                                                            \n",
      "                                                                 \n",
      " flatten_9 (Flatten)         (None, 896)               0         \n",
      "                                                                 \n",
      " dropout_30 (Dropout)        (None, 896)               0         \n",
      "                                                                 \n",
      " dense_18 (Dense)            (None, 512)               459264    \n",
      "                                                                 \n",
      " dropout_31 (Dropout)        (None, 512)               0         \n",
      "                                                                 \n",
      " dense_19 (Dense)            (None, 8)                 4104      \n",
      "                                                                 \n",
      "=================================================================\n",
      "Total params: 648,584\n",
      "Trainable params: 648,584\n",
      "Non-trainable params: 0\n",
      "_________________________________________________________________\n"
     ]
    }
   ],
   "source": [
    "optimized_keras = build_optimized_model(best_hp)\n",
    "\n",
    "optimized_keras.summary()"
   ]
  },
  {
   "cell_type": "code",
   "execution_count": 40,
   "id": "0c85f1cb-1a75-49f1-81bb-ec2b408abeef",
   "metadata": {
    "scrolled": true,
    "tags": []
   },
   "outputs": [
    {
     "name": "stdout",
     "output_type": "stream",
     "text": [
      "Epoch 1/200\n",
      "276/276 [==============================] - 5s 16ms/step - loss: 2.0685 - accuracy: 0.1394 - val_loss: 2.0623 - val_accuracy: 0.1179 - lr: 1.0000e-04\n",
      "Epoch 2/200\n",
      "276/276 [==============================] - 4s 14ms/step - loss: 2.0588 - accuracy: 0.1467 - val_loss: 2.0560 - val_accuracy: 0.1333 - lr: 1.0000e-04\n",
      "Epoch 3/200\n",
      "276/276 [==============================] - 4s 14ms/step - loss: 2.0436 - accuracy: 0.1705 - val_loss: 2.0163 - val_accuracy: 0.2256 - lr: 1.0000e-04\n",
      "Epoch 4/200\n",
      "276/276 [==============================] - 4s 14ms/step - loss: 1.9911 - accuracy: 0.2155 - val_loss: 1.9467 - val_accuracy: 0.2462 - lr: 1.0000e-04\n",
      "Epoch 5/200\n",
      "276/276 [==============================] - 4s 14ms/step - loss: 1.9258 - accuracy: 0.2486 - val_loss: 1.9053 - val_accuracy: 0.2615 - lr: 1.0000e-04\n",
      "Epoch 6/200\n",
      "276/276 [==============================] - 4s 14ms/step - loss: 1.8708 - accuracy: 0.2748 - val_loss: 1.8579 - val_accuracy: 0.2872 - lr: 1.0000e-04\n",
      "Epoch 7/200\n",
      "276/276 [==============================] - 4s 14ms/step - loss: 1.8246 - accuracy: 0.3034 - val_loss: 1.8348 - val_accuracy: 0.3128 - lr: 1.0000e-04\n",
      "Epoch 8/200\n",
      "276/276 [==============================] - 4s 14ms/step - loss: 1.7947 - accuracy: 0.3111 - val_loss: 1.8047 - val_accuracy: 0.3385 - lr: 1.0000e-04\n",
      "Epoch 9/200\n",
      "276/276 [==============================] - 4s 14ms/step - loss: 1.7503 - accuracy: 0.3245 - val_loss: 1.7050 - val_accuracy: 0.3846 - lr: 1.0000e-04\n",
      "Epoch 10/200\n",
      "276/276 [==============================] - 4s 14ms/step - loss: 1.7444 - accuracy: 0.3263 - val_loss: 1.6981 - val_accuracy: 0.3949 - lr: 1.0000e-04\n",
      "Epoch 11/200\n",
      "276/276 [==============================] - 4s 14ms/step - loss: 1.7147 - accuracy: 0.3520 - val_loss: 1.6117 - val_accuracy: 0.3846 - lr: 1.0000e-04\n",
      "Epoch 12/200\n",
      "276/276 [==============================] - 4s 14ms/step - loss: 1.6842 - accuracy: 0.3574 - val_loss: 1.6284 - val_accuracy: 0.3795 - lr: 1.0000e-04\n",
      "Epoch 13/200\n",
      "276/276 [==============================] - 4s 14ms/step - loss: 1.6717 - accuracy: 0.3658 - val_loss: 1.5885 - val_accuracy: 0.4103 - lr: 1.0000e-04\n",
      "Epoch 14/200\n",
      "276/276 [==============================] - 4s 14ms/step - loss: 1.6686 - accuracy: 0.3701 - val_loss: 1.5989 - val_accuracy: 0.3949 - lr: 1.0000e-04\n",
      "Epoch 15/200\n",
      "276/276 [==============================] - 4s 14ms/step - loss: 1.6385 - accuracy: 0.3765 - val_loss: 1.6075 - val_accuracy: 0.4103 - lr: 1.0000e-04\n",
      "Epoch 16/200\n",
      "276/276 [==============================] - 4s 14ms/step - loss: 1.6329 - accuracy: 0.3762 - val_loss: 1.5342 - val_accuracy: 0.4615 - lr: 1.0000e-04\n",
      "Epoch 17/200\n",
      "276/276 [==============================] - 4s 14ms/step - loss: 1.6096 - accuracy: 0.3921 - val_loss: 1.4850 - val_accuracy: 0.4615 - lr: 1.0000e-04\n",
      "Epoch 18/200\n",
      "276/276 [==============================] - 4s 14ms/step - loss: 1.5994 - accuracy: 0.3951 - val_loss: 1.4964 - val_accuracy: 0.4154 - lr: 1.0000e-04\n",
      "Epoch 19/200\n",
      "276/276 [==============================] - 4s 14ms/step - loss: 1.5775 - accuracy: 0.3996 - val_loss: 1.5058 - val_accuracy: 0.4410 - lr: 1.0000e-04\n",
      "Epoch 20/200\n",
      "276/276 [==============================] - 4s 14ms/step - loss: 1.5682 - accuracy: 0.4037 - val_loss: 1.4986 - val_accuracy: 0.4359 - lr: 1.0000e-04\n",
      "Epoch 21/200\n",
      "276/276 [==============================] - 4s 14ms/step - loss: 1.5593 - accuracy: 0.3994 - val_loss: 1.4652 - val_accuracy: 0.4564 - lr: 1.0000e-04\n",
      "Epoch 22/200\n",
      "276/276 [==============================] - 4s 14ms/step - loss: 1.5509 - accuracy: 0.4126 - val_loss: 1.4301 - val_accuracy: 0.4667 - lr: 1.0000e-04\n",
      "Epoch 23/200\n",
      "276/276 [==============================] - 4s 14ms/step - loss: 1.5312 - accuracy: 0.4226 - val_loss: 1.4316 - val_accuracy: 0.4769 - lr: 1.0000e-04\n",
      "Epoch 24/200\n",
      "276/276 [==============================] - 4s 14ms/step - loss: 1.5186 - accuracy: 0.4294 - val_loss: 1.4154 - val_accuracy: 0.4872 - lr: 1.0000e-04\n",
      "Epoch 25/200\n",
      "276/276 [==============================] - 4s 14ms/step - loss: 1.5221 - accuracy: 0.4255 - val_loss: 1.4091 - val_accuracy: 0.4821 - lr: 1.0000e-04\n",
      "Epoch 26/200\n",
      "276/276 [==============================] - 4s 14ms/step - loss: 1.4848 - accuracy: 0.4403 - val_loss: 1.3973 - val_accuracy: 0.4872 - lr: 1.0000e-04\n",
      "Epoch 27/200\n",
      "276/276 [==============================] - 4s 14ms/step - loss: 1.4669 - accuracy: 0.4489 - val_loss: 1.3874 - val_accuracy: 0.4564 - lr: 1.0000e-04\n",
      "Epoch 28/200\n",
      "276/276 [==============================] - 4s 14ms/step - loss: 1.4653 - accuracy: 0.4514 - val_loss: 1.3603 - val_accuracy: 0.4923 - lr: 1.0000e-04\n",
      "Epoch 29/200\n",
      "276/276 [==============================] - 4s 14ms/step - loss: 1.4606 - accuracy: 0.4478 - val_loss: 1.3393 - val_accuracy: 0.4974 - lr: 1.0000e-04\n",
      "Epoch 30/200\n",
      "276/276 [==============================] - 4s 14ms/step - loss: 1.4503 - accuracy: 0.4575 - val_loss: 1.3352 - val_accuracy: 0.5333 - lr: 1.0000e-04\n",
      "Epoch 31/200\n",
      "276/276 [==============================] - 4s 14ms/step - loss: 1.4160 - accuracy: 0.4659 - val_loss: 1.3054 - val_accuracy: 0.5026 - lr: 1.0000e-04\n",
      "Epoch 32/200\n",
      "276/276 [==============================] - 4s 14ms/step - loss: 1.4289 - accuracy: 0.4653 - val_loss: 1.3273 - val_accuracy: 0.4974 - lr: 1.0000e-04\n",
      "Epoch 33/200\n",
      "276/276 [==============================] - 4s 14ms/step - loss: 1.4117 - accuracy: 0.4680 - val_loss: 1.3246 - val_accuracy: 0.4923 - lr: 1.0000e-04\n",
      "Epoch 34/200\n",
      "276/276 [==============================] - 4s 14ms/step - loss: 1.3867 - accuracy: 0.4793 - val_loss: 1.3165 - val_accuracy: 0.5128 - lr: 1.0000e-04\n",
      "Epoch 35/200\n",
      "276/276 [==============================] - 4s 14ms/step - loss: 1.3781 - accuracy: 0.4777 - val_loss: 1.2875 - val_accuracy: 0.5179 - lr: 1.0000e-04\n",
      "Epoch 36/200\n",
      "276/276 [==============================] - 4s 14ms/step - loss: 1.3701 - accuracy: 0.4802 - val_loss: 1.2865 - val_accuracy: 0.5231 - lr: 1.0000e-04\n",
      "Epoch 37/200\n",
      "276/276 [==============================] - 4s 14ms/step - loss: 1.3592 - accuracy: 0.4900 - val_loss: 1.2873 - val_accuracy: 0.5128 - lr: 1.0000e-04\n",
      "Epoch 38/200\n",
      "276/276 [==============================] - 4s 14ms/step - loss: 1.3488 - accuracy: 0.4882 - val_loss: 1.2676 - val_accuracy: 0.5436 - lr: 1.0000e-04\n",
      "Epoch 39/200\n",
      "276/276 [==============================] - 4s 14ms/step - loss: 1.3534 - accuracy: 0.4932 - val_loss: 1.2599 - val_accuracy: 0.5077 - lr: 1.0000e-04\n",
      "Epoch 40/200\n",
      "276/276 [==============================] - 4s 14ms/step - loss: 1.3143 - accuracy: 0.5034 - val_loss: 1.2582 - val_accuracy: 0.5333 - lr: 1.0000e-04\n",
      "Epoch 41/200\n",
      "276/276 [==============================] - 4s 14ms/step - loss: 1.3154 - accuracy: 0.5016 - val_loss: 1.2532 - val_accuracy: 0.5385 - lr: 1.0000e-04\n",
      "Epoch 42/200\n",
      "276/276 [==============================] - 4s 14ms/step - loss: 1.3151 - accuracy: 0.5098 - val_loss: 1.2318 - val_accuracy: 0.5487 - lr: 1.0000e-04\n",
      "Epoch 43/200\n",
      "276/276 [==============================] - 4s 14ms/step - loss: 1.3134 - accuracy: 0.5036 - val_loss: 1.2485 - val_accuracy: 0.5333 - lr: 1.0000e-04\n",
      "Epoch 44/200\n",
      "276/276 [==============================] - 4s 14ms/step - loss: 1.2872 - accuracy: 0.5161 - val_loss: 1.2086 - val_accuracy: 0.5436 - lr: 1.0000e-04\n",
      "Epoch 45/200\n",
      "276/276 [==============================] - ETA: 0s - loss: 1.2916 - accuracy: 0.52 - 4s 14ms/step - loss: 1.2916 - accuracy: 0.5207 - val_loss: 1.2376 - val_accuracy: 0.5385 - lr: 1.0000e-04\n",
      "Epoch 46/200\n",
      "276/276 [==============================] - 4s 14ms/step - loss: 1.2730 - accuracy: 0.5211 - val_loss: 1.2252 - val_accuracy: 0.5538 - lr: 1.0000e-04\n",
      "Epoch 47/200\n",
      "276/276 [==============================] - 4s 14ms/step - loss: 1.2579 - accuracy: 0.5286 - val_loss: 1.2029 - val_accuracy: 0.5641 - lr: 1.0000e-04\n",
      "Epoch 48/200\n",
      "276/276 [==============================] - 4s 14ms/step - loss: 1.2720 - accuracy: 0.5195 - val_loss: 1.1944 - val_accuracy: 0.6000 - lr: 1.0000e-04\n",
      "Epoch 49/200\n",
      "276/276 [==============================] - 4s 14ms/step - loss: 1.2321 - accuracy: 0.5404 - val_loss: 1.1889 - val_accuracy: 0.5744 - lr: 1.0000e-04\n",
      "Epoch 50/200\n",
      "276/276 [==============================] - 4s 14ms/step - loss: 1.2360 - accuracy: 0.5443 - val_loss: 1.2085 - val_accuracy: 0.5641 - lr: 1.0000e-04\n",
      "Epoch 51/200\n",
      "276/276 [==============================] - 4s 14ms/step - loss: 1.2124 - accuracy: 0.5488 - val_loss: 1.1738 - val_accuracy: 0.5692 - lr: 1.0000e-04\n",
      "Epoch 52/200\n",
      "276/276 [==============================] - 4s 14ms/step - loss: 1.2254 - accuracy: 0.5413 - val_loss: 1.1708 - val_accuracy: 0.5897 - lr: 1.0000e-04\n",
      "Epoch 53/200\n",
      "276/276 [==============================] - 4s 14ms/step - loss: 1.2079 - accuracy: 0.5465 - val_loss: 1.1593 - val_accuracy: 0.5897 - lr: 1.0000e-04\n",
      "Epoch 54/200\n",
      "276/276 [==============================] - 4s 15ms/step - loss: 1.1995 - accuracy: 0.5506 - val_loss: 1.1669 - val_accuracy: 0.5795 - lr: 1.0000e-04s:\n",
      "Epoch 55/200\n",
      "276/276 [==============================] - 4s 15ms/step - loss: 1.1927 - accuracy: 0.5574 - val_loss: 1.1820 - val_accuracy: 0.5846 - lr: 1.0000e-04\n",
      "Epoch 56/200\n",
      "276/276 [==============================] - 4s 15ms/step - loss: 1.1917 - accuracy: 0.5584 - val_loss: 1.1817 - val_accuracy: 0.5590 - lr: 1.0000e-04\n",
      "Epoch 57/200\n",
      "276/276 [==============================] - 4s 15ms/step - loss: 1.1557 - accuracy: 0.5686 - val_loss: 1.1352 - val_accuracy: 0.6103 - lr: 1.0000e-04\n",
      "Epoch 58/200\n",
      "276/276 [==============================] - 5s 18ms/step - loss: 1.1757 - accuracy: 0.5593 - val_loss: 1.1474 - val_accuracy: 0.6051 - lr: 1.0000e-04\n",
      "Epoch 59/200\n",
      "276/276 [==============================] - 4s 14ms/step - loss: 1.1684 - accuracy: 0.5629 - val_loss: 1.1398 - val_accuracy: 0.5897 - lr: 1.0000e-04\n",
      "Epoch 60/200\n",
      "276/276 [==============================] - 4s 14ms/step - loss: 1.1646 - accuracy: 0.5572 - val_loss: 1.1299 - val_accuracy: 0.6051 - lr: 1.0000e-04\n",
      "Epoch 61/200\n",
      "276/276 [==============================] - 4s 14ms/step - loss: 1.1194 - accuracy: 0.5833 - val_loss: 1.1170 - val_accuracy: 0.6205 - lr: 1.0000e-04\n",
      "Epoch 62/200\n",
      "276/276 [==============================] - 4s 14ms/step - loss: 1.1248 - accuracy: 0.5772 - val_loss: 1.1176 - val_accuracy: 0.5949 - lr: 1.0000e-04\n",
      "Epoch 63/200\n",
      "276/276 [==============================] - 4s 14ms/step - loss: 1.1303 - accuracy: 0.5822 - val_loss: 1.1334 - val_accuracy: 0.6000 - lr: 1.0000e-04\n",
      "Epoch 64/200\n",
      "276/276 [==============================] - 4s 14ms/step - loss: 1.1256 - accuracy: 0.5774 - val_loss: 1.1270 - val_accuracy: 0.6308 - lr: 1.0000e-04\n",
      "Epoch 65/200\n",
      "276/276 [==============================] - 4s 14ms/step - loss: 1.1084 - accuracy: 0.5908 - val_loss: 1.1101 - val_accuracy: 0.6154 - lr: 1.0000e-04\n",
      "Epoch 66/200\n",
      "276/276 [==============================] - 4s 14ms/step - loss: 1.0910 - accuracy: 0.5983 - val_loss: 1.1178 - val_accuracy: 0.6205 - lr: 1.0000e-04\n",
      "Epoch 67/200\n",
      "276/276 [==============================] - 4s 14ms/step - loss: 1.1095 - accuracy: 0.5886 - val_loss: 1.1135 - val_accuracy: 0.6462 - lr: 1.0000e-04\n",
      "Epoch 68/200\n",
      "276/276 [==============================] - 4s 14ms/step - loss: 1.0745 - accuracy: 0.6072 - val_loss: 1.1082 - val_accuracy: 0.6154 - lr: 1.0000e-04\n",
      "Epoch 69/200\n",
      "276/276 [==============================] - 4s 14ms/step - loss: 1.0731 - accuracy: 0.5981 - val_loss: 1.1044 - val_accuracy: 0.6103 - lr: 1.0000e-04\n",
      "Epoch 70/200\n",
      "276/276 [==============================] - 4s 14ms/step - loss: 1.0606 - accuracy: 0.6010 - val_loss: 1.1193 - val_accuracy: 0.6051 - lr: 1.0000e-04\n",
      "Epoch 71/200\n",
      "276/276 [==============================] - 4s 14ms/step - loss: 1.0504 - accuracy: 0.6026 - val_loss: 1.0995 - val_accuracy: 0.6103 - lr: 1.0000e-04\n",
      "Epoch 72/200\n",
      "276/276 [==============================] - 4s 14ms/step - loss: 1.0343 - accuracy: 0.6201 - val_loss: 1.1003 - val_accuracy: 0.6154 - lr: 1.0000e-04\n",
      "Epoch 73/200\n",
      "276/276 [==============================] - 4s 14ms/step - loss: 1.0346 - accuracy: 0.6188 - val_loss: 1.1123 - val_accuracy: 0.6154 - lr: 1.0000e-04\n",
      "Epoch 74/200\n",
      "276/276 [==============================] - 4s 14ms/step - loss: 1.0400 - accuracy: 0.6142 - val_loss: 1.0780 - val_accuracy: 0.6256 - lr: 1.0000e-04\n",
      "Epoch 75/200\n",
      "276/276 [==============================] - 4s 14ms/step - loss: 1.0262 - accuracy: 0.6163 - val_loss: 1.1034 - val_accuracy: 0.6205 - lr: 1.0000e-04\n",
      "Epoch 76/200\n",
      "276/276 [==============================] - 4s 14ms/step - loss: 1.0260 - accuracy: 0.6092 - val_loss: 1.1004 - val_accuracy: 0.6154 - lr: 1.0000e-04\n",
      "Epoch 77/200\n",
      "276/276 [==============================] - 4s 14ms/step - loss: 1.0073 - accuracy: 0.6294 - val_loss: 1.0959 - val_accuracy: 0.6359 - lr: 1.0000e-04\n",
      "Epoch 78/200\n",
      "276/276 [==============================] - 4s 14ms/step - loss: 1.0194 - accuracy: 0.6117 - val_loss: 1.0968 - val_accuracy: 0.6051 - lr: 1.0000e-04\n",
      "Epoch 79/200\n",
      "276/276 [==============================] - 4s 14ms/step - loss: 1.0021 - accuracy: 0.6337 - val_loss: 1.0854 - val_accuracy: 0.6308 - lr: 1.0000e-04\n",
      "Epoch 80/200\n",
      "276/276 [==============================] - 4s 14ms/step - loss: 1.0070 - accuracy: 0.6310 - val_loss: 1.0655 - val_accuracy: 0.6462 - lr: 1.0000e-04\n",
      "Epoch 81/200\n",
      "276/276 [==============================] - 4s 14ms/step - loss: 0.9934 - accuracy: 0.6274 - val_loss: 1.0665 - val_accuracy: 0.6154 - lr: 1.0000e-04\n",
      "Epoch 82/200\n",
      "276/276 [==============================] - 4s 14ms/step - loss: 0.9818 - accuracy: 0.6394 - val_loss: 1.0482 - val_accuracy: 0.6359 - lr: 1.0000e-04\n",
      "Epoch 83/200\n",
      "276/276 [==============================] - 4s 14ms/step - loss: 0.9814 - accuracy: 0.6367 - val_loss: 1.0696 - val_accuracy: 0.6103 - lr: 1.0000e-04\n",
      "Epoch 84/200\n",
      "276/276 [==============================] - 4s 14ms/step - loss: 0.9670 - accuracy: 0.6394 - val_loss: 1.0507 - val_accuracy: 0.6359 - lr: 1.0000e-04\n",
      "Epoch 85/200\n",
      "276/276 [==============================] - 4s 14ms/step - loss: 0.9423 - accuracy: 0.6528 - val_loss: 1.0761 - val_accuracy: 0.6410 - lr: 1.0000e-04\n",
      "Epoch 86/200\n",
      "276/276 [==============================] - 4s 14ms/step - loss: 0.9498 - accuracy: 0.6469 - val_loss: 1.0362 - val_accuracy: 0.6513 - lr: 1.0000e-04\n",
      "Epoch 87/200\n",
      "276/276 [==============================] - 4s 14ms/step - loss: 0.9460 - accuracy: 0.6490 - val_loss: 1.0348 - val_accuracy: 0.6615 - lr: 1.0000e-04\n",
      "Epoch 88/200\n",
      "276/276 [==============================] - 4s 15ms/step - loss: 0.9358 - accuracy: 0.6521 - val_loss: 1.0606 - val_accuracy: 0.6359 - lr: 1.0000e-04\n",
      "Epoch 89/200\n",
      "276/276 [==============================] - 4s 14ms/step - loss: 0.9481 - accuracy: 0.6458 - val_loss: 1.0451 - val_accuracy: 0.6410 - lr: 1.0000e-04\n",
      "Epoch 90/200\n",
      "276/276 [==============================] - 4s 14ms/step - loss: 0.9300 - accuracy: 0.6644 - val_loss: 1.0467 - val_accuracy: 0.6615 - lr: 1.0000e-04\n",
      "Epoch 91/200\n",
      "276/276 [==============================] - 4s 14ms/step - loss: 0.9256 - accuracy: 0.6549 - val_loss: 1.0587 - val_accuracy: 0.6256 - lr: 1.0000e-04\n",
      "Epoch 92/200\n",
      "276/276 [==============================] - 4s 14ms/step - loss: 0.9068 - accuracy: 0.6680 - val_loss: 1.0264 - val_accuracy: 0.6205 - lr: 1.0000e-04\n",
      "Epoch 93/200\n",
      "276/276 [==============================] - 4s 14ms/step - loss: 0.9029 - accuracy: 0.6712 - val_loss: 1.0270 - val_accuracy: 0.6410 - lr: 1.0000e-04\n",
      "Epoch 94/200\n",
      "276/276 [==============================] - 4s 14ms/step - loss: 0.9133 - accuracy: 0.6639 - val_loss: 1.0540 - val_accuracy: 0.6359 - lr: 1.0000e-04\n",
      "Epoch 95/200\n",
      "276/276 [==============================] - 4s 14ms/step - loss: 0.9092 - accuracy: 0.6662 - val_loss: 1.0606 - val_accuracy: 0.6256 - lr: 1.0000e-04\n",
      "Epoch 96/200\n",
      "276/276 [==============================] - 4s 14ms/step - loss: 0.8791 - accuracy: 0.6726 - val_loss: 1.0166 - val_accuracy: 0.6462 - lr: 1.0000e-04\n",
      "Epoch 97/200\n",
      "276/276 [==============================] - 4s 14ms/step - loss: 0.9006 - accuracy: 0.6633 - val_loss: 1.0303 - val_accuracy: 0.6615 - lr: 1.0000e-04\n",
      "Epoch 98/200\n",
      "276/276 [==============================] - 4s 14ms/step - loss: 0.8626 - accuracy: 0.6821 - val_loss: 1.0181 - val_accuracy: 0.6359 - lr: 1.0000e-04\n",
      "Epoch 99/200\n",
      "276/276 [==============================] - 4s 14ms/step - loss: 0.8859 - accuracy: 0.6726 - val_loss: 1.0213 - val_accuracy: 0.6308 - lr: 1.0000e-04\n",
      "Epoch 100/200\n",
      "276/276 [==============================] - 4s 14ms/step - loss: 0.8479 - accuracy: 0.6846 - val_loss: 1.0476 - val_accuracy: 0.6154 - lr: 1.0000e-04\n",
      "Epoch 101/200\n",
      "276/276 [==============================] - 4s 14ms/step - loss: 0.8698 - accuracy: 0.6807 - val_loss: 1.0409 - val_accuracy: 0.6359 - lr: 1.0000e-04\n",
      "Epoch 102/200\n",
      "276/276 [==============================] - 4s 14ms/step - loss: 0.8445 - accuracy: 0.6916 - val_loss: 1.0338 - val_accuracy: 0.6462 - lr: 1.0000e-04\n",
      "Epoch 103/200\n",
      "276/276 [==============================] - 4s 14ms/step - loss: 0.8389 - accuracy: 0.6928 - val_loss: 1.0202 - val_accuracy: 0.6513 - lr: 1.0000e-04\n",
      "Epoch 104/200\n",
      "276/276 [==============================] - 4s 14ms/step - loss: 0.8625 - accuracy: 0.6837 - val_loss: 1.0280 - val_accuracy: 0.6359 - lr: 8.0000e-05\n",
      "Epoch 105/200\n",
      "276/276 [==============================] - 4s 14ms/step - loss: 0.8278 - accuracy: 0.6975 - val_loss: 1.0167 - val_accuracy: 0.6462 - lr: 8.0000e-05\n",
      "Epoch 106/200\n",
      "276/276 [==============================] - 4s 15ms/step - loss: 0.8199 - accuracy: 0.7037 - val_loss: 1.0362 - val_accuracy: 0.6410 - lr: 8.0000e-05\n",
      "Epoch 107/200\n",
      "276/276 [==============================] - 4s 14ms/step - loss: 0.8296 - accuracy: 0.6914 - val_loss: 1.0022 - val_accuracy: 0.6513 - lr: 8.0000e-05\n",
      "Epoch 108/200\n",
      "276/276 [==============================] - 4s 15ms/step - loss: 0.8344 - accuracy: 0.6846 - val_loss: 1.0387 - val_accuracy: 0.6308 - lr: 8.0000e-05\n",
      "Epoch 109/200\n",
      "276/276 [==============================] - 4s 14ms/step - loss: 0.8251 - accuracy: 0.6905 - val_loss: 0.9919 - val_accuracy: 0.6615 - lr: 8.0000e-05\n",
      "Epoch 110/200\n",
      "276/276 [==============================] - 4s 14ms/step - loss: 0.7909 - accuracy: 0.7100 - val_loss: 0.9832 - val_accuracy: 0.6718 - lr: 8.0000e-05\n",
      "Epoch 111/200\n",
      "276/276 [==============================] - 4s 15ms/step - loss: 0.8038 - accuracy: 0.7030 - val_loss: 0.9981 - val_accuracy: 0.6667 - lr: 8.0000e-05\n",
      "Epoch 112/200\n",
      "276/276 [==============================] - 4s 15ms/step - loss: 0.7897 - accuracy: 0.6994 - val_loss: 1.0017 - val_accuracy: 0.6667 - lr: 8.0000e-05\n",
      "Epoch 113/200\n",
      "276/276 [==============================] - 4s 14ms/step - loss: 0.7936 - accuracy: 0.7094 - val_loss: 1.0072 - val_accuracy: 0.6718 - lr: 8.0000e-05\n",
      "Epoch 114/200\n",
      "276/276 [==============================] - 4s 14ms/step - loss: 0.7847 - accuracy: 0.7084 - val_loss: 0.9792 - val_accuracy: 0.6769 - lr: 8.0000e-05\n",
      "Epoch 115/200\n",
      "276/276 [==============================] - 4s 14ms/step - loss: 0.7763 - accuracy: 0.7157 - val_loss: 0.9927 - val_accuracy: 0.6667 - lr: 8.0000e-05\n",
      "Epoch 116/200\n",
      "276/276 [==============================] - 4s 14ms/step - loss: 0.7795 - accuracy: 0.7107 - val_loss: 0.9910 - val_accuracy: 0.6923 - lr: 8.0000e-05\n",
      "Epoch 117/200\n",
      "276/276 [==============================] - 4s 14ms/step - loss: 0.7636 - accuracy: 0.7132 - val_loss: 0.9959 - val_accuracy: 0.6667 - lr: 8.0000e-05\n",
      "Epoch 118/200\n",
      "276/276 [==============================] - 4s 14ms/step - loss: 0.7734 - accuracy: 0.7128 - val_loss: 1.0110 - val_accuracy: 0.6718 - lr: 8.0000e-05\n",
      "Epoch 119/200\n",
      "276/276 [==============================] - 4s 14ms/step - loss: 0.7736 - accuracy: 0.7155 - val_loss: 1.0404 - val_accuracy: 0.6359 - lr: 8.0000e-05\n",
      "Epoch 120/200\n",
      "276/276 [==============================] - 4s 14ms/step - loss: 0.7711 - accuracy: 0.7141 - val_loss: 0.9946 - val_accuracy: 0.6718 - lr: 8.0000e-05\n",
      "Epoch 121/200\n",
      "276/276 [==============================] - 4s 14ms/step - loss: 0.7461 - accuracy: 0.7218 - val_loss: 1.0217 - val_accuracy: 0.6718 - lr: 8.0000e-05\n",
      "Epoch 122/200\n",
      "276/276 [==============================] - 4s 14ms/step - loss: 0.7364 - accuracy: 0.7266 - val_loss: 0.9935 - val_accuracy: 0.6821 - lr: 6.4000e-05\n",
      "Epoch 123/200\n",
      "276/276 [==============================] - 4s 14ms/step - loss: 0.7292 - accuracy: 0.7330 - val_loss: 0.9795 - val_accuracy: 0.6821 - lr: 6.4000e-05\n",
      "Epoch 124/200\n",
      "276/276 [==============================] - 4s 14ms/step - loss: 0.7649 - accuracy: 0.7159 - val_loss: 0.9838 - val_accuracy: 0.6718 - lr: 6.4000e-05\n",
      "Epoch 125/200\n",
      "276/276 [==============================] - 4s 14ms/step - loss: 0.7366 - accuracy: 0.7393 - val_loss: 0.9889 - val_accuracy: 0.6872 - lr: 6.4000e-05\n",
      "Epoch 126/200\n",
      "276/276 [==============================] - 4s 14ms/step - loss: 0.7356 - accuracy: 0.7277 - val_loss: 0.9751 - val_accuracy: 0.6769 - lr: 6.4000e-05\n",
      "Epoch 127/200\n",
      "276/276 [==============================] - 4s 14ms/step - loss: 0.7284 - accuracy: 0.7321 - val_loss: 1.0102 - val_accuracy: 0.6513 - lr: 6.4000e-05\n",
      "Epoch 128/200\n",
      "276/276 [==============================] - 4s 14ms/step - loss: 0.7391 - accuracy: 0.7273 - val_loss: 1.0065 - val_accuracy: 0.6667 - lr: 6.4000e-05\n",
      "Epoch 129/200\n",
      "276/276 [==============================] - 4s 14ms/step - loss: 0.7317 - accuracy: 0.7325 - val_loss: 1.0189 - val_accuracy: 0.6667 - lr: 6.4000e-05\n",
      "Epoch 130/200\n",
      "276/276 [==============================] - 4s 14ms/step - loss: 0.7056 - accuracy: 0.7436 - val_loss: 1.0142 - val_accuracy: 0.6667 - lr: 6.4000e-05\n",
      "Epoch 131/200\n",
      "276/276 [==============================] - 4s 14ms/step - loss: 0.7304 - accuracy: 0.7289 - val_loss: 0.9970 - val_accuracy: 0.6821 - lr: 6.4000e-05\n",
      "Epoch 132/200\n",
      "276/276 [==============================] - 4s 14ms/step - loss: 0.7209 - accuracy: 0.7264 - val_loss: 0.9959 - val_accuracy: 0.6667 - lr: 6.4000e-05\n",
      "Epoch 133/200\n",
      "276/276 [==============================] - 4s 14ms/step - loss: 0.7008 - accuracy: 0.7414 - val_loss: 0.9976 - val_accuracy: 0.6513 - lr: 6.4000e-05\n",
      "Epoch 134/200\n",
      "276/276 [==============================] - 4s 14ms/step - loss: 0.6716 - accuracy: 0.7570 - val_loss: 0.9891 - val_accuracy: 0.6615 - lr: 5.1200e-05\n",
      "Epoch 135/200\n",
      "276/276 [==============================] - 4s 14ms/step - loss: 0.6908 - accuracy: 0.7466 - val_loss: 1.0092 - val_accuracy: 0.6769 - lr: 5.1200e-05\n",
      "Epoch 136/200\n",
      "276/276 [==============================] - 4s 14ms/step - loss: 0.6876 - accuracy: 0.7489 - val_loss: 0.9918 - val_accuracy: 0.6615 - lr: 5.1200e-05\n",
      "Epoch 137/200\n",
      "276/276 [==============================] - 4s 14ms/step - loss: 0.7078 - accuracy: 0.7416 - val_loss: 0.9864 - val_accuracy: 0.6821 - lr: 5.1200e-05\n",
      "Epoch 138/200\n",
      "276/276 [==============================] - 4s 14ms/step - loss: 0.6697 - accuracy: 0.7489 - val_loss: 0.9780 - val_accuracy: 0.7026 - lr: 5.1200e-05\n",
      "Epoch 139/200\n",
      "276/276 [==============================] - 4s 14ms/step - loss: 0.6770 - accuracy: 0.7543 - val_loss: 0.9761 - val_accuracy: 0.6974 - lr: 5.1200e-05\n",
      "Epoch 140/200\n",
      "276/276 [==============================] - 4s 14ms/step - loss: 0.6877 - accuracy: 0.7498 - val_loss: 0.9766 - val_accuracy: 0.6872 - lr: 5.1200e-05\n",
      "Epoch 141/200\n",
      "276/276 [==============================] - 4s 14ms/step - loss: 0.6916 - accuracy: 0.7443 - val_loss: 0.9834 - val_accuracy: 0.6821 - lr: 4.0960e-05\n",
      "Epoch 142/200\n",
      "276/276 [==============================] - 4s 14ms/step - loss: 0.6795 - accuracy: 0.7493 - val_loss: 1.0077 - val_accuracy: 0.6718 - lr: 4.0960e-05\n",
      "Epoch 143/200\n",
      "276/276 [==============================] - 4s 14ms/step - loss: 0.6663 - accuracy: 0.7627 - val_loss: 0.9913 - val_accuracy: 0.6872 - lr: 4.0960e-05\n",
      "Epoch 144/200\n",
      "276/276 [==============================] - 4s 14ms/step - loss: 0.6789 - accuracy: 0.7559 - val_loss: 0.9979 - val_accuracy: 0.6821 - lr: 4.0960e-05\n",
      "Epoch 145/200\n",
      "276/276 [==============================] - 4s 14ms/step - loss: 0.6862 - accuracy: 0.7441 - val_loss: 1.0060 - val_accuracy: 0.6718 - lr: 4.0960e-05\n",
      "Epoch 146/200\n",
      "276/276 [==============================] - 4s 14ms/step - loss: 0.6720 - accuracy: 0.7564 - val_loss: 0.9922 - val_accuracy: 0.6821 - lr: 4.0960e-05\n",
      "Epoch 147/200\n",
      "276/276 [==============================] - 4s 14ms/step - loss: 0.6474 - accuracy: 0.7663 - val_loss: 0.9833 - val_accuracy: 0.6872 - lr: 4.0960e-05\n",
      "Epoch 148/200\n",
      "276/276 [==============================] - 4s 15ms/step - loss: 0.6464 - accuracy: 0.7666 - val_loss: 1.0035 - val_accuracy: 0.6821 - lr: 3.2768e-05\n",
      "Epoch 149/200\n",
      "276/276 [==============================] - 4s 15ms/step - loss: 0.6504 - accuracy: 0.7627 - val_loss: 0.9914 - val_accuracy: 0.6821 - lr: 3.2768e-05\n",
      "Epoch 150/200\n",
      "276/276 [==============================] - 5s 17ms/step - loss: 0.6457 - accuracy: 0.7661 - val_loss: 0.9841 - val_accuracy: 0.6923 - lr: 3.2768e-05\n",
      "Epoch 151/200\n",
      "276/276 [==============================] - 4s 15ms/step - loss: 0.6506 - accuracy: 0.7600 - val_loss: 0.9997 - val_accuracy: 0.6821 - lr: 3.2768e-05\n",
      "Epoch 152/200\n",
      "276/276 [==============================] - 4s 14ms/step - loss: 0.6337 - accuracy: 0.7718 - val_loss: 0.9930 - val_accuracy: 0.6923 - lr: 3.2768e-05\n",
      "Epoch 153/200\n",
      "276/276 [==============================] - 4s 14ms/step - loss: 0.6532 - accuracy: 0.7575 - val_loss: 0.9851 - val_accuracy: 0.6974 - lr: 3.2768e-05\n",
      "Epoch 154/200\n",
      "276/276 [==============================] - 4s 14ms/step - loss: 0.6591 - accuracy: 0.7593 - val_loss: 0.9813 - val_accuracy: 0.6872 - lr: 3.2768e-05\n",
      "Epoch 155/200\n",
      "276/276 [==============================] - 4s 14ms/step - loss: 0.6510 - accuracy: 0.7577 - val_loss: 0.9948 - val_accuracy: 0.6923 - lr: 2.6214e-05\n",
      "Epoch 156/200\n",
      "276/276 [==============================] - 4s 14ms/step - loss: 0.6210 - accuracy: 0.7761 - val_loss: 0.9980 - val_accuracy: 0.6872 - lr: 2.6214e-05\n",
      "144/144 [==============================] - 4s 22ms/step - loss: 0.7401 - accuracy: 0.7367\n",
      "INFO:tensorflow:Assets written to: models/Conv2DClassifier\\assets\n"
     ]
    },
    {
     "data": {
      "text/plain": [
       "['results/OptimizedConv2DHistory']"
      ]
     },
     "execution_count": 40,
     "metadata": {},
     "output_type": "execute_result"
    }
   ],
   "source": [
    "optimized_history = optimized_keras.fit(X_train_keras, y_train_cat, batch_size=16,\n",
    "                                    epochs=200, validation_data=(X_val_keras, y_val_cat),\n",
    "                                    shuffle=True, callbacks=[keras.callbacks.EarlyStopping(patience=30, restore_best_weights=True),\n",
    "                                                             keras.callbacks.ReduceLROnPlateau(factor=0.8, patience=7)])\n",
    "\n",
    "X_keras = np.concatenate((X_train_keras, X_val_keras))\n",
    "y_cat = np.concatenate((y_train_cat, y_val_cat))\n",
    "\n",
    "optimized_keras.fit(X_keras, y_cat, epochs=1)\n",
    "\n",
    "optimized_keras.save('models/Conv2DClassifier')\n",
    "joblib.dump(optimized_history.history, 'results/OptimizedConv2DHistory')"
   ]
  },
  {
   "cell_type": "code",
   "execution_count": 41,
   "id": "a154136f-2f98-4d71-a59c-6f6551c20b9a",
   "metadata": {},
   "outputs": [
    {
     "name": "stdout",
     "output_type": "stream",
     "text": [
      "Best lowest validation loss on epoch: 126\n",
      "\n"
     ]
    },
    {
     "data": {
      "image/png": "[encoded data removed]",
      "text/plain": [
       "<Figure size 864x432 with 2 Axes>"
      ]
     },
     "metadata": {
      "needs_background": "light"
     },
     "output_type": "display_data"
    }
   ],
   "source": [
    "optimized_history = joblib.load('results/optimizedConv2DHistory')\n",
    "plot_metrics(optimized_history)"
   ]
  },
  {
   "cell_type": "code",
   "execution_count": null,
   "id": "82aad463-fed8-4341-b844-028de40bc962",
   "metadata": {
    "jupyter": {
     "source_hidden": true
    },
    "tags": []
   },
   "outputs": [],
   "source": [
    "callbacks=[keras.callbacks.EarlyStopping(patience=30, restore_best_weights=True),\n",
    "           keras.callbacks.ReduceLROnPlateau(monitor='val_loss', factor=0.5, patience=7, verbose=1)]\n",
    "\n",
    "better_scores = keras_cv(create_optimized_model, X, y, StratifiedKFold(n_splits=4), 1, callbacks=callbacks)\n",
    "\n",
    "joblib.dump(better_scores, 'results/OptimizedConv2DResults')"
   ]
  },
  {
   "cell_type": "code",
   "execution_count": 14,
   "id": "1d3c2974-53c6-4022-a4a1-fd839f4c9876",
   "metadata": {
    "jupyter": {
     "source_hidden": true
    },
    "tags": []
   },
   "outputs": [
    {
     "name": "stdout",
     "output_type": "stream",
     "text": [
      "\n",
      "==== Cross-validation metrics ====\n",
      "\n",
      "With Optimized Keras Conv2D Classifier:\n",
      "\n",
      "Mean F1-score: 0.8788626580612111\n",
      "Standard deviation: 0.011527596159019793\n",
      "\n",
      "============== END ===============\n",
      "\n"
     ]
    }
   ],
   "source": [
    "better_scores = joblib.load('results/OptimizedConv2DResults')\n",
    "\n",
    "mean_score = np.mean(better_scores)\n",
    "std = np.std(better_scores)\n",
    "\n",
    "print('\\n==== Cross-validation metrics ====\\n')\n",
    "print(f'With Optimized Keras Conv2D Classifier:\\n')\n",
    "print(f\"Mean F1-score: {mean_score}\")\n",
    "print(f\"Standard deviation: {std}\\n\")\n",
    "print('============== END ===============\\n')"
   ]
  },
  {
   "cell_type": "markdown",
   "id": "c29c75ea-6bc1-4047-a8c3-1e4db945ff6e",
   "metadata": {},
   "source": [
    "## Out-of-sample evaluation for all classifiers"
   ]
  },
  {
   "cell_type": "code",
   "execution_count": 16,
   "id": "052f3a04-9d81-402a-9c0f-4ababedaf057",
   "metadata": {},
   "outputs": [
    {
     "data": {
      "image/png": "[encoded data removed]",
      "text/plain": [
       "<Figure size 1872x1008 with 12 Axes>"
      ]
     },
     "metadata": {
      "needs_background": "light"
     },
     "output_type": "display_data"
    },
    {
     "name": "stdout",
     "output_type": "stream",
     "text": [
      "\n",
      "========= Evaluation ==========\n",
      "\n",
      "With estimator: MLPClassifier\n",
      "\n",
      "F1-score: 0.765\n",
      "Accuracy: 0.771\n",
      "\n",
      "============ END ==============\n",
      "\n",
      "\n",
      "========= Evaluation ==========\n",
      "\n",
      "With estimator: SVC\n",
      "\n",
      "F1-score: 0.752\n",
      "Accuracy: 0.757\n",
      "\n",
      "============ END ==============\n",
      "\n",
      "\n",
      "========= Evaluation ==========\n",
      "\n",
      "With estimator: Conv2DClassifier\n",
      "\n",
      "F1-score: 0.709\n",
      "Accuracy: 0.708\n",
      "\n",
      "============ END ==============\n",
      "\n",
      "\n",
      "========= Evaluation ==========\n",
      "\n",
      "With estimator: XGBClassifier\n",
      "\n",
      "F1-score: 0.691\n",
      "Accuracy: 0.701\n",
      "\n",
      "============ END ==============\n",
      "\n",
      "\n",
      "========= Evaluation ==========\n",
      "\n",
      "With estimator: RandomForestClassifier\n",
      "\n",
      "F1-score: 0.649\n",
      "Accuracy: 0.653\n",
      "\n",
      "============ END ==============\n",
      "\n",
      "\n",
      "========= Evaluation ==========\n",
      "\n",
      "With estimator: LogisticRegression\n",
      "\n",
      "F1-score: 0.634\n",
      "Accuracy: 0.639\n",
      "\n",
      "============ END ==============\n",
      "\n"
     ]
    }
   ],
   "source": [
    "X_test, X_test_keras, y_test = joblib.load('data/X_test'), joblib.load('data/X_test_keras'), joblib.load('data/y_test')\n",
    "\n",
    "names = ['LogisticRegression', 'SVC', 'RandomForestClassifier', 'MLPClassifier', 'XGBClassifier']\n",
    "\n",
    "clfs = [joblib.load('models/'+name) for name in names]\n",
    "\n",
    "temp = [(name, clf.predict(X_test), f1_score(y_test, clf.predict(X_test), average='macro')) for clf, name in zip(clfs, names)]\n",
    "\n",
    "clf_keras = keras.models.load_model('models/Conv2DClassifier')\n",
    "y_pred_keras = np.argmax(clf_keras.predict(X_test_keras), axis=-1)\n",
    "f1_keras = f1_score(y_test, y_pred_keras, average='macro')\n",
    "\n",
    "temp.append(('Conv2DClassifier', y_pred_keras, f1_keras))\n",
    "\n",
    "sorted_clfs = sorted(temp, key= lambda x: x[2], reverse=True)\n",
    "\n",
    "fig, axs = plt.subplots(2, 3, figsize=(26,14))\n",
    "\n",
    "axlist = axs.flatten()\n",
    "\n",
    "for ax, (name, y_pred, f1) in zip(axlist, sorted_clfs):\n",
    "    \n",
    "    cm = confusion_matrix(y_test, y_pred)\n",
    "    fp = cm.sum(axis=0) - np.diag(cm)  \n",
    "    sns.heatmap(cm, annot=True, ax=ax, fmt='d', cmap='copper', xticklabels=target_labels, yticklabels=target_labels)\n",
    "    ax.set_title(f'{name}\\nTotal number of false predictions: {sum(fp)}/{len(y_test)}')\n",
    "    \n",
    "plt.suptitle('Confusion matrcises for predictions of unseen data', fontsize=14, y=0.95)\n",
    "plt.show()\n",
    "\n",
    "for name, y_pred, f1 in sorted_clfs:\n",
    "\n",
    "    print('\\n========= Evaluation ==========\\n')\n",
    "    print(f'With estimator: {name}\\n')\n",
    "    print(f\"F1-score: {round(f1, 3)}\")\n",
    "    print(f\"Accuracy: {round(accuracy_score(y_test, y_pred), 3)}\\n\")\n",
    "    print('============ END ==============\\n')"
   ]
  }
 ],
 "metadata": {
  "kernelspec": {
   "display_name": "Python 3 (ipykernel)",
   "language": "python",
   "name": "python3"
  },
  "language_info": {
   "codemirror_mode": {
    "name": "ipython",
    "version": 3
   },
   "file_extension": ".py",
   "mimetype": "text/x-python",
   "name": "python",
   "nbconvert_exporter": "python",
   "pygments_lexer": "ipython3",
   "version": "3.9.7"
  }
 },
 "nbformat": 4,
 "nbformat_minor": 5
}
